{
 "cells": [
  {
   "cell_type": "markdown",
   "metadata": {},
   "source": [
    "# Procesamiento paralelo\n",
    "Una de las librerias que nos permite el procesamiento paralelo de procesos es `multiprocessing`.\n",
    "\n",
    "Para mayor entendimiento de la libreria por favor remitirse a:\n",
    "* https://docs.python.org/3/library/multiprocessing.html\n",
    "* https://machinelearningmastery.com/multiprocessing-in-python/\n",
    "* https://towardsdatascience.com/parallelism-with-python-part-1-196f0458ca14"
   ]
  },
  {
   "cell_type": "code",
   "execution_count": 1,
   "metadata": {},
   "outputs": [],
   "source": [
    "import multiprocessing as mp\n",
    "import time"
   ]
  },
  {
   "cell_type": "markdown",
   "metadata": {},
   "source": [
    "Es indispensable para poder usar la capacidad de procesamiento paralelo dentro de un `notebook` crear un archivo `.py` con la funcion o funciones que se van a paralelizar.\n",
    "\n",
    "Para el ejercicio se creo un archivo llamado `workers_mp.py` con las funciones `dummy_worker` y `dummy_worker_error`\n",
    "\n",
    "Estas funciones realizar operaciones aleatorias, `dummy_worker_error` adicionalmente presenta errores de forma aleatoria, para poder simular errores."
   ]
  },
  {
   "cell_type": "code",
   "execution_count": 2,
   "metadata": {},
   "outputs": [],
   "source": [
    "from workers_mp import dummy_worker, dummy_worker_error, dummy_worker_int_str"
   ]
  },
  {
   "cell_type": "markdown",
   "metadata": {},
   "source": [
    "Como recomendacion no usar todos los nucleos, cuando se vaya a procesar ya que puede incurrir en bloqueos de la maquina, a continuacion se dejan libres el 20% de los nucleos, si por alguna razon el 20% es menor a 1, se deja un nuleo disponible."
   ]
  },
  {
   "cell_type": "code",
   "execution_count": 3,
   "metadata": {},
   "outputs": [
    {
     "name": "stdout",
     "output_type": "stream",
     "text": [
      "#cores=4, #cores to use=3\n"
     ]
    }
   ],
   "source": [
    "numbers_of_cores = mp.cpu_count()\n",
    "numbers_2_use = numbers_of_cores - int(round(numbers_of_cores*0.2,0))\n",
    "if numbers_of_cores==numbers_2_use:\n",
    "    numbers_2_use = numbers_2_use-1\n",
    "print(f\"#cores={numbers_of_cores}, #cores to use={numbers_2_use}\")"
   ]
  },
  {
   "cell_type": "markdown",
   "metadata": {},
   "source": [
    "argumentos de prueba:"
   ]
  },
  {
   "cell_type": "code",
   "execution_count": 4,
   "metadata": {},
   "outputs": [
    {
     "data": {
      "text/plain": [
       "[0, 1, 2, 3, 4, 5, 6, 7, 8, 9, 10, 11, 12, 13, 14, 15, 16, 17, 18, 19]"
      ]
     },
     "execution_count": 4,
     "metadata": {},
     "output_type": "execute_result"
    }
   ],
   "source": [
    "args = [x for x in range(20)]\n",
    "args"
   ]
  },
  {
   "cell_type": "markdown",
   "metadata": {},
   "source": [
    "# Ejecusiones de prueba"
   ]
  },
  {
   "cell_type": "markdown",
   "metadata": {},
   "source": [
    "## Serial"
   ]
  },
  {
   "cell_type": "code",
   "execution_count": 5,
   "metadata": {},
   "outputs": [
    {
     "name": "stdout",
     "output_type": "stream",
     "text": [
      "T(serial)= 30.117814779281616\n"
     ]
    }
   ],
   "source": [
    "## serial\n",
    "start = time.time()\n",
    "results = list()\n",
    "for i in args:\n",
    "    d = dummy_worker(i)\n",
    "    results.append(d)\n",
    "print(\"T(serial)=\", time.time()-start)"
   ]
  },
  {
   "cell_type": "code",
   "execution_count": 6,
   "metadata": {},
   "outputs": [
    {
     "data": {
      "text/plain": [
       "[{'a': 0, 'i': 8, 'i2': 8},\n",
       " {'a': 1, 'i': 4, 'i2': 5},\n",
       " {'a': 2, 'i': 9, 'i2': 11},\n",
       " {'a': 3, 'i': 3, 'i2': 6},\n",
       " {'a': 4, 'i': 2, 'i2': 6},\n",
       " {'a': 5, 'i': 2, 'i2': 7},\n",
       " {'a': 6, 'i': 6, 'i2': 12},\n",
       " {'a': 7, 'i': 4, 'i2': 11},\n",
       " {'a': 8, 'i': 8, 'i2': 16},\n",
       " {'a': 9, 'i': 1, 'i2': 10},\n",
       " {'a': 10, 'i': 5, 'i2': 15},\n",
       " {'a': 11, 'i': 4, 'i2': 15},\n",
       " {'a': 12, 'i': 8, 'i2': 20},\n",
       " {'a': 13, 'i': 5, 'i2': 18},\n",
       " {'a': 14, 'i': 6, 'i2': 20},\n",
       " {'a': 15, 'i': 3, 'i2': 18},\n",
       " {'a': 16, 'i': 2, 'i2': 18},\n",
       " {'a': 17, 'i': 6, 'i2': 23},\n",
       " {'a': 18, 'i': 8, 'i2': 26},\n",
       " {'a': 19, 'i': 10, 'i2': 29}]"
      ]
     },
     "execution_count": 6,
     "metadata": {},
     "output_type": "execute_result"
    }
   ],
   "source": [
    "results"
   ]
  },
  {
   "cell_type": "markdown",
   "metadata": {},
   "source": [
    "## starmap"
   ]
  },
  {
   "cell_type": "code",
   "execution_count": 7,
   "metadata": {},
   "outputs": [
    {
     "name": "stdout",
     "output_type": "stream",
     "text": [
      "T(starmap)= 12.467171669006348\n"
     ]
    },
    {
     "data": {
      "text/plain": [
       "[{'a': 0, 'i': 3, 'i2': 3},\n",
       " {'a': 1, 'i': 8, 'i2': 9},\n",
       " {'a': 2, 'i': 1, 'i2': 3},\n",
       " {'a': 3, 'i': 5, 'i2': 8},\n",
       " {'a': 4, 'i': 6, 'i2': 10},\n",
       " {'a': 5, 'i': 7, 'i2': 12},\n",
       " {'a': 6, 'i': 5, 'i2': 11},\n",
       " {'a': 7, 'i': 10, 'i2': 17},\n",
       " {'a': 8, 'i': 5, 'i2': 13},\n",
       " {'a': 9, 'i': 8, 'i2': 17},\n",
       " {'a': 10, 'i': 6, 'i2': 16},\n",
       " {'a': 11, 'i': 9, 'i2': 20},\n",
       " {'a': 12, 'i': 1, 'i2': 13},\n",
       " {'a': 13, 'i': 10, 'i2': 23},\n",
       " {'a': 14, 'i': 9, 'i2': 23},\n",
       " {'a': 15, 'i': 3, 'i2': 18},\n",
       " {'a': 16, 'i': 5, 'i2': 21},\n",
       " {'a': 17, 'i': 7, 'i2': 24},\n",
       " {'a': 18, 'i': 1, 'i2': 19},\n",
       " {'a': 19, 'i': 3, 'i2': 22}]"
      ]
     },
     "execution_count": 7,
     "metadata": {},
     "output_type": "execute_result"
    }
   ],
   "source": [
    "## starmap\n",
    "results = list()\n",
    "if __name__ ==  '__main__':\n",
    "    start=time.time()\n",
    "    with mp.Pool(processes=numbers_2_use) as p:\n",
    "        results = p.starmap(dummy_worker, [(x,) for x in args])     ## asi por que recibe una tupla por cada iteraccion\n",
    "    t_starmap = time.time()-start\n",
    "    print(\"T(starmap)=\", t_starmap)\n",
    "results"
   ]
  },
  {
   "cell_type": "markdown",
   "metadata": {},
   "source": [
    "## apply_async"
   ]
  },
  {
   "cell_type": "code",
   "execution_count": 8,
   "metadata": {},
   "outputs": [
    {
     "name": "stdout",
     "output_type": "stream",
     "text": [
      "T(apply_async)= 10.871059894561768\n"
     ]
    },
    {
     "data": {
      "text/plain": [
       "[{'a': 0, 'i': 3, 'i2': 3},\n",
       " {'a': 1, 'i': 10, 'i2': 11},\n",
       " {'a': 2, 'i': 1, 'i2': 3},\n",
       " {'a': 3, 'i': 8, 'i2': 11},\n",
       " {'a': 4, 'i': 1, 'i2': 5},\n",
       " {'a': 5, 'i': 2, 'i2': 7},\n",
       " {'a': 6, 'i': 6, 'i2': 12},\n",
       " {'a': 7, 'i': 4, 'i2': 11},\n",
       " {'a': 8, 'i': 2, 'i2': 10},\n",
       " {'a': 9, 'i': 8, 'i2': 17},\n",
       " {'a': 10, 'i': 10, 'i2': 20},\n",
       " {'a': 11, 'i': 7, 'i2': 18},\n",
       " {'a': 12, 'i': 5, 'i2': 17},\n",
       " {'a': 13, 'i': 4, 'i2': 17},\n",
       " {'a': 14, 'i': 5, 'i2': 19},\n",
       " {'a': 15, 'i': 10, 'i2': 25},\n",
       " {'a': 16, 'i': 4, 'i2': 20},\n",
       " {'a': 17, 'i': 9, 'i2': 26},\n",
       " {'a': 18, 'i': 7, 'i2': 25},\n",
       " {'a': 19, 'i': 9, 'i2': 28}]"
      ]
     },
     "execution_count": 8,
     "metadata": {},
     "output_type": "execute_result"
    }
   ],
   "source": [
    "# apply_async\n",
    "\n",
    "results = list()\n",
    "if __name__ ==  '__main__':\n",
    "    start=time.time()\n",
    "    with mp.Pool(processes=numbers_2_use) as p:\n",
    "        jobs = [p.apply_async(dummy_worker, (x,)) for x in args]\n",
    "        for j in jobs:\n",
    "            results.append(j.get())\n",
    "    t_apply_async = time.time()-start\n",
    "    print(\"T(apply_async)=\", t_apply_async)\n",
    "results"
   ]
  },
  {
   "cell_type": "code",
   "execution_count": 9,
   "metadata": {},
   "outputs": [
    {
     "name": "stdout",
     "output_type": "stream",
     "text": [
      "2 Dummy Error, value is 5\n",
      "5 Dummy Error, value is 0\n",
      "6 Dummy Error, value is 3\n",
      "9 Dummy Error, value is 5\n",
      "13 Dummy Error, value is 0\n",
      "14 Dummy Error, value is 3\n",
      "18 Dummy Error, value is 5\n",
      "T(apply_async+error)= 7.848949670791626\n"
     ]
    },
    {
     "data": {
      "text/plain": [
       "{0: {'params': 0, 'response': {'a': 0, 'i': 9, 'i2': 9}, 'error': None},\n",
       " 1: {'params': 1, 'response': {'a': 1, 'i': 2, 'i2': 3}, 'error': None},\n",
       " 2: {'params': 2, 'response': None, 'error': 'Dummy Error, value is 5'},\n",
       " 3: {'params': 3, 'response': {'a': 3, 'i': 4, 'i2': 7}, 'error': None},\n",
       " 4: {'params': 4, 'response': {'a': 4, 'i': 7, 'i2': 11}, 'error': None},\n",
       " 5: {'params': 5, 'response': None, 'error': 'Dummy Error, value is 0'},\n",
       " 6: {'params': 6, 'response': None, 'error': 'Dummy Error, value is 3'},\n",
       " 7: {'params': 7, 'response': {'a': 7, 'i': 1, 'i2': 8}, 'error': None},\n",
       " 8: {'params': 8, 'response': {'a': 8, 'i': 2, 'i2': 10}, 'error': None},\n",
       " 9: {'params': 9, 'response': None, 'error': 'Dummy Error, value is 5'},\n",
       " 10: {'params': 10, 'response': {'a': 10, 'i': 7, 'i2': 17}, 'error': None},\n",
       " 11: {'params': 11, 'response': {'a': 11, 'i': 2, 'i2': 13}, 'error': None},\n",
       " 12: {'params': 12, 'response': {'a': 12, 'i': 10, 'i2': 22}, 'error': None},\n",
       " 13: {'params': 13, 'response': None, 'error': 'Dummy Error, value is 0'},\n",
       " 14: {'params': 14, 'response': None, 'error': 'Dummy Error, value is 3'},\n",
       " 15: {'params': 15, 'response': {'a': 15, 'i': 1, 'i2': 16}, 'error': None},\n",
       " 16: {'params': 16, 'response': {'a': 16, 'i': 1, 'i2': 17}, 'error': None},\n",
       " 17: {'params': 17, 'response': {'a': 17, 'i': 7, 'i2': 24}, 'error': None},\n",
       " 18: {'params': 18, 'response': None, 'error': 'Dummy Error, value is 5'},\n",
       " 19: {'params': 19, 'response': {'a': 19, 'i': 2, 'i2': 21}, 'error': None}}"
      ]
     },
     "execution_count": 9,
     "metadata": {},
     "output_type": "execute_result"
    }
   ],
   "source": [
    "# apply_async has error!\n",
    "\n",
    "results = list()\n",
    "if __name__ ==  '__main__':\n",
    "    start=time.time()\n",
    "    with mp.Pool(processes=numbers_2_use) as p:\n",
    "        jobs = [(x, p.apply_async(dummy_worker_error, (x,))) for x in args]\n",
    "        for params,j in jobs:\n",
    "            try:\n",
    "                response = j.get()\n",
    "                results.append({\"response\": response, \"error\": None})\n",
    "                # print(params, response)\n",
    "            except Exception as e:\n",
    "                results.append({\"response\": None, \"error\": str(e)})\n",
    "                print(params, e)\n",
    "    t_apply_async_error = time.time()-start\n",
    "    print(\"T(apply_async+error)=\", t_apply_async_error)\n",
    "    \n",
    "    results = dict((i, dict(zip((\"params\",\"response\",\"error\"),(arg, results[i]['response'], results[i][\"error\"])))) for i,arg in enumerate(args))\n",
    "    \n",
    "results"
   ]
  },
  {
   "cell_type": "markdown",
   "metadata": {},
   "source": [
    "# Pasando una funcion a MP"
   ]
  },
  {
   "cell_type": "markdown",
   "metadata": {},
   "source": [
    "## with `*args`"
   ]
  },
  {
   "cell_type": "code",
   "execution_count": 10,
   "metadata": {},
   "outputs": [
    {
     "data": {
      "text/plain": [
       "26"
      ]
     },
     "execution_count": 10,
     "metadata": {},
     "output_type": "execute_result"
    }
   ],
   "source": [
    "import string\n",
    "\n",
    "letters = string.ascii_lowercase\n",
    "letters = list(letters)\n",
    "len(letters)"
   ]
  },
  {
   "cell_type": "code",
   "execution_count": 11,
   "metadata": {},
   "outputs": [
    {
     "data": {
      "text/plain": [
       "[(0, 'a'),\n",
       " (1, 'b'),\n",
       " (2, 'c'),\n",
       " (3, 'd'),\n",
       " (4, 'e'),\n",
       " (5, 'f'),\n",
       " (6, 'g'),\n",
       " (7, 'h'),\n",
       " (8, 'i'),\n",
       " (9, 'j'),\n",
       " (10, 'k'),\n",
       " (11, 'l'),\n",
       " (12, 'm'),\n",
       " (13, 'n'),\n",
       " (14, 'o'),\n",
       " (15, 'p'),\n",
       " (16, 'q'),\n",
       " (17, 'r'),\n",
       " (18, 's'),\n",
       " (19, 't'),\n",
       " (20, 'u'),\n",
       " (21, 'v'),\n",
       " (22, 'w'),\n",
       " (23, 'x'),\n",
       " (24, 'y'),\n",
       " (25, 'z')]"
      ]
     },
     "execution_count": 11,
     "metadata": {},
     "output_type": "execute_result"
    }
   ],
   "source": [
    "args = [(i,a) for i,a in enumerate(letters)]\n",
    "args"
   ]
  },
  {
   "cell_type": "markdown",
   "metadata": {},
   "source": [
    "La funcion recibe una tupla con valores *args"
   ]
  },
  {
   "cell_type": "code",
   "execution_count": 12,
   "metadata": {},
   "outputs": [],
   "source": [
    "def function_to_mp__args(numbers_of_cores:int, myfunc, args):\n",
    "    # if type(args[0]) in ['int','float']:\n",
    "    #     args = [(x,) for x in args]\n",
    "    results = list()\n",
    "    if __name__ ==  '__main__':\n",
    "        start=time.time()\n",
    "        with mp.Pool(processes=numbers_of_cores) as p:\n",
    "            jobs = [(params, p.apply_async(myfunc, params)) for params in args]\n",
    "            for params,j in jobs:\n",
    "                try:\n",
    "                    response = j.get()\n",
    "                    results.append({\"response\": response, \"error\": None})\n",
    "                    # print(params, response)\n",
    "                except Exception as e:\n",
    "                    results.append({\"response\": None, \"error\": str(e)})\n",
    "                    print(params, e)\n",
    "        t_apply_async_error_2 = time.time()-start\n",
    "        print(\"T(apply_async+error)=\", t_apply_async_error_2)\n",
    "        \n",
    "        results = dict((i, dict(zip((\"params\",\"response\",\"error\"),(arg, results[i]['response'], results[i][\"error\"])))) for i,arg in enumerate(args))\n",
    "    return results"
   ]
  },
  {
   "cell_type": "code",
   "execution_count": 13,
   "metadata": {},
   "outputs": [
    {
     "name": "stdout",
     "output_type": "stream",
     "text": [
      "(5, 'f') Dummy Error, value is 0\n",
      "(6, 'g') Dummy Error, value is 0\n",
      "(9, 'j') Dummy Error, value is 0\n",
      "(23, 'x') Dummy Error, value is 0\n",
      "T(apply_async+error)= 44.51657199859619\n"
     ]
    }
   ],
   "source": [
    "results = function_to_mp__args(numbers_2_use, dummy_worker_int_str, args)"
   ]
  },
  {
   "cell_type": "code",
   "execution_count": 14,
   "metadata": {},
   "outputs": [
    {
     "data": {
      "text/plain": [
       "{0: {'params': (0, 'a'),\n",
       "  'response': {'i': 9, 'arg1': 0, 'arg2': 'a'},\n",
       "  'error': None},\n",
       " 1: {'params': (1, 'b'),\n",
       "  'response': {'i': 1, 'arg1': 1, 'arg2': 'b'},\n",
       "  'error': None},\n",
       " 2: {'params': (2, 'c'),\n",
       "  'response': {'i': 10, 'arg1': 2, 'arg2': 'c'},\n",
       "  'error': None},\n",
       " 3: {'params': (3, 'd'),\n",
       "  'response': {'i': 1, 'arg1': 3, 'arg2': 'd'},\n",
       "  'error': None},\n",
       " 4: {'params': (4, 'e'),\n",
       "  'response': {'i': 9, 'arg1': 4, 'arg2': 'e'},\n",
       "  'error': None},\n",
       " 5: {'params': (5, 'f'), 'response': None, 'error': 'Dummy Error, value is 0'},\n",
       " 6: {'params': (6, 'g'), 'response': None, 'error': 'Dummy Error, value is 0'},\n",
       " 7: {'params': (7, 'h'),\n",
       "  'response': {'i': 6, 'arg1': 7, 'arg2': 'h'},\n",
       "  'error': None},\n",
       " 8: {'params': (8, 'i'),\n",
       "  'response': {'i': 9, 'arg1': 8, 'arg2': 'i'},\n",
       "  'error': None},\n",
       " 9: {'params': (9, 'j'), 'response': None, 'error': 'Dummy Error, value is 0'},\n",
       " 10: {'params': (10, 'k'),\n",
       "  'response': {'i': 2, 'arg1': 10, 'arg2': 'k'},\n",
       "  'error': None},\n",
       " 11: {'params': (11, 'l'),\n",
       "  'response': {'i': 1, 'arg1': 11, 'arg2': 'l'},\n",
       "  'error': None},\n",
       " 12: {'params': (12, 'm'),\n",
       "  'response': {'i': 1, 'arg1': 12, 'arg2': 'm'},\n",
       "  'error': None},\n",
       " 13: {'params': (13, 'n'),\n",
       "  'response': {'i': 7, 'arg1': 13, 'arg2': 'n'},\n",
       "  'error': None},\n",
       " 14: {'params': (14, 'o'),\n",
       "  'response': {'i': 4, 'arg1': 14, 'arg2': 'o'},\n",
       "  'error': None},\n",
       " 15: {'params': (15, 'p'),\n",
       "  'response': {'i': 9, 'arg1': 15, 'arg2': 'p'},\n",
       "  'error': None},\n",
       " 16: {'params': (16, 'q'),\n",
       "  'response': {'i': 7, 'arg1': 16, 'arg2': 'q'},\n",
       "  'error': None},\n",
       " 17: {'params': (17, 'r'),\n",
       "  'response': {'i': 1, 'arg1': 17, 'arg2': 'r'},\n",
       "  'error': None},\n",
       " 18: {'params': (18, 's'),\n",
       "  'response': {'i': 7, 'arg1': 18, 'arg2': 's'},\n",
       "  'error': None},\n",
       " 19: {'params': (19, 't'),\n",
       "  'response': {'i': 9, 'arg1': 19, 'arg2': 't'},\n",
       "  'error': None},\n",
       " 20: {'params': (20, 'u'),\n",
       "  'response': {'i': 4, 'arg1': 20, 'arg2': 'u'},\n",
       "  'error': None},\n",
       " 21: {'params': (21, 'v'),\n",
       "  'response': {'i': 10, 'arg1': 21, 'arg2': 'v'},\n",
       "  'error': None},\n",
       " 22: {'params': (22, 'w'),\n",
       "  'response': {'i': 4, 'arg1': 22, 'arg2': 'w'},\n",
       "  'error': None},\n",
       " 23: {'params': (23, 'x'),\n",
       "  'response': None,\n",
       "  'error': 'Dummy Error, value is 0'},\n",
       " 24: {'params': (24, 'y'),\n",
       "  'response': {'i': 9, 'arg1': 24, 'arg2': 'y'},\n",
       "  'error': None},\n",
       " 25: {'params': (25, 'z'),\n",
       "  'response': {'i': 6, 'arg1': 25, 'arg2': 'z'},\n",
       "  'error': None}}"
      ]
     },
     "execution_count": 14,
     "metadata": {},
     "output_type": "execute_result"
    }
   ],
   "source": [
    "results"
   ]
  },
  {
   "cell_type": "markdown",
   "metadata": {},
   "source": [
    "## with `*kwargs`"
   ]
  },
  {
   "cell_type": "markdown",
   "metadata": {},
   "source": [
    "La funcion recibe una tupla con valores *kwargs"
   ]
  },
  {
   "cell_type": "code",
   "execution_count": 15,
   "metadata": {},
   "outputs": [
    {
     "data": {
      "text/plain": [
       "[{'arg1': 0, 'arg2': 'a'},\n",
       " {'arg1': 1, 'arg2': 'b'},\n",
       " {'arg1': 2, 'arg2': 'c'},\n",
       " {'arg1': 3, 'arg2': 'd'},\n",
       " {'arg1': 4, 'arg2': 'e'},\n",
       " {'arg1': 5, 'arg2': 'f'},\n",
       " {'arg1': 6, 'arg2': 'g'},\n",
       " {'arg1': 7, 'arg2': 'h'},\n",
       " {'arg1': 8, 'arg2': 'i'},\n",
       " {'arg1': 9, 'arg2': 'j'},\n",
       " {'arg1': 10, 'arg2': 'k'},\n",
       " {'arg1': 11, 'arg2': 'l'},\n",
       " {'arg1': 12, 'arg2': 'm'},\n",
       " {'arg1': 13, 'arg2': 'n'},\n",
       " {'arg1': 14, 'arg2': 'o'},\n",
       " {'arg1': 15, 'arg2': 'p'},\n",
       " {'arg1': 16, 'arg2': 'q'},\n",
       " {'arg1': 17, 'arg2': 'r'},\n",
       " {'arg1': 18, 'arg2': 's'},\n",
       " {'arg1': 19, 'arg2': 't'},\n",
       " {'arg1': 20, 'arg2': 'u'},\n",
       " {'arg1': 21, 'arg2': 'v'},\n",
       " {'arg1': 22, 'arg2': 'w'},\n",
       " {'arg1': 23, 'arg2': 'x'},\n",
       " {'arg1': 24, 'arg2': 'y'},\n",
       " {'arg1': 25, 'arg2': 'z'}]"
      ]
     },
     "execution_count": 15,
     "metadata": {},
     "output_type": "execute_result"
    }
   ],
   "source": [
    "kwargs = [{\"arg1\":i, \"arg2\":a} for i,a in enumerate(letters)]\n",
    "kwargs"
   ]
  },
  {
   "cell_type": "code",
   "execution_count": 16,
   "metadata": {},
   "outputs": [],
   "source": [
    "def function_to_mp__kwargs(function, kwargs:list=None, numbers_of_cores:int=None, debug:bool=False):\n",
    "    \"\"\"\n",
    "        Params:\n",
    "            function: function to paralalellize\n",
    "            kwarg: arguments in dict\n",
    "            number_of_cores:int, default=mp.cpu_count\n",
    "        Return:\n",
    "            List of dicts\n",
    "    \"\"\"\n",
    "    if numbers_of_cores==None: numbers_of_cores=mp.cpu_count()\n",
    "    if debug==True: print(\"number of cores for parallelizing\", numbers_of_cores)\n",
    "    results = list()\n",
    "    if __name__ ==  '__main__':\n",
    "        start=time.time()\n",
    "        with mp.Pool(processes=numbers_of_cores) as p:\n",
    "            jobs = [(params, p.apply_async(function, (), params)) for params in kwargs]\n",
    "            for params,j in jobs:\n",
    "                try:\n",
    "                    response = j.get()\n",
    "                    results.append({\"params\": params, \"response\": response, \"error\": None})\n",
    "                    # print(params, response)\n",
    "                except Exception as e:\n",
    "                    results.append({\"params\": params, \"response\": None, \"error\": str(e)})\n",
    "                    print(params, e)\n",
    "        results = [dict((k,v) for k,v in x.items() if v!=None) for x in results]\n",
    "        t_mp__kwargs = time.time()-start\n",
    "        print(\"T(mp__kwargs)=\", t_mp__kwargs)\n",
    "    return results"
   ]
  },
  {
   "cell_type": "code",
   "execution_count": 17,
   "metadata": {},
   "outputs": [
    {
     "name": "stdout",
     "output_type": "stream",
     "text": [
      "{'arg1': 8, 'arg2': 'i'} Dummy Error, value is 0\n",
      "{'arg1': 15, 'arg2': 'p'} Dummy Error, value is 5\n",
      "{'arg1': 17, 'arg2': 'r'} Dummy Error, value is 0\n",
      "{'arg1': 19, 'arg2': 't'} Dummy Error, value is 0\n",
      "{'arg1': 20, 'arg2': 'u'} Dummy Error, value is 0\n",
      "{'arg1': 25, 'arg2': 'z'} Dummy Error, value is 3\n",
      "T(mp__kwargs)= 51.54672288894653\n"
     ]
    }
   ],
   "source": [
    "results = function_to_mp__kwargs(numbers_of_cores=numbers_2_use, function=dummy_worker_int_str, kwargs=kwargs)"
   ]
  },
  {
   "cell_type": "code",
   "execution_count": 18,
   "metadata": {},
   "outputs": [],
   "source": [
    "import pandas as pd"
   ]
  },
  {
   "cell_type": "code",
   "execution_count": 19,
   "metadata": {},
   "outputs": [
    {
     "data": {
      "text/html": [
       "<div>\n",
       "<style scoped>\n",
       "    .dataframe tbody tr th:only-of-type {\n",
       "        vertical-align: middle;\n",
       "    }\n",
       "\n",
       "    .dataframe tbody tr th {\n",
       "        vertical-align: top;\n",
       "    }\n",
       "\n",
       "    .dataframe thead th {\n",
       "        text-align: right;\n",
       "    }\n",
       "</style>\n",
       "<table border=\"1\" class=\"dataframe\">\n",
       "  <thead>\n",
       "    <tr style=\"text-align: right;\">\n",
       "      <th></th>\n",
       "      <th>params</th>\n",
       "      <th>response</th>\n",
       "      <th>error</th>\n",
       "    </tr>\n",
       "  </thead>\n",
       "  <tbody>\n",
       "    <tr>\n",
       "      <th>0</th>\n",
       "      <td>{'arg1': 0, 'arg2': 'a'}</td>\n",
       "      <td>{'i': 4, 'arg1': 0, 'arg2': 'a'}</td>\n",
       "      <td>NaN</td>\n",
       "    </tr>\n",
       "    <tr>\n",
       "      <th>1</th>\n",
       "      <td>{'arg1': 1, 'arg2': 'b'}</td>\n",
       "      <td>{'i': 9, 'arg1': 1, 'arg2': 'b'}</td>\n",
       "      <td>NaN</td>\n",
       "    </tr>\n",
       "    <tr>\n",
       "      <th>2</th>\n",
       "      <td>{'arg1': 2, 'arg2': 'c'}</td>\n",
       "      <td>{'i': 8, 'arg1': 2, 'arg2': 'c'}</td>\n",
       "      <td>NaN</td>\n",
       "    </tr>\n",
       "    <tr>\n",
       "      <th>3</th>\n",
       "      <td>{'arg1': 3, 'arg2': 'd'}</td>\n",
       "      <td>{'i': 1, 'arg1': 3, 'arg2': 'd'}</td>\n",
       "      <td>NaN</td>\n",
       "    </tr>\n",
       "    <tr>\n",
       "      <th>4</th>\n",
       "      <td>{'arg1': 4, 'arg2': 'e'}</td>\n",
       "      <td>{'i': 9, 'arg1': 4, 'arg2': 'e'}</td>\n",
       "      <td>NaN</td>\n",
       "    </tr>\n",
       "    <tr>\n",
       "      <th>5</th>\n",
       "      <td>{'arg1': 5, 'arg2': 'f'}</td>\n",
       "      <td>{'i': 7, 'arg1': 5, 'arg2': 'f'}</td>\n",
       "      <td>NaN</td>\n",
       "    </tr>\n",
       "    <tr>\n",
       "      <th>6</th>\n",
       "      <td>{'arg1': 6, 'arg2': 'g'}</td>\n",
       "      <td>{'i': 7, 'arg1': 6, 'arg2': 'g'}</td>\n",
       "      <td>NaN</td>\n",
       "    </tr>\n",
       "    <tr>\n",
       "      <th>7</th>\n",
       "      <td>{'arg1': 7, 'arg2': 'h'}</td>\n",
       "      <td>{'i': 6, 'arg1': 7, 'arg2': 'h'}</td>\n",
       "      <td>NaN</td>\n",
       "    </tr>\n",
       "    <tr>\n",
       "      <th>8</th>\n",
       "      <td>{'arg1': 8, 'arg2': 'i'}</td>\n",
       "      <td>NaN</td>\n",
       "      <td>Dummy Error, value is 0</td>\n",
       "    </tr>\n",
       "    <tr>\n",
       "      <th>9</th>\n",
       "      <td>{'arg1': 9, 'arg2': 'j'}</td>\n",
       "      <td>{'i': 8, 'arg1': 9, 'arg2': 'j'}</td>\n",
       "      <td>NaN</td>\n",
       "    </tr>\n",
       "    <tr>\n",
       "      <th>10</th>\n",
       "      <td>{'arg1': 10, 'arg2': 'k'}</td>\n",
       "      <td>{'i': 6, 'arg1': 10, 'arg2': 'k'}</td>\n",
       "      <td>NaN</td>\n",
       "    </tr>\n",
       "    <tr>\n",
       "      <th>11</th>\n",
       "      <td>{'arg1': 11, 'arg2': 'l'}</td>\n",
       "      <td>{'i': 10, 'arg1': 11, 'arg2': 'l'}</td>\n",
       "      <td>NaN</td>\n",
       "    </tr>\n",
       "    <tr>\n",
       "      <th>12</th>\n",
       "      <td>{'arg1': 12, 'arg2': 'm'}</td>\n",
       "      <td>{'i': 9, 'arg1': 12, 'arg2': 'm'}</td>\n",
       "      <td>NaN</td>\n",
       "    </tr>\n",
       "    <tr>\n",
       "      <th>13</th>\n",
       "      <td>{'arg1': 13, 'arg2': 'n'}</td>\n",
       "      <td>{'i': 9, 'arg1': 13, 'arg2': 'n'}</td>\n",
       "      <td>NaN</td>\n",
       "    </tr>\n",
       "    <tr>\n",
       "      <th>14</th>\n",
       "      <td>{'arg1': 14, 'arg2': 'o'}</td>\n",
       "      <td>{'i': 8, 'arg1': 14, 'arg2': 'o'}</td>\n",
       "      <td>NaN</td>\n",
       "    </tr>\n",
       "    <tr>\n",
       "      <th>15</th>\n",
       "      <td>{'arg1': 15, 'arg2': 'p'}</td>\n",
       "      <td>NaN</td>\n",
       "      <td>Dummy Error, value is 5</td>\n",
       "    </tr>\n",
       "    <tr>\n",
       "      <th>16</th>\n",
       "      <td>{'arg1': 16, 'arg2': 'q'}</td>\n",
       "      <td>{'i': 1, 'arg1': 16, 'arg2': 'q'}</td>\n",
       "      <td>NaN</td>\n",
       "    </tr>\n",
       "    <tr>\n",
       "      <th>17</th>\n",
       "      <td>{'arg1': 17, 'arg2': 'r'}</td>\n",
       "      <td>NaN</td>\n",
       "      <td>Dummy Error, value is 0</td>\n",
       "    </tr>\n",
       "    <tr>\n",
       "      <th>18</th>\n",
       "      <td>{'arg1': 18, 'arg2': 's'}</td>\n",
       "      <td>{'i': 10, 'arg1': 18, 'arg2': 's'}</td>\n",
       "      <td>NaN</td>\n",
       "    </tr>\n",
       "    <tr>\n",
       "      <th>19</th>\n",
       "      <td>{'arg1': 19, 'arg2': 't'}</td>\n",
       "      <td>NaN</td>\n",
       "      <td>Dummy Error, value is 0</td>\n",
       "    </tr>\n",
       "    <tr>\n",
       "      <th>20</th>\n",
       "      <td>{'arg1': 20, 'arg2': 'u'}</td>\n",
       "      <td>NaN</td>\n",
       "      <td>Dummy Error, value is 0</td>\n",
       "    </tr>\n",
       "    <tr>\n",
       "      <th>21</th>\n",
       "      <td>{'arg1': 21, 'arg2': 'v'}</td>\n",
       "      <td>{'i': 4, 'arg1': 21, 'arg2': 'v'}</td>\n",
       "      <td>NaN</td>\n",
       "    </tr>\n",
       "    <tr>\n",
       "      <th>22</th>\n",
       "      <td>{'arg1': 22, 'arg2': 'w'}</td>\n",
       "      <td>{'i': 10, 'arg1': 22, 'arg2': 'w'}</td>\n",
       "      <td>NaN</td>\n",
       "    </tr>\n",
       "    <tr>\n",
       "      <th>23</th>\n",
       "      <td>{'arg1': 23, 'arg2': 'x'}</td>\n",
       "      <td>{'i': 6, 'arg1': 23, 'arg2': 'x'}</td>\n",
       "      <td>NaN</td>\n",
       "    </tr>\n",
       "    <tr>\n",
       "      <th>24</th>\n",
       "      <td>{'arg1': 24, 'arg2': 'y'}</td>\n",
       "      <td>{'i': 9, 'arg1': 24, 'arg2': 'y'}</td>\n",
       "      <td>NaN</td>\n",
       "    </tr>\n",
       "    <tr>\n",
       "      <th>25</th>\n",
       "      <td>{'arg1': 25, 'arg2': 'z'}</td>\n",
       "      <td>NaN</td>\n",
       "      <td>Dummy Error, value is 3</td>\n",
       "    </tr>\n",
       "  </tbody>\n",
       "</table>\n",
       "</div>"
      ],
      "text/plain": [
       "                       params                            response  \\\n",
       "0    {'arg1': 0, 'arg2': 'a'}    {'i': 4, 'arg1': 0, 'arg2': 'a'}   \n",
       "1    {'arg1': 1, 'arg2': 'b'}    {'i': 9, 'arg1': 1, 'arg2': 'b'}   \n",
       "2    {'arg1': 2, 'arg2': 'c'}    {'i': 8, 'arg1': 2, 'arg2': 'c'}   \n",
       "3    {'arg1': 3, 'arg2': 'd'}    {'i': 1, 'arg1': 3, 'arg2': 'd'}   \n",
       "4    {'arg1': 4, 'arg2': 'e'}    {'i': 9, 'arg1': 4, 'arg2': 'e'}   \n",
       "5    {'arg1': 5, 'arg2': 'f'}    {'i': 7, 'arg1': 5, 'arg2': 'f'}   \n",
       "6    {'arg1': 6, 'arg2': 'g'}    {'i': 7, 'arg1': 6, 'arg2': 'g'}   \n",
       "7    {'arg1': 7, 'arg2': 'h'}    {'i': 6, 'arg1': 7, 'arg2': 'h'}   \n",
       "8    {'arg1': 8, 'arg2': 'i'}                                 NaN   \n",
       "9    {'arg1': 9, 'arg2': 'j'}    {'i': 8, 'arg1': 9, 'arg2': 'j'}   \n",
       "10  {'arg1': 10, 'arg2': 'k'}   {'i': 6, 'arg1': 10, 'arg2': 'k'}   \n",
       "11  {'arg1': 11, 'arg2': 'l'}  {'i': 10, 'arg1': 11, 'arg2': 'l'}   \n",
       "12  {'arg1': 12, 'arg2': 'm'}   {'i': 9, 'arg1': 12, 'arg2': 'm'}   \n",
       "13  {'arg1': 13, 'arg2': 'n'}   {'i': 9, 'arg1': 13, 'arg2': 'n'}   \n",
       "14  {'arg1': 14, 'arg2': 'o'}   {'i': 8, 'arg1': 14, 'arg2': 'o'}   \n",
       "15  {'arg1': 15, 'arg2': 'p'}                                 NaN   \n",
       "16  {'arg1': 16, 'arg2': 'q'}   {'i': 1, 'arg1': 16, 'arg2': 'q'}   \n",
       "17  {'arg1': 17, 'arg2': 'r'}                                 NaN   \n",
       "18  {'arg1': 18, 'arg2': 's'}  {'i': 10, 'arg1': 18, 'arg2': 's'}   \n",
       "19  {'arg1': 19, 'arg2': 't'}                                 NaN   \n",
       "20  {'arg1': 20, 'arg2': 'u'}                                 NaN   \n",
       "21  {'arg1': 21, 'arg2': 'v'}   {'i': 4, 'arg1': 21, 'arg2': 'v'}   \n",
       "22  {'arg1': 22, 'arg2': 'w'}  {'i': 10, 'arg1': 22, 'arg2': 'w'}   \n",
       "23  {'arg1': 23, 'arg2': 'x'}   {'i': 6, 'arg1': 23, 'arg2': 'x'}   \n",
       "24  {'arg1': 24, 'arg2': 'y'}   {'i': 9, 'arg1': 24, 'arg2': 'y'}   \n",
       "25  {'arg1': 25, 'arg2': 'z'}                                 NaN   \n",
       "\n",
       "                      error  \n",
       "0                       NaN  \n",
       "1                       NaN  \n",
       "2                       NaN  \n",
       "3                       NaN  \n",
       "4                       NaN  \n",
       "5                       NaN  \n",
       "6                       NaN  \n",
       "7                       NaN  \n",
       "8   Dummy Error, value is 0  \n",
       "9                       NaN  \n",
       "10                      NaN  \n",
       "11                      NaN  \n",
       "12                      NaN  \n",
       "13                      NaN  \n",
       "14                      NaN  \n",
       "15  Dummy Error, value is 5  \n",
       "16                      NaN  \n",
       "17  Dummy Error, value is 0  \n",
       "18                      NaN  \n",
       "19  Dummy Error, value is 0  \n",
       "20  Dummy Error, value is 0  \n",
       "21                      NaN  \n",
       "22                      NaN  \n",
       "23                      NaN  \n",
       "24                      NaN  \n",
       "25  Dummy Error, value is 3  "
      ]
     },
     "execution_count": 19,
     "metadata": {},
     "output_type": "execute_result"
    }
   ],
   "source": [
    "pd.DataFrame(results)"
   ]
  },
  {
   "cell_type": "code",
   "execution_count": null,
   "metadata": {},
   "outputs": [],
   "source": []
  }
 ],
 "metadata": {
  "interpreter": {
   "hash": "81e74b14688ff0f0af8f53da655938afd39cb33f29b63684659fe2bb2affc994"
  },
  "kernelspec": {
   "display_name": "Python 3.8.7 64-bit",
   "language": "python",
   "name": "python3"
  },
  "language_info": {
   "codemirror_mode": {
    "name": "ipython",
    "version": 3
   },
   "file_extension": ".py",
   "mimetype": "text/x-python",
   "name": "python",
   "nbconvert_exporter": "python",
   "pygments_lexer": "ipython3",
   "version": "3.8.7"
  },
  "orig_nbformat": 4
 },
 "nbformat": 4,
 "nbformat_minor": 2
}
