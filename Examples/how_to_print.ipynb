{
 "cells": [
  {
   "cell_type": "markdown",
   "metadata": {},
   "source": [
    "# Printing"
   ]
  },
  {
   "cell_type": "code",
   "execution_count": 1,
   "metadata": {},
   "outputs": [],
   "source": [
    "import time"
   ]
  },
  {
   "cell_type": "code",
   "execution_count": 3,
   "metadata": {},
   "outputs": [
    {
     "name": "stdout",
     "output_type": "stream",
     "text": [
      "elapsed=5.0\n",
      "elapsed=10.0\n",
      "elapsed=15.0\n",
      "elapsed=20.0\n",
      "elapsed=25.0\n",
      "elapsed=30.0\n",
      "elapsed=35.0\n",
      "elapsed=40.0\n",
      "elapsed=45.0\n",
      "elapsed=50.0\n",
      "elapsed=55.0\n",
      "elapsed=60.0\n",
      "elapsed=65.0\n",
      "elapsed=70.0\n",
      "elapsed=75.0\n",
      "elapsed=80.0\n",
      "elapsed=85.0\n",
      "elapsed=90.0\n",
      "elapsed=95.0\n",
      "elapsed=100.0\n",
      "elapsed=105.0\n",
      "elapsed=110.0\n",
      "elapsed=115.0\n",
      "elapsed=120.0\n",
      "elapsed=125.0\n",
      "elapsed=130.0\n",
      "elapsed=135.0\n",
      "elapsed=140.0\n",
      "elapsed=145.0\n",
      "elapsed=150.0\n"
     ]
    },
    {
     "ename": "KeyboardInterrupt",
     "evalue": "",
     "output_type": "error",
     "traceback": [
      "\u001b[1;31m---------------------------------------------------------------------------\u001b[0m",
      "\u001b[1;31mKeyboardInterrupt\u001b[0m                         Traceback (most recent call last)",
      "\u001b[1;32md:\\dherrera\\OneDrive - COOSALUD EPS-S\\PERSONAL\\LearnigDS-ML\\Examples\\print.ipynb Cell 3\u001b[0m in \u001b[0;36m<cell line: 3>\u001b[1;34m()\u001b[0m\n\u001b[0;32m      <a href='vscode-notebook-cell:/d%3A/dherrera/OneDrive%20-%20COOSALUD%20EPS-S/PERSONAL/LearnigDS-ML/Examples/print.ipynb#W5sZmlsZQ%3D%3D?line=0'>1</a>\u001b[0m t \u001b[39m=\u001b[39m time\u001b[39m.\u001b[39mtime()\n\u001b[0;32m      <a href='vscode-notebook-cell:/d%3A/dherrera/OneDrive%20-%20COOSALUD%20EPS-S/PERSONAL/LearnigDS-ML/Examples/print.ipynb#W5sZmlsZQ%3D%3D?line=1'>2</a>\u001b[0m \u001b[39mwhile\u001b[39;00m \u001b[39mTrue\u001b[39;00m:    \n\u001b[1;32m----> <a href='vscode-notebook-cell:/d%3A/dherrera/OneDrive%20-%20COOSALUD%20EPS-S/PERSONAL/LearnigDS-ML/Examples/print.ipynb#W5sZmlsZQ%3D%3D?line=2'>3</a>\u001b[0m     time\u001b[39m.\u001b[39;49msleep(\u001b[39m5\u001b[39;49m)\n\u001b[0;32m      <a href='vscode-notebook-cell:/d%3A/dherrera/OneDrive%20-%20COOSALUD%20EPS-S/PERSONAL/LearnigDS-ML/Examples/print.ipynb#W5sZmlsZQ%3D%3D?line=3'>4</a>\u001b[0m     \u001b[39mprint\u001b[39m(\u001b[39mf\u001b[39m\u001b[39m\"\u001b[39m\u001b[39melapsed=\u001b[39m\u001b[39m{\u001b[39;00m\u001b[39mround\u001b[39m(time\u001b[39m.\u001b[39mtime()\u001b[39m-\u001b[39mt,\u001b[39m0\u001b[39m)\u001b[39m}\u001b[39;00m\u001b[39m\"\u001b[39m)\n",
      "\u001b[1;31mKeyboardInterrupt\u001b[0m: "
     ]
    }
   ],
   "source": [
    "t = time.time()\n",
    "while True:    \n",
    "    time.sleep(5)\n",
    "    print(f\"elapsed={round(time.time()-t,0)}\")"
   ]
  },
  {
   "cell_type": "code",
   "execution_count": 2,
   "metadata": {},
   "outputs": [
    {
     "name": "stdout",
     "output_type": "stream",
     "text": [
      "CTRL+C to stop. :: elapsed=35.0\r"
     ]
    },
    {
     "ename": "KeyboardInterrupt",
     "evalue": "",
     "output_type": "error",
     "traceback": [
      "\u001b[1;31m---------------------------------------------------------------------------\u001b[0m",
      "\u001b[1;31mKeyboardInterrupt\u001b[0m                         Traceback (most recent call last)",
      "\u001b[1;32md:\\dherrera\\OneDrive - COOSALUD EPS-S\\PERSONAL\\LearnigDS-ML\\Examples\\print.ipynb Cell 3\u001b[0m in \u001b[0;36m<cell line: 3>\u001b[1;34m()\u001b[0m\n\u001b[0;32m      <a href='vscode-notebook-cell:/d%3A/dherrera/OneDrive%20-%20COOSALUD%20EPS-S/PERSONAL/LearnigDS-ML/Examples/print.ipynb#W3sZmlsZQ%3D%3D?line=0'>1</a>\u001b[0m t \u001b[39m=\u001b[39m time\u001b[39m.\u001b[39mtime()\n\u001b[0;32m      <a href='vscode-notebook-cell:/d%3A/dherrera/OneDrive%20-%20COOSALUD%20EPS-S/PERSONAL/LearnigDS-ML/Examples/print.ipynb#W3sZmlsZQ%3D%3D?line=1'>2</a>\u001b[0m \u001b[39mwhile\u001b[39;00m \u001b[39mTrue\u001b[39;00m:    \n\u001b[1;32m----> <a href='vscode-notebook-cell:/d%3A/dherrera/OneDrive%20-%20COOSALUD%20EPS-S/PERSONAL/LearnigDS-ML/Examples/print.ipynb#W3sZmlsZQ%3D%3D?line=2'>3</a>\u001b[0m     time\u001b[39m.\u001b[39;49msleep(\u001b[39m5\u001b[39;49m)\n\u001b[0;32m      <a href='vscode-notebook-cell:/d%3A/dherrera/OneDrive%20-%20COOSALUD%20EPS-S/PERSONAL/LearnigDS-ML/Examples/print.ipynb#W3sZmlsZQ%3D%3D?line=3'>4</a>\u001b[0m     \u001b[39mprint\u001b[39m(\u001b[39mf\u001b[39m\u001b[39m\"\u001b[39m\u001b[39mCTRL+C to stop. :: elapsed=\u001b[39m\u001b[39m{\u001b[39;00m\u001b[39mround\u001b[39m(time\u001b[39m.\u001b[39mtime()\u001b[39m-\u001b[39mt,\u001b[39m0\u001b[39m)\u001b[39m}\u001b[39;00m\u001b[39m\"\u001b[39m, end\u001b[39m=\u001b[39m\u001b[39m\"\u001b[39m\u001b[39m\\r\u001b[39;00m\u001b[39m\"\u001b[39m, flush\u001b[39m=\u001b[39m\u001b[39mTrue\u001b[39;00m)\n",
      "\u001b[1;31mKeyboardInterrupt\u001b[0m: "
     ]
    }
   ],
   "source": [
    "t = time.time()\n",
    "while True:    \n",
    "    time.sleep(5)\n",
    "    print(f\"CTRL+C to stop. :: elapsed={round(time.time()-t,0)}\", end=\"\\r\", flush=True)"
   ]
  }
 ],
 "metadata": {
  "kernelspec": {
   "display_name": "Python 3",
   "language": "python",
   "name": "python3"
  },
  "language_info": {
   "codemirror_mode": {
    "name": "ipython",
    "version": 3
   },
   "file_extension": ".py",
   "mimetype": "text/x-python",
   "name": "python",
   "nbconvert_exporter": "python",
   "pygments_lexer": "ipython3",
   "version": "3.9.13"
  },
  "orig_nbformat": 4,
  "vscode": {
   "interpreter": {
    "hash": "22e5dea1628f7e1c945df06b9a2434c5192832944f53cfc6bc7b26069c0c4ffd"
   }
  }
 },
 "nbformat": 4,
 "nbformat_minor": 2
}
