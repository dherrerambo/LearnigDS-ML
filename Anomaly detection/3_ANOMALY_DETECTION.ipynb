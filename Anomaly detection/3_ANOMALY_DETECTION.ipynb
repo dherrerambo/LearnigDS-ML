{
 "cells": [
  {
   "cell_type": "code",
   "execution_count": null,
   "metadata": {},
   "outputs": [],
   "source": []
  },
  {
   "cell_type": "markdown",
   "metadata": {},
   "source": [
    "# Detecting anomalies in data\n",
    "\n",
    "Models to implement:\n",
    "1. Local Outlier Factor (LOF)\n",
    "2. Isolation Forest\n",
    "3. Autoencoders\n"
   ]
  },
  {
   "cell_type": "code",
   "execution_count": null,
   "metadata": {},
   "outputs": [],
   "source": [
    "def plot_X_ytest_ypred(X_test, y_test, y_pred):\n",
    "    import matplotlib.gridspec as gridspec\n",
    "\n",
    "    columns = X_test.columns\n",
    "    cols = 3\n",
    "    rows = int(np.ceil(len(columns)/cols))\n",
    "    grid = gridspec.GridSpec(rows, cols)\n",
    "\n",
    "    plt.figure(figsize=(rows*2,rows*3))\n",
    "\n",
    "    for n, c in enumerate(columns):\n",
    "        ax = plt.subplot(grid[n])\n",
    "        sns.scatterplot(x=X_test.index, y=X_test[c], alpha=0.5, ax=ax, label='test_data')\n",
    "        pos_pred = [i for i,x in enumerate(y_pred) if x==1]\n",
    "        pos_test = [i for i,x in enumerate(y_test) if x==1]\n",
    "        sns.scatterplot(x=X_test.iloc[pos_pred].index, y=X_test.iloc[pos_pred][c], color='orange', alpha=0.7, ax=ax, label='pred')\n",
    "        sns.scatterplot(x=X_test.iloc[pos_test].index, y=X_test.iloc[pos_test][c], color='r', s=10, ax=ax, label='test')\n",
    "        # sns.scatterplot(x=X_test.iloc[pos].index, y=X_test.iloc[pos][c], alpha=0.7, color='r', ax=ax)\n",
    "        ax.set_title(str(c))\n",
    "        ax.set_xlabel('')\n",
    "        ax.set_ylabel('')\n",
    "        if n>0:\n",
    "            plt.legend('')\n",
    "    plt.tight_layout()\n",
    "    plt.show()"
   ]
  },
  {
   "cell_type": "code",
   "execution_count": null,
   "metadata": {},
   "outputs": [],
   "source": [
    "def get_metrics(clf, y_true, y_pred):\n",
    "    from sklearn.metrics import accuracy_score, auc, confusion_matrix, f1_score, precision_score, average_precision_score, roc_auc_score, recall_score, precision_recall_curve, classification_report\n",
    "    return {\n",
    "            \"model\": clf\n",
    "            , \"accuracy_score\": accuracy_score(y_true,y_pred)\n",
    "            , \"confusion_matrix\": confusion_matrix(y_true,y_pred)\n",
    "            , \"precision\": precision_score(y_true,y_pred)\n",
    "            , \"recall_score\": recall_score(y_true,y_pred)\n",
    "            , \"f1_score\": f1_score(y_true,y_pred)\n",
    "            , \"classification_report\": classification_report(y_true,y_pred, output_dict=True)\n",
    "        }"
   ]
  },
  {
   "cell_type": "markdown",
   "metadata": {},
   "source": [
    "## 1. Local Outlier Factor\n",
    "\n",
    "- https://towardsdatascience.com/local-outlier-factor-lof-algorithm-for-outlier-identification-8efb887d9843\n",
    "- https://towardsdatascience.com/novelty-detection-with-local-outlier-factor-4867e89e4f91\n",
    "\n",
    "##### LOF\n",
    "- LOF(k) ~ 1 means Similar density as neighbors.\n",
    "- LOF(k) < 1 means Higher density than neighbors (Inlier/not an outlier).\n",
    "- LOF(k) > 1 means Lower density than neighbors (Outlier)"
   ]
  },
  {
   "cell_type": "code",
   "execution_count": null,
   "metadata": {},
   "outputs": [],
   "source": [
    "from sklearn.neighbors import LocalOutlierFactor"
   ]
  },
  {
   "cell_type": "code",
   "execution_count": null,
   "metadata": {},
   "outputs": [],
   "source": [
    "%%time\n",
    "LOF = LocalOutlierFactor(contamination = PercFraud)\n",
    "y_pred = LOF.fit_predict(data1[X_cols])\n"
   ]
  },
  {
   "cell_type": "code",
   "execution_count": null,
   "metadata": {},
   "outputs": [],
   "source": [
    "data1[\"LocalOutlierFactor\"] = [1 if a==-1 else 0 for a in y_pred]"
   ]
  },
  {
   "cell_type": "code",
   "execution_count": null,
   "metadata": {},
   "outputs": [],
   "source": [
    "LOF"
   ]
  },
  {
   "cell_type": "code",
   "execution_count": null,
   "metadata": {},
   "outputs": [],
   "source": [
    "y_pred = pd.DataFrame(y_pred).replace({1:0,-1:1})[0].values\n",
    "# y_pred\n",
    "n_errors = (y_pred != y_train).sum()\n",
    "X_scores = mod_lof.negative_outlier_factor_\n"
   ]
  },
  {
   "cell_type": "code",
   "execution_count": null,
   "metadata": {},
   "outputs": [],
   "source": [
    "print(dict(pd.DataFrame(y_train).value_counts()))\n",
    "print(dict(pd.DataFrame(y_pred).value_counts()))"
   ]
  },
  {
   "cell_type": "code",
   "execution_count": null,
   "metadata": {},
   "outputs": [],
   "source": [
    "%%time\n",
    "plot_X_ytest_ypred(X_test=pd.DataFrame(X_train,columns=X_cols), y_test=y_train, y_pred=y_pred)"
   ]
  },
  {
   "cell_type": "code",
   "execution_count": null,
   "metadata": {},
   "outputs": [],
   "source": [
    "X_ = pd.concat([pd.DataFrame(X_train,columns=X_cols), pd.DataFrame([y_train, y_pred]).T],axis=1).rename(columns={0:\"y_true\", 1:\"y_pred\"})\n",
    "pd.crosstab(X_[\"y_true\"],X_[\"y_pred\"])"
   ]
  },
  {
   "cell_type": "markdown",
   "metadata": {},
   "source": [
    "## 2. IsolationForest"
   ]
  },
  {
   "cell_type": "code",
   "execution_count": null,
   "metadata": {},
   "outputs": [],
   "source": []
  },
  {
   "cell_type": "code",
   "execution_count": null,
   "metadata": {},
   "outputs": [],
   "source": [
    "mod_iforest = IsolationForest(random_state=123)\n",
    "mod_iforest.fit(X_train)\n",
    "anom = mod_iforest.predict(X_train)"
   ]
  },
  {
   "cell_type": "code",
   "execution_count": null,
   "metadata": {},
   "outputs": [],
   "source": [
    "X_ = pd.DataFrame(X_train,columns=X_cols)\n",
    "X_[\"y_true\"] = y_train\n",
    "X_[\"IsolationForest\"] = [1 if a==-1 else 0 for a in anom]\n",
    "pd.crosstab(X_[\"y_true\"],X_[\"IsolationForest\"])\n",
    "# X_[\"IsolationForest\"].value_counts()"
   ]
  },
  {
   "cell_type": "code",
   "execution_count": null,
   "metadata": {},
   "outputs": [],
   "source": [
    "%%time\n",
    "plot_X_ytest_ypred(X_test=pd.DataFrame(X_train,columns=X_cols), y_test=y_train, y_pred=y_pred)"
   ]
  },
  {
   "cell_type": "code",
   "execution_count": null,
   "metadata": {},
   "outputs": [],
   "source": [
    "LOF = LocalOutlierFactor(novelty=True)\n",
    "LOF.fit(normal_data)\n",
    "normal_lof = LOF.predict(normal_data)\n",
    "fraud_lof = LOF.predict(fraud_data)"
   ]
  },
  {
   "cell_type": "code",
   "execution_count": null,
   "metadata": {},
   "outputs": [],
   "source": [
    "def calc_accuracy(normal, fraud):\n",
    "    return {0: len(normal[normal==1])/len(normal), 1: len(fraud[fraud==-1])/len(fraud)}"
   ]
  },
  {
   "cell_type": "code",
   "execution_count": null,
   "metadata": {},
   "outputs": [],
   "source": [
    "print(f\"ACC IsolationForest:    {calc_accuracy(normal_isf,fraud_isf)}\")\n",
    "print(f\"ACC LocalOutlierFactor: {calc_accuracy(normal_lof,fraud_lof)}\")"
   ]
  },
  {
   "cell_type": "code",
   "execution_count": null,
   "metadata": {},
   "outputs": [],
   "source": [
    "values = normal_isf\n",
    "tp=list(values).count(1)\n",
    "tp"
   ]
  },
  {
   "cell_type": "code",
   "execution_count": null,
   "metadata": {},
   "outputs": [],
   "source": [
    "values.shape[0]\n"
   ]
  },
  {
   "cell_type": "code",
   "execution_count": null,
   "metadata": {},
   "outputs": [],
   "source": [
    "accuracy=np.round(tp/total,4)"
   ]
  },
  {
   "cell_type": "code",
   "execution_count": null,
   "metadata": {},
   "outputs": [],
   "source": [
    "\n",
    "in_accuracy_isf=normal_accuracy(normal_isf)\n",
    "out_accuracy_isf=fraud_accuracy(fraud_isf)\n",
    "print(\"Accuracy in Detecting Normal Cases:\", in_accuracy_isf)\n",
    "print(\"Accuracy in Detecting Fraud Cases:\", out_accuracy_isf)\n",
    "\n"
   ]
  }
 ],
 "metadata": {
  "language_info": {
   "name": "python"
  },
  "orig_nbformat": 4
 },
 "nbformat": 4,
 "nbformat_minor": 2
}
