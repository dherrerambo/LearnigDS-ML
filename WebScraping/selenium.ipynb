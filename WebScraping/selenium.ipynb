{
 "cells": [
  {
   "attachments": {},
   "cell_type": "markdown",
   "metadata": {},
   "source": [
    "# Web scraping REPS con Selenium.\n",
    "\n",
    "Que son los REPS?: Registro Especial de Prestadores de Servicios de Salud -REPS. Es la base de datos de las Entidades Departamentales y Distritales de Salud, en la cual se efectúa el registro de los Prestadores de Servicios de Salud que se encuentren habilitados y es consolidada por parte del Ministerio de Salud y Protección Social [**link**](https://www.minsalud.gov.co/sites/rid/Lists/BibliotecaDigital/RIDE/DE/PES/caracterizacion-registro-especial-prestadores-reps.pdf)\n",
    "\n",
    "Que funcionalidad hace este script: Se encarga de descargar los archivos de:\n",
    "- Prestadores\n",
    "- Sedes\n",
    "- Servicios\n",
    "- Capacidad\n",
    "\n",
    "desde la pagina web."
   ]
  },
  {
   "cell_type": "code",
   "execution_count": 1,
   "metadata": {},
   "outputs": [],
   "source": [
    "import time\n",
    "start_i = time.time()"
   ]
  },
  {
   "cell_type": "code",
   "execution_count": 2,
   "metadata": {},
   "outputs": [],
   "source": [
    "from glob import glob\n",
    "from lxml import etree\n",
    "from selenium import webdriver\n",
    "import pandas as pd\n",
    "import datetime, os, gc"
   ]
  },
  {
   "cell_type": "code",
   "execution_count": 3,
   "metadata": {},
   "outputs": [],
   "source": [
    "def clean_not_downloaded(download_path:str, debug:bool=False):\n",
    "    if debug==True: print(f\"fx({clean_not_downloaded.__name__})\")\n",
    "    downloading_chrome  = glob(download_path+'\\\\*.crdownload')\n",
    "    downloading_firefox = glob(download_path+'\\\\*.part')\n",
    "    files = downloading_chrome+downloading_firefox\n",
    "    if len(files)>0:\n",
    "        for f in files:\n",
    "            try:\n",
    "                os.remove(f)\n",
    "                if debug==True: print(f\"\\tfile deleted {f}\")\n",
    "            except:\n",
    "                pass\n",
    "    return"
   ]
  },
  {
   "cell_type": "code",
   "execution_count": 4,
   "metadata": {},
   "outputs": [],
   "source": [
    "def wait_til_download(download_path:str, debug:str=False):\n",
    "    \"\"\"\n",
    "        wait til download files\n",
    "    \"\"\"\n",
    "    if debug==True: print(f\"fx({wait_til_download.__name__})\")\n",
    "    downloading = 1\n",
    "    while downloading>0:\n",
    "        time.sleep(5)\n",
    "        downloading_chrome  = glob(download_path+'\\\\*.crdownload')\n",
    "        downloading_firefox = glob(download_path+'\\\\*.part')\n",
    "        # print(downloading_chrome + downloading_firefox)\n",
    "        downloading = len(downloading_chrome + downloading_firefox)\n",
    "    time.sleep(30)\n",
    "    return"
   ]
  },
  {
   "cell_type": "code",
   "execution_count": 5,
   "metadata": {},
   "outputs": [],
   "source": [
    "def get_last_downloaded_file(download_path:str, prefix_file:str=None, debug:bool=False):\n",
    "    if debug==True: print(f\"fx({get_last_downloaded_file.__name__})\")\n",
    "    if prefix_file==None:\n",
    "        path = download_path+'\\\\*'\n",
    "    else:\n",
    "        path = download_path+f'\\\\{prefix_file}*'\n",
    "    files = [(f, os.path.getmtime(f)) for f in glob(path)]\n",
    "    files.sort(key=lambda a: a[1], reverse=True)\n",
    "    last_file = files[0][0]\n",
    "    k = os.path.basename(last_file).split(\".\")[0].split(\"(\")[0].strip()\n",
    "    return k, last_file"
   ]
  },
  {
   "cell_type": "code",
   "execution_count": 6,
   "metadata": {},
   "outputs": [],
   "source": [
    "def get_last_files_donloaded(download_path:str, debug:bool=False):\n",
    "    \"\"\"\n",
    "        Get all last files downloaded\n",
    "    \"\"\"\n",
    "    if debug==True: print(f\"fx({get_last_files_donloaded.__name__})\")\n",
    "    downloaded_files = dict()\n",
    "    for k in set([os.path.basename(f).split(\".\")[0].split(\"(\")[0].strip() for f in glob(download_path+'/*')]):\n",
    "        _, last_file = get_last_downloaded_file(download_path=download_path, prefix_file=k)\n",
    "        downloaded_files.update({k: last_file})\n",
    "    return downloaded_files"
   ]
  },
  {
   "cell_type": "code",
   "execution_count": 7,
   "metadata": {},
   "outputs": [],
   "source": [
    "def make_download_path(download_path:str=None, debug:bool=False):\n",
    "    if debug==True: print(f\"fx({make_download_path.__name__})\")\n",
    "    if download_path==None:\n",
    "        download_path = os.path.join(os.getcwd(), \"downloads\")\n",
    "    else:\n",
    "        try:\n",
    "            os.path.exists(download_path)\n",
    "        except:\n",
    "            try:\n",
    "                os.makedirs(download_path)\n",
    "            except Exception as e:\n",
    "                e = f\"\\tcan't make path.\\n\\t{download_path}\\nError: {e}\"\n",
    "                raise Exception(e)\n",
    "    return download_path"
   ]
  },
  {
   "cell_type": "code",
   "execution_count": 8,
   "metadata": {},
   "outputs": [],
   "source": [
    "def make_options(download_path:str, kind_of_driver:str=\"firefox\", debug:bool=False):\n",
    "    if debug==True: print(f\"fx({make_options.__name__})\")\n",
    "\n",
    "    if kind_of_driver==\"firefox\":\n",
    "        \n",
    "        options = webdriver.firefox.options.Options()\n",
    "        options.set_preference(\"browser.download.manager.showWhenStarting\", False)\n",
    "        options.set_preference(\"browser.download.dir\", download_path)\n",
    "        options.set_preference(\"browser.helperApps.neverAsk.saveToDisk\", \"application/x-gzip\")\n",
    "\n",
    "    elif kind_of_driver==\"chrome\":\n",
    "        \n",
    "        options = webdriver.chrome.options.Options()\n",
    "        preferences = {\n",
    "                        \"download.default_directory\": download_path , # pass the variable\n",
    "                        \"download.prompt_for_download\": False,\n",
    "                        \"directory_upgrade\": True,\n",
    "                        \"safebrowsing.enabled\": True\n",
    "                    }\n",
    "        options.add_experimental_option(\"prefs\", preferences)\n",
    "    \n",
    "    else:\n",
    "\n",
    "        e = f\"kind_of_driver no es valido [{kind_of_driver}]\"\n",
    "        raise Exception(e)\n",
    "    \n",
    "    return options"
   ]
  },
  {
   "cell_type": "code",
   "execution_count": 9,
   "metadata": {},
   "outputs": [],
   "source": [
    "def start_driver(kind_of_driver:str, options, debug:bool=False):\n",
    "    if debug==True: print(f\"fx({start_driver.__name__})\")\n",
    "    if kind_of_driver==\"chrome\":\n",
    "        # driver = webdriver.Chrome(options=options, executable_path=\".\\drivers\\chromedriver\")\n",
    "        try:\n",
    "            s = webdriver.chrome.service.Service(\".\\drivers\\chromedriver.exe\")\n",
    "            driver = webdriver.Chrome(options=options, service=s)\n",
    "        except:\n",
    "            driver = webdriver.Chrome(options=options)\n",
    "    elif kind_of_driver==\"firefox\":\n",
    "        # driver = webdriver.Firefox(firefox_profile=options)\n",
    "        driver = webdriver.Firefox(options=options)\n",
    "    else:\n",
    "        e = f\"kind_of_driver no es valido [{kind_of_driver}]\"\n",
    "        raise Exception(e)\n",
    "    time.sleep(2)\n",
    "    return driver"
   ]
  },
  {
   "cell_type": "code",
   "execution_count": 10,
   "metadata": {},
   "outputs": [],
   "source": [
    "def sing_in(driver, url_loggin, debug:bool=False):\n",
    "    if debug==True: print(f\"fx({sing_in.__name__})\")\n",
    "    driver.get(url_loggin)\n",
    "    time.sleep(3)\n",
    "    driver.find_element(by=\"id\",value=\"exampleModal\").click()   ### cerrar la ventana emergente\n",
    "    time.sleep(0.5)\n",
    "    driver.find_element(by=\"id\",value=\"Button1\").click()        ### ingresar\n",
    "    time.sleep(0.5)\n",
    "    return "
   ]
  },
  {
   "cell_type": "code",
   "execution_count": 11,
   "metadata": {},
   "outputs": [],
   "source": [
    "def get_download_data(driver, url, debug:bool=False):\n",
    "    if debug==True: print(f\"fx({get_download_data.__name__})\")\n",
    "    driver.get(url)\n",
    "    time.sleep(0.5)\n",
    "    driver.find_element(by=\"id\",value=\"_ctl0_ibBuscarFtr\").click()                           ### cargar todos\n",
    "    time.sleep(2)\n",
    "    driver.find_element(by=\"id\",value=\"_ctl0_ContentPlaceHolder1_ibExcel\").click()           ### descargar excel\n",
    "    if debug==True: print(\"\\t\",url)\n",
    "    return"
   ]
  },
  {
   "cell_type": "code",
   "execution_count": 12,
   "metadata": {},
   "outputs": [],
   "source": [
    "def read_downloaded_file(k:str, f:str, fechaconsulta, debug:bool=False):\n",
    "    if debug==True: print(f\"fx({read_downloaded_file.__name__})\")\n",
    "    try:\n",
    "        df = pd.read_html(f)\n",
    "        if debug==True: print(\"\\tReaded by pandas\")\n",
    "        if isinstance(df,pd.DataFrame):\n",
    "            pass\n",
    "        elif isinstance(df,list):\n",
    "            if isinstance(df[0],pd.DataFrame) and df[0].columns[0]==0:\n",
    "                cols = df[0].iloc[0].values\n",
    "                df = df[0].iloc[1:]\n",
    "                df.columns = cols\n",
    "            else:\n",
    "                e = f\"\\tbad structure.\"\n",
    "                print(e)\n",
    "                raise Exception(e)\n",
    "        else:\n",
    "            e = f\"\\tbad structure. not [list] or [pd.DataFrame]\"\n",
    "            print(e)\n",
    "            raise Exception(e)\n",
    "    except:\n",
    "        try:\n",
    "            with open(f, 'rt') as fo:\n",
    "                raw = etree.HTML(fo.read()).find(\"body/table\")\n",
    "                rows = iter(raw)\n",
    "                headers = [col.text for col in next(rows)]\n",
    "                values=[]\n",
    "                for row in rows:\n",
    "                    values.append([col.text for col in row])\n",
    "                df = pd.DataFrame(values,columns=headers)\n",
    "            if debug==True: print(\"\\tReaded by etree\")\n",
    "        except Exception as e:\n",
    "            e = f\"\\tno se leyo.. {f}\\nError: {e}\"\n",
    "            raise Exception(e)\n",
    "    if debug==True: print(\"\\ttype(df) = \", type(df))\n",
    "    df[\"fechahora_consulta\"] = fechaconsulta\n",
    "    if debug==True: print(f\"\\t{k}.shape = {df.shape}\")\n",
    "    return df"
   ]
  },
  {
   "cell_type": "code",
   "execution_count": 13,
   "metadata": {},
   "outputs": [],
   "source": [
    "def save_to_parquet(k:str, df:pd.DataFrame, fechaconsulta, debug:bool=False):\n",
    "    if debug==True: print(f\"fx({save_to_parquet.__name__})\")\n",
    "    try:\n",
    "        os.makedirs(\"output\")\n",
    "    except:\n",
    "        pass\n",
    "    fName = f'output/{k.lower()}__{fechaconsulta.strftime(\"%Y%m%d_%H%M%S%f\")}.parquet'\n",
    "    df.to_parquet(fName)\n",
    "    return fName"
   ]
  },
  {
   "attachments": {},
   "cell_type": "markdown",
   "metadata": {},
   "source": [
    "## main"
   ]
  },
  {
   "cell_type": "code",
   "execution_count": 14,
   "metadata": {},
   "outputs": [],
   "source": [
    "url                 = \"https://prestadores.minsalud.gov.co/habilitacion\"\n",
    "url_loggin          = f\"{url}/work.aspx\"\n",
    "url_prestadores     = f\"{url}/consultas/habilitados_reps.aspx\"\n",
    "url_sedes           = f\"{url}/consultas/sedes_reps.aspx\"\n",
    "url_servicios       = f\"{url}/consultas/serviciossedes_reps.aspx\"\n",
    "url_capacidad       = f\"{url}/consultas/capacidadesinstaladas_reps.aspx\"\n",
    "urls                = [url_prestadores, url_sedes, url_servicios, url_capacidad]\n",
    "kind_of_driver      = \"chrome\"\n",
    "downloaded_files    = list()\n",
    "\n",
    "debug = False    # True"
   ]
  },
  {
   "cell_type": "code",
   "execution_count": null,
   "metadata": {},
   "outputs": [],
   "source": [
    "download_path = make_download_path()\n",
    "clean_not_downloaded(download_path=download_path)\n",
    "download_path\n"
   ]
  },
  {
   "cell_type": "code",
   "execution_count": 16,
   "metadata": {},
   "outputs": [
    {
     "name": "stdout",
     "output_type": "stream",
     "text": [
      "Driver started ... chrome\n",
      "CPU times: total: 15.6 ms\n",
      "Wall time: 4.08 s\n"
     ]
    }
   ],
   "source": [
    "%%time\n",
    "options = make_options(download_path=download_path, kind_of_driver=kind_of_driver, debug=debug)\n",
    "driver = start_driver(kind_of_driver=kind_of_driver, options=options, debug=debug)\n",
    "print(f\"Driver started ... {kind_of_driver}\")"
   ]
  },
  {
   "cell_type": "code",
   "execution_count": 17,
   "metadata": {},
   "outputs": [
    {
     "name": "stdout",
     "output_type": "stream",
     "text": [
      "Logging in web ... https://prestadores.minsalud.gov.co/habilitacion/work.aspx\n",
      "CPU times: total: 0 ns\n",
      "Wall time: 5.92 s\n"
     ]
    }
   ],
   "source": [
    "%%time\n",
    "sing_in(driver=driver, url_loggin=url_loggin, debug=debug)\n",
    "print(f\"Logging in web ... {url_loggin}\")"
   ]
  },
  {
   "cell_type": "code",
   "execution_count": 18,
   "metadata": {},
   "outputs": [
    {
     "name": "stdout",
     "output_type": "stream",
     "text": [
      "************************************************** https://prestadores.minsalud.gov.co/habilitacion/consultas/habilitados_reps.aspx\n",
      "\t 1.08 min.\n",
      "\n",
      "************************************************** https://prestadores.minsalud.gov.co/habilitacion/consultas/sedes_reps.aspx\n",
      "\t 1.46 min.\n",
      "\n",
      "************************************************** https://prestadores.minsalud.gov.co/habilitacion/consultas/serviciossedes_reps.aspx\n",
      "\t 5.52 min.\n",
      "\n",
      "************************************************** https://prestadores.minsalud.gov.co/habilitacion/consultas/capacidadesinstaladas_reps.aspx\n",
      "\t 1.79 min.\n",
      "\n",
      "CPU times: total: 141 ms\n",
      "Wall time: 9min 53s\n"
     ]
    }
   ],
   "source": [
    "%%time\n",
    "for u in urls:\n",
    "    # u = urls[0]\n",
    "    print(\"*\"*50, u)\n",
    "    start = time.time()\n",
    "    get_download_data(driver=driver, url=u, debug=debug)\n",
    "    fechaconsulta = datetime.datetime.now()\n",
    "    wait_til_download(download_path=download_path, debug=debug)\n",
    "    k,last_file = get_last_downloaded_file(download_path=download_path, debug=debug)\n",
    "    downloaded_files.append({k: {\"file\": last_file, \"url\":u, \"fechahora_consulta\": fechaconsulta}})\n",
    "    time.sleep(5)\n",
    "    print(\"\\t\", round((time.time()-start)/60,2),\"min.\")\n",
    "    print(\"\")\n",
    "driver.close()\n",
    "driver.quit()"
   ]
  },
  {
   "cell_type": "code",
   "execution_count": 19,
   "metadata": {},
   "outputs": [
    {
     "data": {
      "text/plain": [
       "[{'Prestadores': {'file': 'd:\\\\dherrera\\\\OneDrive - COOSALUD EPS-S\\\\PERSONAL\\\\LearnigDS-ML\\\\WebScraping\\\\downloads\\\\Prestadores.xls',\n",
       "   'url': 'https://prestadores.minsalud.gov.co/habilitacion/consultas/habilitados_reps.aspx',\n",
       "   'fechahora_consulta': datetime.datetime(2023, 1, 25, 14, 57, 31, 205343)}},\n",
       " {'Sedes': {'file': 'd:\\\\dherrera\\\\OneDrive - COOSALUD EPS-S\\\\PERSONAL\\\\LearnigDS-ML\\\\WebScraping\\\\downloads\\\\Sedes.xls',\n",
       "   'url': 'https://prestadores.minsalud.gov.co/habilitacion/consultas/sedes_reps.aspx',\n",
       "   'fechahora_consulta': datetime.datetime(2023, 1, 25, 14, 58, 43, 548117)}},\n",
       " {'Servicios': {'file': 'd:\\\\dherrera\\\\OneDrive - COOSALUD EPS-S\\\\PERSONAL\\\\LearnigDS-ML\\\\WebScraping\\\\downloads\\\\Servicios.xls',\n",
       "   'url': 'https://prestadores.minsalud.gov.co/habilitacion/consultas/serviciossedes_reps.aspx',\n",
       "   'fechahora_consulta': datetime.datetime(2023, 1, 25, 15, 1, 4, 392393)}},\n",
       " {'CapacidadInstalada': {'file': 'd:\\\\dherrera\\\\OneDrive - COOSALUD EPS-S\\\\PERSONAL\\\\LearnigDS-ML\\\\WebScraping\\\\downloads\\\\CapacidadInstalada.xls',\n",
       "   'url': 'https://prestadores.minsalud.gov.co/habilitacion/consultas/capacidadesinstaladas_reps.aspx',\n",
       "   'fechahora_consulta': datetime.datetime(2023, 1, 25, 15, 5, 57, 315210)}}]"
      ]
     },
     "execution_count": 19,
     "metadata": {},
     "output_type": "execute_result"
    }
   ],
   "source": [
    "try:\n",
    "    if len(downloaded_files)==0: raise Exception\n",
    "except:\n",
    "    downloaded_files = get_last_files_donloaded(download_path)\n",
    "downloaded_files"
   ]
  },
  {
   "cell_type": "code",
   "execution_count": 20,
   "metadata": {},
   "outputs": [
    {
     "name": "stdout",
     "output_type": "stream",
     "text": [
      "************************************************** Prestadores\n",
      "\teplased time = 34.0seg.\n",
      "************************************************** Sedes\n",
      "\teplased time = 59.0seg.\n",
      "************************************************** Servicios\n",
      "\teplased time = 2.1min.\n",
      "************************************************** CapacidadInstalada\n",
      "\teplased time = 53.0seg.\n"
     ]
    }
   ],
   "source": [
    "# read and save in parquet\n",
    "for x in downloaded_files:\n",
    "    start = time.time()\n",
    "    k = list(x.keys())[0]\n",
    "    f = list(x.values())[0][\"file\"]\n",
    "    fechaconsulta = list(x.values())[0][\"fechahora_consulta\"]\n",
    "    print(\"*\"*50, k)\n",
    "    df = read_downloaded_file(k=k, f=f, fechaconsulta=fechaconsulta, debug=debug)\n",
    "    save_to_parquet(k=k, df=df, fechaconsulta=fechaconsulta, debug=debug)\n",
    "    t = time.time()-start\n",
    "    if t>60:\n",
    "        t = f\"{round((t/60),1)}min.\"\n",
    "    else:\n",
    "        t = f\"{round(t,0)}seg.\"\n",
    "    print(f\"\\teplased time = {t}\")"
   ]
  },
  {
   "cell_type": "code",
   "execution_count": 21,
   "metadata": {},
   "outputs": [
    {
     "name": "stdout",
     "output_type": "stream",
     "text": [
      "END...  14.6 min.\n"
     ]
    }
   ],
   "source": [
    "print(\"END... \", round((time.time()-start_i)/60,1),\"min.\")"
   ]
  },
  {
   "cell_type": "code",
   "execution_count": null,
   "metadata": {},
   "outputs": [],
   "source": []
  }
 ],
 "metadata": {
  "kernelspec": {
   "display_name": "Python 3",
   "language": "python",
   "name": "python3"
  },
  "language_info": {
   "codemirror_mode": {
    "name": "ipython",
    "version": 3
   },
   "file_extension": ".py",
   "mimetype": "text/x-python",
   "name": "python",
   "nbconvert_exporter": "python",
   "pygments_lexer": "ipython3",
   "version": "3.9.13"
  },
  "orig_nbformat": 4,
  "vscode": {
   "interpreter": {
    "hash": "22e5dea1628f7e1c945df06b9a2434c5192832944f53cfc6bc7b26069c0c4ffd"
   }
  }
 },
 "nbformat": 4,
 "nbformat_minor": 2
}
