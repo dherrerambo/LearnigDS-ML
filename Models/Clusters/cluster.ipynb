{
 "cells": [
  {
   "attachments": {},
   "cell_type": "markdown",
   "metadata": {},
   "source": [
    "# Clusters\n",
    "\n",
    "- https://towardsdatascience.com/explain-ml-in-a-simple-way-k-means-clustering-e925d019743b\n",
    "- https://data36.com/k-means-clustering-scikit-learn-python/\n",
    "- https://towardsdatascience.com/an-approach-for-choosing-number-of-clusters-for-k-means-c28e614ecb2c\n",
    "- https://medium.com/grabngoinfo/4-clustering-model-algorithms-in-python-and-which-is-the-best-7f3431a6e624"
   ]
  },
  {
   "cell_type": "code",
   "execution_count": 1,
   "metadata": {},
   "outputs": [],
   "source": [
    "def plot_elbow(X, min_cluster:int, max_cluster:int, desc:str=None):\n",
    "    from sklearn.cluster import KMeans\n",
    "    from seaborn import lineplot\n",
    "    import matplotlib.pyplot as plt\n",
    "\n",
    "    clusters = dict()\n",
    "    for i in range(min_cluster, max_cluster+1):\n",
    "        km = KMeans(n_clusters=i).fit(X)\n",
    "        clusters.update({i: km.inertia_})\n",
    "        \n",
    "    fig, ax = plt.subplots(figsize=(8, 6))\n",
    "    lineplot(x=list(range(min_cluster, max_cluster+1)), y=clusters.values(), markers=True, ax=ax)  # 'bx-'\n",
    "    ax.set_title(f'Elbow test for {desc}')\n",
    "    ax.set_xlabel('Clusters')\n",
    "    ax.set_ylabel('Inertia')\n",
    "    plt.show()\n",
    "    return clusters"
   ]
  },
  {
   "cell_type": "code",
   "execution_count": null,
   "metadata": {},
   "outputs": [],
   "source": []
  }
 ],
 "metadata": {
  "kernelspec": {
   "display_name": "Python 3",
   "language": "python",
   "name": "python3"
  },
  "language_info": {
   "codemirror_mode": {
    "name": "ipython",
    "version": 3
   },
   "file_extension": ".py",
   "mimetype": "text/x-python",
   "name": "python",
   "nbconvert_exporter": "python",
   "pygments_lexer": "ipython3",
   "version": "3.9.13 (tags/v3.9.13:6de2ca5, May 17 2022, 16:36:42) [MSC v.1929 64 bit (AMD64)]"
  },
  "orig_nbformat": 4,
  "vscode": {
   "interpreter": {
    "hash": "22e5dea1628f7e1c945df06b9a2434c5192832944f53cfc6bc7b26069c0c4ffd"
   }
  }
 },
 "nbformat": 4,
 "nbformat_minor": 2
}
