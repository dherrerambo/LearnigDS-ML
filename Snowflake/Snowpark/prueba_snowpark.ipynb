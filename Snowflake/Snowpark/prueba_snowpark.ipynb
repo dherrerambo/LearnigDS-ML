{
 "cells": [
  {
   "cell_type": "markdown",
   "metadata": {},
   "source": [
    "# Prueba de snowpark"
   ]
  },
  {
   "cell_type": "code",
   "execution_count": 1,
   "metadata": {},
   "outputs": [],
   "source": [
    "from datatools.snowflake import make_conn, get_params"
   ]
  },
  {
   "cell_type": "code",
   "execution_count": 2,
   "metadata": {},
   "outputs": [
    {
     "name": "stdout",
     "output_type": "stream",
     "text": [
      "\tget from local [.env] file.\n"
     ]
    },
    {
     "data": {
      "text/plain": [
       "dict_keys(['account', 'user', 'password', 'role', 'warehouse', 'host'])"
      ]
     },
     "execution_count": 2,
     "metadata": {},
     "output_type": "execute_result"
    }
   ],
   "source": [
    "connection_parameters = get_params()\n",
    "connection_parameters.keys()"
   ]
  },
  {
   "cell_type": "code",
   "execution_count": 3,
   "metadata": {},
   "outputs": [],
   "source": [
    "from snowflake.snowpark import Session"
   ]
  },
  {
   "cell_type": "code",
   "execution_count": 4,
   "metadata": {},
   "outputs": [],
   "source": [
    "## crea conexion\n",
    "session = Session.builder.configs(connection_parameters).create()  "
   ]
  },
  {
   "cell_type": "code",
   "execution_count": 5,
   "metadata": {},
   "outputs": [
    {
     "name": "stdout",
     "output_type": "stream",
     "text": [
      "---------------------------------------------------------------------\n",
      "|\"DEPARTAMENTO_COD\"  |\"DEPARTAMENTO\"  |\"DIVIPOLA\"  |\"MUNICIPIO\"     |\n",
      "---------------------------------------------------------------------\n",
      "|11                  |Bogotá, D.C.    |11001       |Bogotá, D.C.    |\n",
      "|15                  |Boyacá          |15226       |Cuítiva         |\n",
      "|15                  |Boyacá          |15518       |Pajarito        |\n",
      "|25                  |Cundinamarca    |25394       |La Palma        |\n",
      "|47                  |Magdalena       |47605       |Remolino        |\n",
      "|52                  |Nariño          |52385       |La Llanada      |\n",
      "|73                  |Tolima          |73483       |Natagaima       |\n",
      "|73                  |Tolima          |73624       |Rovira          |\n",
      "|05                  |Antioquia       |05756       |Sonsón          |\n",
      "|13                  |Bolívar         |13673       |Santa Catalina  |\n",
      "---------------------------------------------------------------------\n",
      "\n"
     ]
    }
   ],
   "source": [
    "df_sql = session.sql(\"select * from VP_INFORMACION.REF.DIVIPOLA\")\n",
    "df_sql.show()"
   ]
  },
  {
   "cell_type": "code",
   "execution_count": 6,
   "metadata": {},
   "outputs": [
    {
     "name": "stdout",
     "output_type": "stream",
     "text": [
      "--------------\n",
      "|\"COUNT(*)\"  |\n",
      "--------------\n",
      "|216210362   |\n",
      "--------------\n",
      "\n"
     ]
    }
   ],
   "source": [
    "df_sql = session.sql(\"select count(*) from VP_INFORMACION.NT.MICRO\")\n",
    "df_sql.show()"
   ]
  },
  {
   "cell_type": "code",
   "execution_count": 9,
   "metadata": {},
   "outputs": [
    {
     "data": {
      "text/plain": [
       "30"
      ]
     },
     "execution_count": 9,
     "metadata": {},
     "output_type": "execute_result"
    }
   ],
   "source": [
    "df_sql = session.sql(\"select coalesce(DEPARTAMENTO_AFILIADO,DEPARTAMENTO_IPS) as DPTO, count(*) from VP_INFORMACION.NT.MICRO where year(FECHA_INGRESO)=2022 group by 1 order by 1\")\n",
    "df_sql.count()"
   ]
  },
  {
   "cell_type": "code",
   "execution_count": 10,
   "metadata": {},
   "outputs": [],
   "source": [
    "df = df_sql.to_pandas()"
   ]
  },
  {
   "cell_type": "code",
   "execution_count": 11,
   "metadata": {},
   "outputs": [
    {
     "data": {
      "text/html": [
       "<div>\n",
       "<style scoped>\n",
       "    .dataframe tbody tr th:only-of-type {\n",
       "        vertical-align: middle;\n",
       "    }\n",
       "\n",
       "    .dataframe tbody tr th {\n",
       "        vertical-align: top;\n",
       "    }\n",
       "\n",
       "    .dataframe thead th {\n",
       "        text-align: right;\n",
       "    }\n",
       "</style>\n",
       "<table border=\"1\" class=\"dataframe\">\n",
       "  <thead>\n",
       "    <tr style=\"text-align: right;\">\n",
       "      <th></th>\n",
       "      <th>DPTO</th>\n",
       "      <th>COUNT(*)</th>\n",
       "    </tr>\n",
       "  </thead>\n",
       "  <tbody>\n",
       "    <tr>\n",
       "      <th>0</th>\n",
       "      <td>AMAZONAS</td>\n",
       "      <td>6</td>\n",
       "    </tr>\n",
       "    <tr>\n",
       "      <th>1</th>\n",
       "      <td>ANTIOQUIA</td>\n",
       "      <td>6583661</td>\n",
       "    </tr>\n",
       "    <tr>\n",
       "      <th>2</th>\n",
       "      <td>ARAUCA</td>\n",
       "      <td>471094</td>\n",
       "    </tr>\n",
       "    <tr>\n",
       "      <th>3</th>\n",
       "      <td>ATLÁNTICO</td>\n",
       "      <td>8246381</td>\n",
       "    </tr>\n",
       "    <tr>\n",
       "      <th>4</th>\n",
       "      <td>BOGOTÁ, D.C.</td>\n",
       "      <td>285283</td>\n",
       "    </tr>\n",
       "    <tr>\n",
       "      <th>5</th>\n",
       "      <td>BOLÍVAR</td>\n",
       "      <td>7972048</td>\n",
       "    </tr>\n",
       "    <tr>\n",
       "      <th>6</th>\n",
       "      <td>BOYACÁ</td>\n",
       "      <td>1571561</td>\n",
       "    </tr>\n",
       "    <tr>\n",
       "      <th>7</th>\n",
       "      <td>CALDAS</td>\n",
       "      <td>18195</td>\n",
       "    </tr>\n",
       "    <tr>\n",
       "      <th>8</th>\n",
       "      <td>CAQUETÁ</td>\n",
       "      <td>7</td>\n",
       "    </tr>\n",
       "    <tr>\n",
       "      <th>9</th>\n",
       "      <td>CASANARE</td>\n",
       "      <td>17486</td>\n",
       "    </tr>\n",
       "    <tr>\n",
       "      <th>10</th>\n",
       "      <td>CAUCA</td>\n",
       "      <td>63034</td>\n",
       "    </tr>\n",
       "    <tr>\n",
       "      <th>11</th>\n",
       "      <td>CESAR</td>\n",
       "      <td>2314497</td>\n",
       "    </tr>\n",
       "    <tr>\n",
       "      <th>12</th>\n",
       "      <td>CHOCÓ</td>\n",
       "      <td>62919</td>\n",
       "    </tr>\n",
       "    <tr>\n",
       "      <th>13</th>\n",
       "      <td>CUNDINAMARCA</td>\n",
       "      <td>561117</td>\n",
       "    </tr>\n",
       "    <tr>\n",
       "      <th>14</th>\n",
       "      <td>CÓRDOBA</td>\n",
       "      <td>2517215</td>\n",
       "    </tr>\n",
       "    <tr>\n",
       "      <th>15</th>\n",
       "      <td>GUAINÍA</td>\n",
       "      <td>293183</td>\n",
       "    </tr>\n",
       "    <tr>\n",
       "      <th>16</th>\n",
       "      <td>HUILA</td>\n",
       "      <td>4977</td>\n",
       "    </tr>\n",
       "    <tr>\n",
       "      <th>17</th>\n",
       "      <td>LA GUAJIRA</td>\n",
       "      <td>30379</td>\n",
       "    </tr>\n",
       "    <tr>\n",
       "      <th>18</th>\n",
       "      <td>MAGDALENA</td>\n",
       "      <td>5737892</td>\n",
       "    </tr>\n",
       "    <tr>\n",
       "      <th>19</th>\n",
       "      <td>META</td>\n",
       "      <td>38615</td>\n",
       "    </tr>\n",
       "    <tr>\n",
       "      <th>20</th>\n",
       "      <td>NARIÑO</td>\n",
       "      <td>142</td>\n",
       "    </tr>\n",
       "    <tr>\n",
       "      <th>21</th>\n",
       "      <td>NORTE DE SANTANDER</td>\n",
       "      <td>5889388</td>\n",
       "    </tr>\n",
       "    <tr>\n",
       "      <th>22</th>\n",
       "      <td>PUTUMAYO</td>\n",
       "      <td>35</td>\n",
       "    </tr>\n",
       "    <tr>\n",
       "      <th>23</th>\n",
       "      <td>QUINDÍO</td>\n",
       "      <td>193</td>\n",
       "    </tr>\n",
       "    <tr>\n",
       "      <th>24</th>\n",
       "      <td>RISARALDA</td>\n",
       "      <td>175845</td>\n",
       "    </tr>\n",
       "    <tr>\n",
       "      <th>25</th>\n",
       "      <td>SANTANDER</td>\n",
       "      <td>6688960</td>\n",
       "    </tr>\n",
       "    <tr>\n",
       "      <th>26</th>\n",
       "      <td>SUCRE</td>\n",
       "      <td>2308573</td>\n",
       "    </tr>\n",
       "    <tr>\n",
       "      <th>27</th>\n",
       "      <td>TOLIMA</td>\n",
       "      <td>10764</td>\n",
       "    </tr>\n",
       "    <tr>\n",
       "      <th>28</th>\n",
       "      <td>VALLE DEL CAUCA</td>\n",
       "      <td>8252546</td>\n",
       "    </tr>\n",
       "    <tr>\n",
       "      <th>29</th>\n",
       "      <td>VICHADA</td>\n",
       "      <td>4</td>\n",
       "    </tr>\n",
       "  </tbody>\n",
       "</table>\n",
       "</div>"
      ],
      "text/plain": [
       "                  DPTO  COUNT(*)\n",
       "0             AMAZONAS         6\n",
       "1            ANTIOQUIA   6583661\n",
       "2               ARAUCA    471094\n",
       "3            ATLÁNTICO   8246381\n",
       "4         BOGOTÁ, D.C.    285283\n",
       "5              BOLÍVAR   7972048\n",
       "6               BOYACÁ   1571561\n",
       "7               CALDAS     18195\n",
       "8              CAQUETÁ         7\n",
       "9             CASANARE     17486\n",
       "10               CAUCA     63034\n",
       "11               CESAR   2314497\n",
       "12               CHOCÓ     62919\n",
       "13        CUNDINAMARCA    561117\n",
       "14             CÓRDOBA   2517215\n",
       "15             GUAINÍA    293183\n",
       "16               HUILA      4977\n",
       "17          LA GUAJIRA     30379\n",
       "18           MAGDALENA   5737892\n",
       "19                META     38615\n",
       "20              NARIÑO       142\n",
       "21  NORTE DE SANTANDER   5889388\n",
       "22            PUTUMAYO        35\n",
       "23             QUINDÍO       193\n",
       "24           RISARALDA    175845\n",
       "25           SANTANDER   6688960\n",
       "26               SUCRE   2308573\n",
       "27              TOLIMA     10764\n",
       "28     VALLE DEL CAUCA   8252546\n",
       "29             VICHADA         4"
      ]
     },
     "execution_count": 11,
     "metadata": {},
     "output_type": "execute_result"
    }
   ],
   "source": [
    "df"
   ]
  },
  {
   "cell_type": "code",
   "execution_count": 12,
   "metadata": {},
   "outputs": [],
   "source": [
    "## cierra conexion\n",
    "session.close()"
   ]
  },
  {
   "cell_type": "code",
   "execution_count": null,
   "metadata": {},
   "outputs": [],
   "source": []
  }
 ],
 "metadata": {
  "kernelspec": {
   "display_name": ".snowparkpy38",
   "language": "python",
   "name": "python3"
  },
  "language_info": {
   "codemirror_mode": {
    "name": "ipython",
    "version": 3
   },
   "file_extension": ".py",
   "mimetype": "text/x-python",
   "name": "python",
   "nbconvert_exporter": "python",
   "pygments_lexer": "ipython3",
   "version": "3.8.8"
  },
  "orig_nbformat": 4,
  "vscode": {
   "interpreter": {
    "hash": "616f4d739b3808259a4bdc4645ffe3cd1504a4dde7107a22c11bebef8d9ee8be"
   }
  }
 },
 "nbformat": 4,
 "nbformat_minor": 2
}
