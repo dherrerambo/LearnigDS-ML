{
 "cells": [
  {
   "attachments": {},
   "cell_type": "markdown",
   "metadata": {},
   "source": [
    "## Loading Worker"
   ]
  },
  {
   "cell_type": "code",
   "execution_count": 1,
   "metadata": {},
   "outputs": [],
   "source": [
    "from workers_mp import dummy_worker"
   ]
  },
  {
   "cell_type": "code",
   "execution_count": 2,
   "metadata": {},
   "outputs": [
    {
     "name": "stdout",
     "output_type": "stream",
     "text": [
      "0 {'arg1': 50, 'arg2': 'prueba', 'time': 1}\n",
      "1 {'arg1': 50, 'arg2': 'prueba', 'time': 2}\n",
      "2 {'arg1': 50, 'arg2': 'prueba', 'time': 1}\n",
      "3 {'arg1': 50, 'arg2': 'prueba', 'time': 1}\n",
      "4 {'arg1': 50, 'arg2': 'prueba', 'time': 1}\n",
      "5 {'arg1': 50, 'arg2': 'prueba', 'time': 2}\n",
      "6 {'arg1': 50, 'arg2': 'prueba', 'time': 1}\n",
      "7 {'arg1': 50, 'arg2': 'prueba', 'time': 0}\n",
      "8 {'arg1': 50, 'arg2': 'prueba', 'time': 2}\n",
      "9 {'arg1': 50, 'arg2': 'prueba', 'time': 3}\n",
      "CPU times: total: 0 ns\n",
      "Wall time: 14 s\n"
     ]
    }
   ],
   "source": [
    "%%time\n",
    "## test worker\n",
    "for i in range(10):\n",
    "    print(i, dummy_worker(arg1=50, arg2=\"prueba\"))"
   ]
  },
  {
   "cell_type": "code",
   "execution_count": 3,
   "metadata": {},
   "outputs": [
    {
     "name": "stdout",
     "output_type": "stream",
     "text": [
      "0 {'arg1': 50, 'arg2': 'prueba', 'static_time': 2, 'time': 1}\n",
      "1 {'arg1': 50, 'arg2': 'prueba', 'static_time': 2, 'time': 1}\n",
      "2 {'arg1': 50, 'arg2': 'prueba', 'static_time': 2, 'time': 1}\n",
      "3 {'arg1': 50, 'arg2': 'prueba', 'static_time': 2, 'time': 1}\n",
      "4 {'arg1': 50, 'arg2': 'prueba', 'static_time': 2, 'time': 1}\n",
      "5 {'arg1': 50, 'arg2': 'prueba', 'static_time': 2, 'time': 1}\n",
      "6 {'arg1': 50, 'arg2': 'prueba', 'static_time': 2, 'time': 1}\n",
      "7 {'arg1': 50, 'arg2': 'prueba', 'static_time': 2, 'time': 1}\n",
      "8 {'arg1': 50, 'arg2': 'prueba', 'static_time': 2, 'time': 1}\n",
      "9 {'arg1': 50, 'arg2': 'prueba', 'static_time': 2, 'time': 1}\n",
      "CPU times: total: 15.6 ms\n",
      "Wall time: 10.1 s\n"
     ]
    }
   ],
   "source": [
    "%%time\n",
    "## test worker with static time\n",
    "for i in range(10):\n",
    "    print(i, dummy_worker(arg1=50, arg2=\"prueba\", static_time=2))"
   ]
  },
  {
   "cell_type": "code",
   "execution_count": 4,
   "metadata": {},
   "outputs": [
    {
     "name": "stdout",
     "output_type": "stream",
     "text": [
      "**************************************************  Start debugging.\n",
      "time= 1\n",
      "args= ()\n",
      "kwargs= {'arg1': 50, 'arg2': 'prueba', 'debug': True}\n",
      "**************************************************  End debugging.\n"
     ]
    },
    {
     "data": {
      "text/plain": [
       "{'arg1': 50, 'arg2': 'prueba', 'debug': True, 'time': 1}"
      ]
     },
     "execution_count": 4,
     "metadata": {},
     "output_type": "execute_result"
    }
   ],
   "source": [
    "## test debugging worker\n",
    "dummy_worker(arg1=50, arg2=\"prueba\", debug=True)"
   ]
  },
  {
   "cell_type": "code",
   "execution_count": 5,
   "metadata": {},
   "outputs": [
    {
     "name": "stdout",
     "output_type": "stream",
     "text": [
      "Dummy Error\n",
      "\t[args]=()\n",
      "\t[kwargs]={'arg1': 50, 'arg2': 'prueba', 'fail': True}\n"
     ]
    }
   ],
   "source": [
    "## test fail worker\n",
    "try:\n",
    "    dummy_worker(arg1=50, arg2=\"prueba\", fail=True)\n",
    "except Exception as e:\n",
    "    print(e)"
   ]
  },
  {
   "cell_type": "markdown",
   "metadata": {},
   "source": [
    "## Processing"
   ]
  },
  {
   "cell_type": "code",
   "execution_count": 2,
   "metadata": {},
   "outputs": [],
   "source": [
    "import time"
   ]
  },
  {
   "cell_type": "code",
   "execution_count": 3,
   "metadata": {},
   "outputs": [
    {
     "name": "stdout",
     "output_type": "stream",
     "text": [
      "len= 100\n"
     ]
    },
    {
     "data": {
      "text/plain": [
       "[{'num': 0, 'str': '#0'},\n",
       " {'num': 1, 'str': '#1'},\n",
       " {'num': 2, 'str': '#2'},\n",
       " {'num': 3, 'str': '#3'},\n",
       " {'num': 4, 'str': '#4'},\n",
       " {'num': 5, 'str': '#5'},\n",
       " {'num': 6, 'str': '#6'},\n",
       " {'num': 7, 'str': '#7'},\n",
       " {'num': 8, 'str': '#8'},\n",
       " {'num': 9, 'str': '#9'}]"
      ]
     },
     "execution_count": 3,
     "metadata": {},
     "output_type": "execute_result"
    }
   ],
   "source": [
    "kwargs = [{\"num\": i, \"str\": f\"#{i}\"} for i in range(100)]\n",
    "print(\"len=\",len(kwargs))\n",
    "kwargs[:10]"
   ]
  },
  {
   "attachments": {},
   "cell_type": "markdown",
   "metadata": {},
   "source": [
    "### Serial"
   ]
  },
  {
   "cell_type": "code",
   "execution_count": 8,
   "metadata": {},
   "outputs": [
    {
     "name": "stdout",
     "output_type": "stream",
     "text": [
      "{'args': ({'num': 0, 'str': '#0'},), 'time': 2}\n",
      "{'args': ({'num': 1, 'str': '#1'},), 'time': 1}\n",
      "{'args': ({'num': 2, 'str': '#2'},), 'time': 3}\n",
      "{'args': ({'num': 3, 'str': '#3'},), 'time': 1}\n",
      "{'args': ({'num': 4, 'str': '#4'},), 'time': 3}\n",
      "{'args': ({'num': 5, 'str': '#5'},), 'time': 3}\n",
      "{'args': ({'num': 6, 'str': '#6'},), 'time': 3}\n",
      "{'args': ({'num': 7, 'str': '#7'},), 'time': 0}\n",
      "{'args': ({'num': 8, 'str': '#8'},), 'time': 1}\n",
      "{'args': ({'num': 9, 'str': '#9'},), 'time': 2}\n",
      "CPU times: total: 0 ns\n",
      "Wall time: 19.1 s\n"
     ]
    }
   ],
   "source": [
    "%%time\n",
    "try:\n",
    "    for arg in kwargs[:10]:\n",
    "        print(dummy_worker(arg))\n",
    "except Exception as e:\n",
    "    print(e)"
   ]
  },
  {
   "cell_type": "code",
   "execution_count": 9,
   "metadata": {},
   "outputs": [
    {
     "name": "stdout",
     "output_type": "stream",
     "text": [
      "{'num': 0, 'str': '#0', 'time': 1}\n",
      "{'num': 1, 'str': '#1', 'time': 2}\n",
      "{'num': 2, 'str': '#2', 'time': 0}\n",
      "{'num': 3, 'str': '#3', 'time': 0}\n",
      "{'num': 4, 'str': '#4', 'time': 0}\n",
      "{'num': 5, 'str': '#5', 'time': 3}\n",
      "{'num': 6, 'str': '#6', 'time': 2}\n",
      "{'num': 7, 'str': '#7', 'time': 0}\n",
      "{'num': 8, 'str': '#8', 'time': 0}\n",
      "{'num': 9, 'str': '#9', 'time': 3}\n",
      "CPU times: total: 15.6 ms\n",
      "Wall time: 11.1 s\n"
     ]
    }
   ],
   "source": [
    "%%time\n",
    "## passing the arguments as dict\n",
    "for arg in kwargs[:10]:\n",
    "    print(dummy_worker(**arg))"
   ]
  },
  {
   "cell_type": "code",
   "execution_count": 10,
   "metadata": {},
   "outputs": [
    {
     "name": "stdout",
     "output_type": "stream",
     "text": [
      "[(0.0, {'num': 0, 'str': '#0', 'time': 0}), (0.0, {'num': 1, 'str': '#1', 'time': 1}), (1.0063483715057373, {'num': 2, 'str': '#2', 'time': 2}), (3.0159010887145996, {'num': 3, 'str': '#3', 'time': 0}), (3.0159010887145996, {'num': 4, 'str': '#4', 'time': 0}), (3.0159010887145996, {'num': 5, 'str': '#5', 'time': 0}), (3.0159010887145996, {'num': 6, 'str': '#6', 'time': 0}), (3.0159010887145996, {'num': 7, 'str': '#7', 'time': 3}), (6.02414608001709, {'num': 8, 'str': '#8', 'time': 3}), (9.039824724197388, {'num': 9, 'str': '#9', 'time': 1})]\n",
      "CPU times: total: 15.6 ms\n",
      "Wall time: 10.1 s\n"
     ]
    }
   ],
   "source": [
    "%%time\n",
    "## todo de una sola vez\n",
    "t = time.time()\n",
    "print([(time.time()-t, dummy_worker(**arg)) for arg in kwargs[:10]])"
   ]
  },
  {
   "cell_type": "code",
   "execution_count": 11,
   "metadata": {},
   "outputs": [
    {
     "name": "stdout",
     "output_type": "stream",
     "text": [
      "(0.0, {'num': 0, 'str': '#0', 'time': 2})\n",
      "(2.0047571659088135, {'num': 1, 'str': '#1', 'time': 2})\n",
      "(4.004803419113159, {'num': 2, 'str': '#2', 'time': 1})\n",
      "(5.022939682006836, {'num': 3, 'str': '#3', 'time': 1})\n",
      "(6.030531644821167, {'num': 4, 'str': '#4', 'time': 0})\n",
      "(6.030531644821167, {'num': 5, 'str': '#5', 'time': 2})\n",
      "(8.041470050811768, {'num': 6, 'str': '#6', 'time': 2})\n",
      "(10.055107355117798, {'num': 7, 'str': '#7', 'time': 0})\n",
      "(10.055107355117798, {'num': 8, 'str': '#8', 'time': 3})\n",
      "(13.07107400894165, {'num': 9, 'str': '#9', 'time': 0})\n",
      "CPU times: total: 46.9 ms\n",
      "Wall time: 13.1 s\n"
     ]
    },
    {
     "data": {
      "text/plain": [
       "[None, None, None, None, None, None, None, None, None, None]"
      ]
     },
     "execution_count": 11,
     "metadata": {},
     "output_type": "execute_result"
    }
   ],
   "source": [
    "%%time\n",
    "## de acuerdo como se va procesando\n",
    "t = time.time()\n",
    "[print((time.time()-t, dummy_worker(**arg))) for arg in kwargs[:10]]"
   ]
  },
  {
   "attachments": {},
   "cell_type": "markdown",
   "metadata": {},
   "source": [
    "### Multiprocessing"
   ]
  },
  {
   "cell_type": "code",
   "execution_count": 7,
   "metadata": {},
   "outputs": [],
   "source": [
    "from multiprocessing import Pool, cpu_count"
   ]
  },
  {
   "cell_type": "code",
   "execution_count": 8,
   "metadata": {},
   "outputs": [
    {
     "name": "stdout",
     "output_type": "stream",
     "text": [
      "Max number of cores =  4\n",
      "Cores to use =  3\n"
     ]
    }
   ],
   "source": [
    "num_cores = cpu_count()\n",
    "use_cores = num_cores - 1\n",
    "print(\"Max number of cores = \", num_cores)\n",
    "print(\"Cores to use = \", use_cores)"
   ]
  },
  {
   "attachments": {},
   "cell_type": "markdown",
   "metadata": {},
   "source": [
    "## Paralell"
   ]
  },
  {
   "cell_type": "code",
   "execution_count": 14,
   "metadata": {},
   "outputs": [
    {
     "name": "stdout",
     "output_type": "stream",
     "text": [
      "{'args': ({'num': 0, 'str': '#0'},), 'time': 0}\n",
      "{'args': ({'num': 3, 'str': '#3'},), 'time': 0}\n",
      "{'args': ({'num': 4, 'str': '#4'},), 'time': 1}\n",
      "{'args': ({'num': 5, 'str': '#5'},), 'time': 0}\n",
      "{'args': ({'num': 2, 'str': '#2'},), 'time': 2}\n",
      "{'args': ({'num': 1, 'str': '#1'},), 'time': 2}\n",
      "{'args': ({'num': 7, 'str': '#7'},), 'time': 1}\n",
      "{'args': ({'num': 8, 'str': '#8'},), 'time': 2}\n",
      "{'args': ({'num': 6, 'str': '#6'},), 'time': 3}\n",
      "{'args': ({'num': 9, 'str': '#9'},), 'time': 2}\n",
      "CPU times: total: 0 ns\n",
      "Wall time: 5.39 s\n"
     ]
    }
   ],
   "source": [
    "%%time\n",
    "if __name__ == '__main__':\n",
    "    with Pool(processes=use_cores) as p:\n",
    "        for i in p.imap_unordered(dummy_worker, kwargs[:10]):\n",
    "        # for i in (p.imap_unordered(dummy_worker, **arg) for arg in kwargs):\n",
    "            print(i)"
   ]
  },
  {
   "attachments": {},
   "cell_type": "markdown",
   "metadata": {},
   "source": [
    "### **map**\n",
    "retun all at once"
   ]
  },
  {
   "cell_type": "code",
   "execution_count": 15,
   "metadata": {},
   "outputs": [
    {
     "name": "stdout",
     "output_type": "stream",
     "text": [
      "{'args': ({'num': 0, 'str': '#0'},), 'time': 0} 5.3\n",
      "{'args': ({'num': 1, 'str': '#1'},), 'time': 3} 5.3\n",
      "{'args': ({'num': 2, 'str': '#2'},), 'time': 2} 5.3\n",
      "{'args': ({'num': 3, 'str': '#3'},), 'time': 1} 5.3\n",
      "{'args': ({'num': 4, 'str': '#4'},), 'time': 1} 5.3\n",
      "{'args': ({'num': 5, 'str': '#5'},), 'time': 1} 5.3\n",
      "{'args': ({'num': 6, 'str': '#6'},), 'time': 3} 5.3\n",
      "{'args': ({'num': 7, 'str': '#7'},), 'time': 1} 5.3\n",
      "{'args': ({'num': 8, 'str': '#8'},), 'time': 1} 5.3\n",
      "{'args': ({'num': 9, 'str': '#9'},), 'time': 1} 5.3\n",
      "CPU times: total: 15.6 ms\n",
      "Wall time: 5.32 s\n"
     ]
    }
   ],
   "source": [
    "%%time\n",
    "t = time.time()\n",
    "if __name__ == '__main__':\n",
    "    with Pool(processes=use_cores) as p:\n",
    "        for i in p.map(func=dummy_worker, iterable=kwargs[:10]):\n",
    "            print(i, round(time.time()-t,1))"
   ]
  },
  {
   "cell_type": "markdown",
   "metadata": {},
   "source": [
    "### **map_async**\n",
    "- The map_async() function does not block, whereas the map() function does block.\n",
    "- The map_async() function returns an AsyncResult, whereas the map() function returns an iterable of return values from the target function.\n",
    "- The map_async() function can execute callback functions on return values and errors, whereas the map() function does not support callback functions."
   ]
  },
  {
   "cell_type": "code",
   "execution_count": 16,
   "metadata": {},
   "outputs": [
    {
     "name": "stdout",
     "output_type": "stream",
     "text": [
      "jobs sended.. 0.03662371635437012 sec.\n",
      "{'args': ({'num': 0, 'str': '#0'},), 'time': 1} 3.3\n",
      "{'args': ({'num': 1, 'str': '#1'},), 'time': 0} 3.3\n",
      "{'args': ({'num': 2, 'str': '#2'},), 'time': 2} 3.3\n",
      "{'args': ({'num': 3, 'str': '#3'},), 'time': 0} 3.3\n",
      "{'args': ({'num': 4, 'str': '#4'},), 'time': 0} 3.3\n",
      "{'args': ({'num': 5, 'str': '#5'},), 'time': 0} 3.3\n",
      "{'args': ({'num': 6, 'str': '#6'},), 'time': 0} 3.3\n",
      "{'args': ({'num': 7, 'str': '#7'},), 'time': 3} 3.3\n",
      "{'args': ({'num': 8, 'str': '#8'},), 'time': 0} 3.3\n",
      "{'args': ({'num': 9, 'str': '#9'},), 'time': 0} 3.3\n",
      "CPU times: total: 46.9 ms\n",
      "Wall time: 3.34 s\n"
     ]
    }
   ],
   "source": [
    "%%time\n",
    "t = time.time()\n",
    "if __name__ == '__main__':\n",
    "    with Pool(processes=use_cores) as p:\n",
    "        procc = p.map_async(func=dummy_worker, iterable=kwargs[:10])\n",
    "        print(\"jobs sended..\", time.time()-t, \"sec.\")\n",
    "        # procc is a generator!\n",
    "        for res in procc.get():\n",
    "            print(res, round(time.time()-t,1), flush=True)\n"
   ]
  },
  {
   "attachments": {},
   "cell_type": "markdown",
   "metadata": {},
   "source": [
    "### **imap** and **imap_unordered**\n",
    "its a iterator"
   ]
  },
  {
   "cell_type": "code",
   "execution_count": 17,
   "metadata": {},
   "outputs": [
    {
     "name": "stdout",
     "output_type": "stream",
     "text": [
      "{'args': ({'num': 0, 'str': '#0'},), 'time': 2} 2.3\n",
      "{'args': ({'num': 1, 'str': '#1'},), 'time': 0} 2.3\n",
      "{'args': ({'num': 2, 'str': '#2'},), 'time': 0} 2.3\n",
      "{'args': ({'num': 3, 'str': '#3'},), 'time': 0} 2.3\n",
      "{'args': ({'num': 4, 'str': '#4'},), 'time': 1} 2.3\n",
      "{'args': ({'num': 5, 'str': '#5'},), 'time': 0} 2.3\n",
      "{'args': ({'num': 6, 'str': '#6'},), 'time': 2} 2.3\n",
      "{'args': ({'num': 7, 'str': '#7'},), 'time': 3} 4.3\n",
      "{'args': ({'num': 8, 'str': '#8'},), 'time': 0} 4.3\n",
      "{'args': ({'num': 9, 'str': '#9'},), 'time': 2} 4.3\n",
      "CPU times: total: 0 ns\n",
      "Wall time: 4.36 s\n"
     ]
    }
   ],
   "source": [
    "%%time\n",
    "t = time.time()\n",
    "if __name__ == '__main__':\n",
    "    with Pool(processes=use_cores) as p:\n",
    "        for i in p.imap(func=dummy_worker, iterable=kwargs[:10]):\n",
    "            print(i, round(time.time()-t,1))"
   ]
  },
  {
   "cell_type": "markdown",
   "metadata": {},
   "source": [
    "show when it's ready"
   ]
  },
  {
   "cell_type": "code",
   "execution_count": 18,
   "metadata": {},
   "outputs": [
    {
     "name": "stdout",
     "output_type": "stream",
     "text": [
      "{'args': ({'num': 0, 'str': '#0'},), 'time': 1} 1.5\n",
      "{'args': ({'num': 3, 'str': '#3'},), 'time': 0} 1.5\n",
      "{'args': ({'num': 4, 'str': '#4'},), 'time': 0} 1.5\n",
      "{'args': ({'num': 1, 'str': '#1'},), 'time': 2} 2.5\n",
      "{'args': ({'num': 6, 'str': '#6'},), 'time': 0} 2.5\n",
      "{'args': ({'num': 5, 'str': '#5'},), 'time': 2} 3.5\n",
      "{'args': ({'num': 2, 'str': '#2'},), 'time': 3} 3.5\n",
      "{'args': ({'num': 9, 'str': '#9'},), 'time': 0} 3.5\n",
      "{'args': ({'num': 7, 'str': '#7'},), 'time': 3} 5.5\n",
      "{'args': ({'num': 8, 'str': '#8'},), 'time': 3} 6.5\n",
      "CPU times: total: 46.9 ms\n",
      "Wall time: 6.52 s\n"
     ]
    }
   ],
   "source": [
    "%%time\n",
    "t = time.time()\n",
    "if __name__ == '__main__':\n",
    "    with Pool(processes=use_cores) as p:\n",
    "        for i in p.imap_unordered(func=dummy_worker, iterable=kwargs[:10]):\n",
    "            print(i, round(time.time()-t,1))"
   ]
  },
  {
   "attachments": {},
   "cell_type": "markdown",
   "metadata": {},
   "source": [
    "### **starmap** and **starmap_unordered**\n",
    "It show when it's ready"
   ]
  },
  {
   "cell_type": "code",
   "execution_count": 19,
   "metadata": {},
   "outputs": [
    {
     "name": "stdout",
     "output_type": "stream",
     "text": [
      "El resultado obtenido no es el correcto, no recibe bien los parametros de kwargs\n",
      "CPU times: total: 15.6 ms\n",
      "Wall time: 15.5 s\n"
     ]
    },
    {
     "data": {
      "text/plain": [
       "[[{'args': ('num', 'str'), 'time': 3}],\n",
       " [{'args': ('num', 'str'), 'time': 0}],\n",
       " [{'args': ('num', 'str'), 'time': 2}],\n",
       " [{'args': ('num', 'str'), 'time': 2}],\n",
       " [{'args': ('num', 'str'), 'time': 2}],\n",
       " [{'args': ('num', 'str'), 'time': 1}],\n",
       " [{'args': ('num', 'str'), 'time': 2}],\n",
       " [{'args': ('num', 'str'), 'time': 1}],\n",
       " [{'args': ('num', 'str'), 'time': 2}],\n",
       " [{'args': ('num', 'str'), 'time': 0}]]"
      ]
     },
     "execution_count": 19,
     "metadata": {},
     "output_type": "execute_result"
    }
   ],
   "source": [
    "%%time\n",
    "t = time.time()\n",
    "if __name__ == '__main__':\n",
    "    with Pool(processes=use_cores) as p:\n",
    "        job = [p.starmap(dummy_worker, (arg,)) for arg in kwargs[:10]]\n",
    "        # for i in p.starmap(dummy_worker, (arg for args in kwargs)):\n",
    "\n",
    "print(\"El resultado obtenido no es el correcto, no recibe bien los parametros de kwargs\")\n",
    "job"
   ]
  },
  {
   "attachments": {},
   "cell_type": "markdown",
   "metadata": {},
   "source": [
    "async needs a callback to show the results."
   ]
  },
  {
   "cell_type": "code",
   "execution_count": 6,
   "metadata": {},
   "outputs": [],
   "source": [
    "def return_callback(result):\n",
    "    print(f'Callback received: {result}')"
   ]
  },
  {
   "cell_type": "code",
   "execution_count": 21,
   "metadata": {},
   "outputs": [
    {
     "name": "stdout",
     "output_type": "stream",
     "text": [
      "5.5\n",
      "El resultado obtenido no es el correcto, no recibe bien los parametros de kwargs\n",
      "CPU times: total: 62.5 ms\n",
      "Wall time: 5.49 s\n"
     ]
    },
    {
     "data": {
      "text/plain": [
       "[{'args': ('num', 'str'), 'time': 2},\n",
       " {'args': ('num', 'str'), 'time': 2},\n",
       " {'args': ('num', 'str'), 'time': 2},\n",
       " {'args': ('num', 'str'), 'time': 2},\n",
       " {'args': ('num', 'str'), 'time': 0},\n",
       " {'args': ('num', 'str'), 'time': 2},\n",
       " {'args': ('num', 'str'), 'time': 0},\n",
       " {'args': ('num', 'str'), 'time': 2},\n",
       " {'args': ('num', 'str'), 'time': 1},\n",
       " {'args': ('num', 'str'), 'time': 0}]"
      ]
     },
     "execution_count": 21,
     "metadata": {},
     "output_type": "execute_result"
    }
   ],
   "source": [
    "%%time\n",
    "t = time.time()\n",
    "if __name__ == '__main__':\n",
    "    with Pool(processes=use_cores) as p:\n",
    "        job = p.starmap_async(func=dummy_worker, iterable=kwargs[:10]) # , callback=return_callback\n",
    "        # for i in p.starmap(dummy_worker, (arg for args in kwargs)):\n",
    "        p.close()\n",
    "        p.join()\n",
    "        print(round(time.time()-t,1))\n",
    "res = [v for v in job.get()]\n",
    "print(\"El resultado obtenido no es el correcto, no recibe bien los parametros de kwargs\")\n",
    "res"
   ]
  },
  {
   "cell_type": "code",
   "execution_count": 22,
   "metadata": {},
   "outputs": [
    {
     "name": "stdout",
     "output_type": "stream",
     "text": [
      "Callback received: [{'args': ('num', 'str'), 'time': 3}, {'args': ('num', 'str'), 'time': 3}, {'args': ('num', 'str'), 'time': 2}, {'args': ('num', 'str'), 'time': 0}, {'args': ('num', 'str'), 'time': 2}, {'args': ('num', 'str'), 'time': 0}, {'args': ('num', 'str'), 'time': 0}, {'args': ('num', 'str'), 'time': 3}, {'args': ('num', 'str'), 'time': 0}, {'args': ('num', 'str'), 'time': 0}]\n",
      "6.3\n",
      "El resultado obtenido no es el correcto, no recibe bien los parametros de kwargs\n",
      "CPU times: total: 15.6 ms\n",
      "Wall time: 6.33 s\n"
     ]
    },
    {
     "data": {
      "text/plain": [
       "[{'args': ('num', 'str'), 'time': 3},\n",
       " {'args': ('num', 'str'), 'time': 3},\n",
       " {'args': ('num', 'str'), 'time': 2},\n",
       " {'args': ('num', 'str'), 'time': 0},\n",
       " {'args': ('num', 'str'), 'time': 2},\n",
       " {'args': ('num', 'str'), 'time': 0},\n",
       " {'args': ('num', 'str'), 'time': 0},\n",
       " {'args': ('num', 'str'), 'time': 3},\n",
       " {'args': ('num', 'str'), 'time': 0},\n",
       " {'args': ('num', 'str'), 'time': 0}]"
      ]
     },
     "execution_count": 22,
     "metadata": {},
     "output_type": "execute_result"
    }
   ],
   "source": [
    "%%time\n",
    "t = time.time()\n",
    "if __name__ == '__main__':\n",
    "    with Pool(processes=use_cores) as p:\n",
    "        job = p.starmap_async(func=dummy_worker, iterable=kwargs[:10], callback=return_callback)\n",
    "        # for i in p.starmap(dummy_worker, (arg for args in kwargs)):\n",
    "        p.close()\n",
    "        p.join()\n",
    "        print(round(time.time()-t,1))\n",
    "res = [v for v in job.get()]\n",
    "print(\"El resultado obtenido no es el correcto, no recibe bien los parametros de kwargs\")\n",
    "res"
   ]
  },
  {
   "attachments": {},
   "cell_type": "markdown",
   "metadata": {},
   "source": [
    "### **apply** and **apply_async**\n",
    "\n",
    "the kwargs can be a list of dicts."
   ]
  },
  {
   "cell_type": "code",
   "execution_count": 24,
   "metadata": {},
   "outputs": [
    {
     "name": "stdout",
     "output_type": "stream",
     "text": [
      "all at once.\n",
      "CPU times: total: 0 ns\n",
      "Wall time: 30.6 s\n"
     ]
    },
    {
     "data": {
      "text/plain": [
       "[{'num': 0, 'str': '#0', 'time': 0},\n",
       " {'num': 1, 'str': '#1', 'time': 0},\n",
       " {'num': 2, 'str': '#2', 'time': 3},\n",
       " {'num': 3, 'str': '#3', 'time': 1},\n",
       " {'num': 4, 'str': '#4', 'time': 2},\n",
       " {'num': 5, 'str': '#5', 'time': 3},\n",
       " {'num': 6, 'str': '#6', 'time': 1},\n",
       " {'num': 7, 'str': '#7', 'time': 1},\n",
       " {'num': 8, 'str': '#8', 'time': 0},\n",
       " {'num': 9, 'str': '#9', 'time': 1},\n",
       " {'num': 10, 'str': '#10', 'time': 0},\n",
       " {'num': 11, 'str': '#11', 'time': 2},\n",
       " {'num': 12, 'str': '#12', 'time': 3},\n",
       " {'num': 13, 'str': '#13', 'time': 3},\n",
       " {'num': 14, 'str': '#14', 'time': 3},\n",
       " {'num': 15, 'str': '#15', 'time': 2},\n",
       " {'num': 16, 'str': '#16', 'time': 1},\n",
       " {'num': 17, 'str': '#17', 'time': 2},\n",
       " {'num': 18, 'str': '#18', 'time': 2},\n",
       " {'num': 19, 'str': '#19', 'time': 0}]"
      ]
     },
     "execution_count": 24,
     "metadata": {},
     "output_type": "execute_result"
    }
   ],
   "source": [
    "%%time\n",
    "t = time.time()\n",
    "if __name__ == '__main__':\n",
    "    with Pool(processes=use_cores) as p:\n",
    "        res = [p.apply(func=dummy_worker, kwds=arg) for arg in kwargs[:20]]\n",
    "print(\"all at once.\")\n",
    "res"
   ]
  },
  {
   "cell_type": "code",
   "execution_count": 26,
   "metadata": {},
   "outputs": [
    {
     "name": "stdout",
     "output_type": "stream",
     "text": [
      "it's responding when is done.\n",
      "Callback received: {'num': 0, 'str': '#0', 'time': 0}\n",
      "Callback received: {'num': 2, 'str': '#2', 'time': 0}\n",
      "Callback received: {'num': 3, 'str': '#3', 'time': 0}\n",
      "Callback received: {'num': 4, 'str': '#4', 'time': 0}\n",
      "Callback received: {'num': 1, 'str': '#1', 'time': 2}\n",
      "Callback received: {'num': 7, 'str': '#7', 'time': 0}\n",
      "Callback received: {'num': 8, 'str': '#8', 'time': 1}\n",
      "Callback received: {'num': 5, 'str': '#5', 'time': 3}\n",
      "Callback received: {'num': 10, 'str': '#10', 'time': 0}\n",
      "Callback received: {'num': 6, 'str': '#6', 'time': 3}\n",
      "Callback received: {'num': 9, 'str': '#9', 'time': 1}\n",
      "Callback received: {'num': 11, 'str': '#11', 'time': 1}\n",
      "Callback received: {'num': 13, 'str': '#13', 'time': 1}\n",
      "Callback received: {'num': 12, 'str': '#12', 'time': 2}\n",
      "Callback received: {'num': 16, 'str': '#16', 'time': 0}\n",
      "Callback received: {'num': 15, 'str': '#15', 'time': 1}\n",
      "Callback received: {'num': 14, 'str': '#14', 'time': 2}\n",
      "Callback received: {'num': 18, 'str': '#18', 'time': 0}\n",
      "Callback received: {'num': 19, 'str': '#19', 'time': 1}\n",
      "Callback received: {'num': 17, 'str': '#17', 'time': 2}\n",
      "CPU times: total: 46.9 ms\n",
      "Wall time: 7.42 s\n"
     ]
    },
    {
     "data": {
      "text/plain": [
       "[{'num': 0, 'str': '#0', 'time': 0},\n",
       " {'num': 1, 'str': '#1', 'time': 2},\n",
       " {'num': 2, 'str': '#2', 'time': 0},\n",
       " {'num': 3, 'str': '#3', 'time': 0},\n",
       " {'num': 4, 'str': '#4', 'time': 0},\n",
       " {'num': 5, 'str': '#5', 'time': 3},\n",
       " {'num': 6, 'str': '#6', 'time': 3},\n",
       " {'num': 7, 'str': '#7', 'time': 0},\n",
       " {'num': 8, 'str': '#8', 'time': 1},\n",
       " {'num': 9, 'str': '#9', 'time': 1},\n",
       " {'num': 10, 'str': '#10', 'time': 0},\n",
       " {'num': 11, 'str': '#11', 'time': 1},\n",
       " {'num': 12, 'str': '#12', 'time': 2},\n",
       " {'num': 13, 'str': '#13', 'time': 1},\n",
       " {'num': 14, 'str': '#14', 'time': 2},\n",
       " {'num': 15, 'str': '#15', 'time': 1},\n",
       " {'num': 16, 'str': '#16', 'time': 0},\n",
       " {'num': 17, 'str': '#17', 'time': 2},\n",
       " {'num': 18, 'str': '#18', 'time': 0},\n",
       " {'num': 19, 'str': '#19', 'time': 1}]"
      ]
     },
     "execution_count": 26,
     "metadata": {},
     "output_type": "execute_result"
    }
   ],
   "source": [
    "%%time\n",
    "t = time.time()\n",
    "result_lst = list()\n",
    "print(\"it's responding when is done.\")\n",
    "if __name__ == '__main__':\n",
    "    with Pool(processes=use_cores) as p:\n",
    "        job = [p.apply_async(func=dummy_worker, kwds=arg, callback=return_callback) for arg in kwargs[:20]]     ## show results by callback\n",
    "        res = [j.get() for j in job]        ## retrive results\n",
    "res"
   ]
  },
  {
   "attachments": {},
   "cell_type": "markdown",
   "metadata": {},
   "source": [
    "## ThreadPool\n",
    "\n",
    "Differences between Thread Pool and Pool: https://superfastpython.com/threadpool-vs-pool-in-python/\n",
    "\n",
    "Recall that a thread is a thread of execution. Each thread belongs to a process and can share memory (state and data) with other threads in the same process. In Python, like many modern programming languages, threads are created and managed by the underlying operating system, so-called system threads or native threads.\n",
    "\n",
    "\n",
    "... the ThreadPool uses threads internally, whereas the Pool uses processes."
   ]
  },
  {
   "cell_type": "code",
   "execution_count": 7,
   "metadata": {},
   "outputs": [],
   "source": [
    "from multiprocessing.pool import ThreadPool as tPool"
   ]
  },
  {
   "cell_type": "code",
   "execution_count": 29,
   "metadata": {},
   "outputs": [
    {
     "name": "stdout",
     "output_type": "stream",
     "text": [
      "Callback received: {'num': 0, 'str': '#0', 'time': 1}\n",
      "Callback received: {'num': 1, 'str': '#1', 'time': 3}\n",
      "Callback received: {'num': 2, 'str': '#2', 'time': 2}\n",
      "Callback received: {'num': 3, 'str': '#3', 'time': 0}\n",
      "Callback received: {'num': 4, 'str': '#4', 'time': 1}\n",
      "Callback received: {'num': 5, 'str': '#5', 'time': 0}\n",
      "Callback received: {'num': 6, 'str': '#6', 'time': 0}\n",
      "Callback received: {'num': 7, 'str': '#7', 'time': 2}\n",
      "Callback received: {'num': 8, 'str': '#8', 'time': 0}\n",
      "Callback received: {'num': 9, 'str': '#9', 'time': 0}\n",
      "Callback received: {'num': 10, 'str': '#10', 'time': 3}\n",
      "Callback received: {'num': 11, 'str': '#11', 'time': 0}\n",
      "Callback received: {'num': 12, 'str': '#12', 'time': 0}\n",
      "Callback received: {'num': 13, 'str': '#13', 'time': 2}\n",
      "Callback received: {'num': 14, 'str': '#14', 'time': 1}\n",
      "Callback received: {'num': 15, 'str': '#15', 'time': 0}\n",
      "Callback received: {'num': 16, 'str': '#16', 'time': 1}\n",
      "Callback received: {'num': 17, 'str': '#17', 'time': 3}\n",
      "Callback received: {'num': 18, 'str': '#18', 'time': 0}\n",
      "Callback received: {'num': 19, 'str': '#19', 'time': 0}\n",
      "CPU times: total: 0 ns\n",
      "Wall time: 19.1 s\n"
     ]
    },
    {
     "data": {
      "text/plain": [
       "[{'num': 0, 'str': '#0', 'time': 1},\n",
       " {'num': 1, 'str': '#1', 'time': 3},\n",
       " {'num': 2, 'str': '#2', 'time': 2},\n",
       " {'num': 3, 'str': '#3', 'time': 0},\n",
       " {'num': 4, 'str': '#4', 'time': 1},\n",
       " {'num': 5, 'str': '#5', 'time': 0},\n",
       " {'num': 6, 'str': '#6', 'time': 0},\n",
       " {'num': 7, 'str': '#7', 'time': 2},\n",
       " {'num': 8, 'str': '#8', 'time': 0},\n",
       " {'num': 9, 'str': '#9', 'time': 0},\n",
       " {'num': 10, 'str': '#10', 'time': 3},\n",
       " {'num': 11, 'str': '#11', 'time': 0},\n",
       " {'num': 12, 'str': '#12', 'time': 0},\n",
       " {'num': 13, 'str': '#13', 'time': 2},\n",
       " {'num': 14, 'str': '#14', 'time': 1},\n",
       " {'num': 15, 'str': '#15', 'time': 0},\n",
       " {'num': 16, 'str': '#16', 'time': 1},\n",
       " {'num': 17, 'str': '#17', 'time': 3},\n",
       " {'num': 18, 'str': '#18', 'time': 0},\n",
       " {'num': 19, 'str': '#19', 'time': 0}]"
      ]
     },
     "execution_count": 29,
     "metadata": {},
     "output_type": "execute_result"
    }
   ],
   "source": [
    "%%time\n",
    "result_list = list()\n",
    "p = tPool(10)\n",
    "for arg in kwargs[:20]:\n",
    "    job = p.apply_async(func=dummy_worker, kwds=arg, callback=return_callback)\n",
    "    result_list.append(job.get())\n",
    "p.close()\n",
    "p.join()\n",
    "result_list"
   ]
  },
  {
   "cell_type": "markdown",
   "metadata": {},
   "source": [
    "## Pbar"
   ]
  },
  {
   "cell_type": "code",
   "execution_count": 2,
   "metadata": {},
   "outputs": [
    {
     "name": "stdout",
     "output_type": "stream",
     "text": [
      "len= 100\n",
      "Max number of cores =  4\n",
      "Cores to use =  3\n"
     ]
    }
   ],
   "source": [
    "from workers_mp import dummy_worker\n",
    "import time\n",
    "kwargs = [{\"num\": i, \"str\": f\"#{i}\"} for i in range(100)]\n",
    "print(\"len=\",len(kwargs))\n",
    "kwargs[:10]\n",
    "from multiprocessing import Pool, cpu_count\n",
    "num_cores = cpu_count()\n",
    "use_cores = num_cores - 1\n",
    "print(\"Max number of cores = \", num_cores)\n",
    "print(\"Cores to use = \", use_cores)\n",
    "def return_callback(result):\n",
    "    print(f'Callback received: {result}')\n",
    "def progress(pbar):\n",
    "    pbar.update()\n",
    "    # print('.', end='', flush=True)\n",
    "    # print(f'Callback received: {results}')"
   ]
  },
  {
   "cell_type": "code",
   "execution_count": 6,
   "metadata": {},
   "outputs": [],
   "source": [
    "def progress(results):\n",
    "    print('.', end='', flush=True)\n",
    "    # print(f'Callback received: {results}')\n"
   ]
  },
  {
   "cell_type": "code",
   "execution_count": 8,
   "metadata": {},
   "outputs": [
    {
     "name": "stdout",
     "output_type": "stream",
     "text": [
      "it's responding when is done.\n",
      "....................\n",
      "END.\n",
      "CPU times: total: 46.9 ms\n",
      "Wall time: 11.4 s\n"
     ]
    },
    {
     "data": {
      "text/plain": [
       "[{'num': 0, 'str': '#0', 'time': 1},\n",
       " {'num': 1, 'str': '#1', 'time': 2},\n",
       " {'num': 2, 'str': '#2', 'time': 2},\n",
       " {'num': 3, 'str': '#3', 'time': 0},\n",
       " {'num': 4, 'str': '#4', 'time': 1},\n",
       " {'num': 5, 'str': '#5', 'time': 0},\n",
       " {'num': 6, 'str': '#6', 'time': 3},\n",
       " {'num': 7, 'str': '#7', 'time': 3},\n",
       " {'num': 8, 'str': '#8', 'time': 3},\n",
       " {'num': 9, 'str': '#9', 'time': 0},\n",
       " {'num': 10, 'str': '#10', 'time': 2},\n",
       " {'num': 11, 'str': '#11', 'time': 2},\n",
       " {'num': 12, 'str': '#12', 'time': 0},\n",
       " {'num': 13, 'str': '#13', 'time': 0},\n",
       " {'num': 14, 'str': '#14', 'time': 2},\n",
       " {'num': 15, 'str': '#15', 'time': 3},\n",
       " {'num': 16, 'str': '#16', 'time': 0},\n",
       " {'num': 17, 'str': '#17', 'time': 1},\n",
       " {'num': 18, 'str': '#18', 'time': 2},\n",
       " {'num': 19, 'str': '#19', 'time': 3}]"
      ]
     },
     "execution_count": 8,
     "metadata": {},
     "output_type": "execute_result"
    }
   ],
   "source": [
    "%%time\n",
    "t = time.time()\n",
    "result_lst = list()\n",
    "print(\"it's responding when is done.\")\n",
    "if __name__ == '__main__':\n",
    "    with Pool(processes=use_cores) as p:\n",
    "        job = [p.apply_async(func=dummy_worker, kwds=arg, callback=progress) for arg in kwargs[:20]]     ## show results by callback\n",
    "        res = [j.get() for j in job]        ## retrive results\n",
    "print(\"\\nEND processing.\")\n",
    "res"
   ]
  },
  {
   "cell_type": "code",
   "execution_count": null,
   "metadata": {},
   "outputs": [],
   "source": []
  },
  {
   "cell_type": "code",
   "execution_count": null,
   "metadata": {},
   "outputs": [],
   "source": []
  }
 ],
 "metadata": {
  "kernelspec": {
   "display_name": "Python 3",
   "language": "python",
   "name": "python3"
  },
  "language_info": {
   "codemirror_mode": {
    "name": "ipython",
    "version": 3
   },
   "file_extension": ".py",
   "mimetype": "text/x-python",
   "name": "python",
   "nbconvert_exporter": "python",
   "pygments_lexer": "ipython3",
   "version": "3.9.13"
  },
  "orig_nbformat": 4,
  "vscode": {
   "interpreter": {
    "hash": "22e5dea1628f7e1c945df06b9a2434c5192832944f53cfc6bc7b26069c0c4ffd"
   }
  }
 },
 "nbformat": 4,
 "nbformat_minor": 2
}
