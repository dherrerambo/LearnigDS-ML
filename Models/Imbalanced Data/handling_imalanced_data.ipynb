{
 "cells": [
  {
   "cell_type": "markdown",
   "metadata": {},
   "source": [
    "# Handling imbalanced datasets\n",
    "\n",
    "- https://www.kaggle.com/datasets/mlg-ulb/creditcardfraud?resource=download\n",
    "- https://www.youtube.com/watch?v=pDw_JHHvj-0\n",
    "- https://github.com/krishnaik06/Handle-Imbalanced-Dataset/blob/master/handling-imbalanced.ipynb"
   ]
  },
  {
   "cell_type": "code",
   "execution_count": 1,
   "metadata": {},
   "outputs": [],
   "source": [
    "import pandas as pd\n",
    "import numpy as np\n",
    "import os\n",
    "\n",
    "pd.options.display.float_format = '{:,.2f}'.format"
   ]
  },
  {
   "cell_type": "markdown",
   "metadata": {},
   "source": [
    "## Loading dataset"
   ]
  },
  {
   "cell_type": "code",
   "execution_count": 2,
   "metadata": {},
   "outputs": [
    {
     "name": "stdout",
     "output_type": "stream",
     "text": [
      "(284807, 31)\n",
      "<class 'pandas.core.frame.DataFrame'>\n",
      "RangeIndex: 284807 entries, 0 to 284806\n",
      "Data columns (total 31 columns):\n",
      " #   Column  Non-Null Count   Dtype  \n",
      "---  ------  --------------   -----  \n",
      " 0   Time    284807 non-null  float64\n",
      " 1   V1      284807 non-null  float64\n",
      " 2   V2      284807 non-null  float64\n",
      " 3   V3      284807 non-null  float64\n",
      " 4   V4      284807 non-null  float64\n",
      " 5   V5      284807 non-null  float64\n",
      " 6   V6      284807 non-null  float64\n",
      " 7   V7      284807 non-null  float64\n",
      " 8   V8      284807 non-null  float64\n",
      " 9   V9      284807 non-null  float64\n",
      " 10  V10     284807 non-null  float64\n",
      " 11  V11     284807 non-null  float64\n",
      " 12  V12     284807 non-null  float64\n",
      " 13  V13     284807 non-null  float64\n",
      " 14  V14     284807 non-null  float64\n",
      " 15  V15     284807 non-null  float64\n",
      " 16  V16     284807 non-null  float64\n",
      " 17  V17     284807 non-null  float64\n",
      " 18  V18     284807 non-null  float64\n",
      " 19  V19     284807 non-null  float64\n",
      " 20  V20     284807 non-null  float64\n",
      " 21  V21     284807 non-null  float64\n",
      " 22  V22     284807 non-null  float64\n",
      " 23  V23     284807 non-null  float64\n",
      " 24  V24     284807 non-null  float64\n",
      " 25  V25     284807 non-null  float64\n",
      " 26  V26     284807 non-null  float64\n",
      " 27  V27     284807 non-null  float64\n",
      " 28  V28     284807 non-null  float64\n",
      " 29  Amount  284807 non-null  float64\n",
      " 30  Class   284807 non-null  int64  \n",
      "dtypes: float64(30), int64(1)\n",
      "memory usage: 67.4 MB\n",
      "None\n"
     ]
    },
    {
     "data": {
      "text/html": [
       "<div>\n",
       "<style scoped>\n",
       "    .dataframe tbody tr th:only-of-type {\n",
       "        vertical-align: middle;\n",
       "    }\n",
       "\n",
       "    .dataframe tbody tr th {\n",
       "        vertical-align: top;\n",
       "    }\n",
       "\n",
       "    .dataframe thead th {\n",
       "        text-align: right;\n",
       "    }\n",
       "</style>\n",
       "<table border=\"1\" class=\"dataframe\">\n",
       "  <thead>\n",
       "    <tr style=\"text-align: right;\">\n",
       "      <th></th>\n",
       "      <th>Time</th>\n",
       "      <th>V1</th>\n",
       "      <th>V2</th>\n",
       "      <th>V3</th>\n",
       "      <th>V4</th>\n",
       "      <th>V5</th>\n",
       "      <th>V6</th>\n",
       "      <th>V7</th>\n",
       "      <th>V8</th>\n",
       "      <th>V9</th>\n",
       "      <th>...</th>\n",
       "      <th>V21</th>\n",
       "      <th>V22</th>\n",
       "      <th>V23</th>\n",
       "      <th>V24</th>\n",
       "      <th>V25</th>\n",
       "      <th>V26</th>\n",
       "      <th>V27</th>\n",
       "      <th>V28</th>\n",
       "      <th>Amount</th>\n",
       "      <th>Class</th>\n",
       "    </tr>\n",
       "  </thead>\n",
       "  <tbody>\n",
       "    <tr>\n",
       "      <th>0</th>\n",
       "      <td>0.00</td>\n",
       "      <td>-1.36</td>\n",
       "      <td>-0.07</td>\n",
       "      <td>2.54</td>\n",
       "      <td>1.38</td>\n",
       "      <td>-0.34</td>\n",
       "      <td>0.46</td>\n",
       "      <td>0.24</td>\n",
       "      <td>0.10</td>\n",
       "      <td>0.36</td>\n",
       "      <td>...</td>\n",
       "      <td>-0.02</td>\n",
       "      <td>0.28</td>\n",
       "      <td>-0.11</td>\n",
       "      <td>0.07</td>\n",
       "      <td>0.13</td>\n",
       "      <td>-0.19</td>\n",
       "      <td>0.13</td>\n",
       "      <td>-0.02</td>\n",
       "      <td>149.62</td>\n",
       "      <td>0</td>\n",
       "    </tr>\n",
       "    <tr>\n",
       "      <th>1</th>\n",
       "      <td>0.00</td>\n",
       "      <td>1.19</td>\n",
       "      <td>0.27</td>\n",
       "      <td>0.17</td>\n",
       "      <td>0.45</td>\n",
       "      <td>0.06</td>\n",
       "      <td>-0.08</td>\n",
       "      <td>-0.08</td>\n",
       "      <td>0.09</td>\n",
       "      <td>-0.26</td>\n",
       "      <td>...</td>\n",
       "      <td>-0.23</td>\n",
       "      <td>-0.64</td>\n",
       "      <td>0.10</td>\n",
       "      <td>-0.34</td>\n",
       "      <td>0.17</td>\n",
       "      <td>0.13</td>\n",
       "      <td>-0.01</td>\n",
       "      <td>0.01</td>\n",
       "      <td>2.69</td>\n",
       "      <td>0</td>\n",
       "    </tr>\n",
       "    <tr>\n",
       "      <th>2</th>\n",
       "      <td>1.00</td>\n",
       "      <td>-1.36</td>\n",
       "      <td>-1.34</td>\n",
       "      <td>1.77</td>\n",
       "      <td>0.38</td>\n",
       "      <td>-0.50</td>\n",
       "      <td>1.80</td>\n",
       "      <td>0.79</td>\n",
       "      <td>0.25</td>\n",
       "      <td>-1.51</td>\n",
       "      <td>...</td>\n",
       "      <td>0.25</td>\n",
       "      <td>0.77</td>\n",
       "      <td>0.91</td>\n",
       "      <td>-0.69</td>\n",
       "      <td>-0.33</td>\n",
       "      <td>-0.14</td>\n",
       "      <td>-0.06</td>\n",
       "      <td>-0.06</td>\n",
       "      <td>378.66</td>\n",
       "      <td>0</td>\n",
       "    </tr>\n",
       "    <tr>\n",
       "      <th>3</th>\n",
       "      <td>1.00</td>\n",
       "      <td>-0.97</td>\n",
       "      <td>-0.19</td>\n",
       "      <td>1.79</td>\n",
       "      <td>-0.86</td>\n",
       "      <td>-0.01</td>\n",
       "      <td>1.25</td>\n",
       "      <td>0.24</td>\n",
       "      <td>0.38</td>\n",
       "      <td>-1.39</td>\n",
       "      <td>...</td>\n",
       "      <td>-0.11</td>\n",
       "      <td>0.01</td>\n",
       "      <td>-0.19</td>\n",
       "      <td>-1.18</td>\n",
       "      <td>0.65</td>\n",
       "      <td>-0.22</td>\n",
       "      <td>0.06</td>\n",
       "      <td>0.06</td>\n",
       "      <td>123.50</td>\n",
       "      <td>0</td>\n",
       "    </tr>\n",
       "    <tr>\n",
       "      <th>4</th>\n",
       "      <td>2.00</td>\n",
       "      <td>-1.16</td>\n",
       "      <td>0.88</td>\n",
       "      <td>1.55</td>\n",
       "      <td>0.40</td>\n",
       "      <td>-0.41</td>\n",
       "      <td>0.10</td>\n",
       "      <td>0.59</td>\n",
       "      <td>-0.27</td>\n",
       "      <td>0.82</td>\n",
       "      <td>...</td>\n",
       "      <td>-0.01</td>\n",
       "      <td>0.80</td>\n",
       "      <td>-0.14</td>\n",
       "      <td>0.14</td>\n",
       "      <td>-0.21</td>\n",
       "      <td>0.50</td>\n",
       "      <td>0.22</td>\n",
       "      <td>0.22</td>\n",
       "      <td>69.99</td>\n",
       "      <td>0</td>\n",
       "    </tr>\n",
       "  </tbody>\n",
       "</table>\n",
       "<p>5 rows × 31 columns</p>\n",
       "</div>"
      ],
      "text/plain": [
       "   Time    V1    V2   V3    V4    V5    V6    V7    V8    V9  ...   V21   V22  \\\n",
       "0  0.00 -1.36 -0.07 2.54  1.38 -0.34  0.46  0.24  0.10  0.36  ... -0.02  0.28   \n",
       "1  0.00  1.19  0.27 0.17  0.45  0.06 -0.08 -0.08  0.09 -0.26  ... -0.23 -0.64   \n",
       "2  1.00 -1.36 -1.34 1.77  0.38 -0.50  1.80  0.79  0.25 -1.51  ...  0.25  0.77   \n",
       "3  1.00 -0.97 -0.19 1.79 -0.86 -0.01  1.25  0.24  0.38 -1.39  ... -0.11  0.01   \n",
       "4  2.00 -1.16  0.88 1.55  0.40 -0.41  0.10  0.59 -0.27  0.82  ... -0.01  0.80   \n",
       "\n",
       "    V23   V24   V25   V26   V27   V28  Amount  Class  \n",
       "0 -0.11  0.07  0.13 -0.19  0.13 -0.02  149.62      0  \n",
       "1  0.10 -0.34  0.17  0.13 -0.01  0.01    2.69      0  \n",
       "2  0.91 -0.69 -0.33 -0.14 -0.06 -0.06  378.66      0  \n",
       "3 -0.19 -1.18  0.65 -0.22  0.06  0.06  123.50      0  \n",
       "4 -0.14  0.14 -0.21  0.50  0.22  0.22   69.99      0  \n",
       "\n",
       "[5 rows x 31 columns]"
      ]
     },
     "execution_count": 2,
     "metadata": {},
     "output_type": "execute_result"
    }
   ],
   "source": [
    "cwd = os.getcwd()\n",
    "os.chdir(os.path.dirname(os.path.dirname(cwd)))\n",
    "data = pd.read_csv('_datasets\\creditcard.csv')\n",
    "os.chdir(cwd)\n",
    "print(data.shape)\n",
    "print(data.info())\n",
    "data.head()"
   ]
  },
  {
   "cell_type": "markdown",
   "metadata": {},
   "source": [
    "## EDA"
   ]
  },
  {
   "cell_type": "code",
   "execution_count": 3,
   "metadata": {},
   "outputs": [
    {
     "data": {
      "text/html": [
       "<div>\n",
       "<style scoped>\n",
       "    .dataframe tbody tr th:only-of-type {\n",
       "        vertical-align: middle;\n",
       "    }\n",
       "\n",
       "    .dataframe tbody tr th {\n",
       "        vertical-align: top;\n",
       "    }\n",
       "\n",
       "    .dataframe thead th {\n",
       "        text-align: right;\n",
       "    }\n",
       "</style>\n",
       "<table border=\"1\" class=\"dataframe\">\n",
       "  <thead>\n",
       "    <tr style=\"text-align: right;\">\n",
       "      <th></th>\n",
       "      <th>count</th>\n",
       "      <th>mean</th>\n",
       "      <th>std</th>\n",
       "      <th>min</th>\n",
       "      <th>25%</th>\n",
       "      <th>50%</th>\n",
       "      <th>75%</th>\n",
       "      <th>max</th>\n",
       "    </tr>\n",
       "  </thead>\n",
       "  <tbody>\n",
       "    <tr>\n",
       "      <th>Time</th>\n",
       "      <td>284,807.00</td>\n",
       "      <td>94,813.86</td>\n",
       "      <td>47,488.15</td>\n",
       "      <td>0.00</td>\n",
       "      <td>54,201.50</td>\n",
       "      <td>84,692.00</td>\n",
       "      <td>139,320.50</td>\n",
       "      <td>172,792.00</td>\n",
       "    </tr>\n",
       "    <tr>\n",
       "      <th>V1</th>\n",
       "      <td>284,807.00</td>\n",
       "      <td>0.00</td>\n",
       "      <td>1.96</td>\n",
       "      <td>-56.41</td>\n",
       "      <td>-0.92</td>\n",
       "      <td>0.02</td>\n",
       "      <td>1.32</td>\n",
       "      <td>2.45</td>\n",
       "    </tr>\n",
       "    <tr>\n",
       "      <th>V2</th>\n",
       "      <td>284,807.00</td>\n",
       "      <td>0.00</td>\n",
       "      <td>1.65</td>\n",
       "      <td>-72.72</td>\n",
       "      <td>-0.60</td>\n",
       "      <td>0.07</td>\n",
       "      <td>0.80</td>\n",
       "      <td>22.06</td>\n",
       "    </tr>\n",
       "    <tr>\n",
       "      <th>V3</th>\n",
       "      <td>284,807.00</td>\n",
       "      <td>-0.00</td>\n",
       "      <td>1.52</td>\n",
       "      <td>-48.33</td>\n",
       "      <td>-0.89</td>\n",
       "      <td>0.18</td>\n",
       "      <td>1.03</td>\n",
       "      <td>9.38</td>\n",
       "    </tr>\n",
       "    <tr>\n",
       "      <th>V4</th>\n",
       "      <td>284,807.00</td>\n",
       "      <td>0.00</td>\n",
       "      <td>1.42</td>\n",
       "      <td>-5.68</td>\n",
       "      <td>-0.85</td>\n",
       "      <td>-0.02</td>\n",
       "      <td>0.74</td>\n",
       "      <td>16.88</td>\n",
       "    </tr>\n",
       "    <tr>\n",
       "      <th>V5</th>\n",
       "      <td>284,807.00</td>\n",
       "      <td>0.00</td>\n",
       "      <td>1.38</td>\n",
       "      <td>-113.74</td>\n",
       "      <td>-0.69</td>\n",
       "      <td>-0.05</td>\n",
       "      <td>0.61</td>\n",
       "      <td>34.80</td>\n",
       "    </tr>\n",
       "    <tr>\n",
       "      <th>V6</th>\n",
       "      <td>284,807.00</td>\n",
       "      <td>0.00</td>\n",
       "      <td>1.33</td>\n",
       "      <td>-26.16</td>\n",
       "      <td>-0.77</td>\n",
       "      <td>-0.27</td>\n",
       "      <td>0.40</td>\n",
       "      <td>73.30</td>\n",
       "    </tr>\n",
       "    <tr>\n",
       "      <th>V7</th>\n",
       "      <td>284,807.00</td>\n",
       "      <td>-0.00</td>\n",
       "      <td>1.24</td>\n",
       "      <td>-43.56</td>\n",
       "      <td>-0.55</td>\n",
       "      <td>0.04</td>\n",
       "      <td>0.57</td>\n",
       "      <td>120.59</td>\n",
       "    </tr>\n",
       "    <tr>\n",
       "      <th>V8</th>\n",
       "      <td>284,807.00</td>\n",
       "      <td>0.00</td>\n",
       "      <td>1.19</td>\n",
       "      <td>-73.22</td>\n",
       "      <td>-0.21</td>\n",
       "      <td>0.02</td>\n",
       "      <td>0.33</td>\n",
       "      <td>20.01</td>\n",
       "    </tr>\n",
       "    <tr>\n",
       "      <th>V9</th>\n",
       "      <td>284,807.00</td>\n",
       "      <td>-0.00</td>\n",
       "      <td>1.10</td>\n",
       "      <td>-13.43</td>\n",
       "      <td>-0.64</td>\n",
       "      <td>-0.05</td>\n",
       "      <td>0.60</td>\n",
       "      <td>15.59</td>\n",
       "    </tr>\n",
       "    <tr>\n",
       "      <th>V10</th>\n",
       "      <td>284,807.00</td>\n",
       "      <td>0.00</td>\n",
       "      <td>1.09</td>\n",
       "      <td>-24.59</td>\n",
       "      <td>-0.54</td>\n",
       "      <td>-0.09</td>\n",
       "      <td>0.45</td>\n",
       "      <td>23.75</td>\n",
       "    </tr>\n",
       "    <tr>\n",
       "      <th>V11</th>\n",
       "      <td>284,807.00</td>\n",
       "      <td>0.00</td>\n",
       "      <td>1.02</td>\n",
       "      <td>-4.80</td>\n",
       "      <td>-0.76</td>\n",
       "      <td>-0.03</td>\n",
       "      <td>0.74</td>\n",
       "      <td>12.02</td>\n",
       "    </tr>\n",
       "    <tr>\n",
       "      <th>V12</th>\n",
       "      <td>284,807.00</td>\n",
       "      <td>-0.00</td>\n",
       "      <td>1.00</td>\n",
       "      <td>-18.68</td>\n",
       "      <td>-0.41</td>\n",
       "      <td>0.14</td>\n",
       "      <td>0.62</td>\n",
       "      <td>7.85</td>\n",
       "    </tr>\n",
       "    <tr>\n",
       "      <th>V13</th>\n",
       "      <td>284,807.00</td>\n",
       "      <td>0.00</td>\n",
       "      <td>1.00</td>\n",
       "      <td>-5.79</td>\n",
       "      <td>-0.65</td>\n",
       "      <td>-0.01</td>\n",
       "      <td>0.66</td>\n",
       "      <td>7.13</td>\n",
       "    </tr>\n",
       "    <tr>\n",
       "      <th>V14</th>\n",
       "      <td>284,807.00</td>\n",
       "      <td>0.00</td>\n",
       "      <td>0.96</td>\n",
       "      <td>-19.21</td>\n",
       "      <td>-0.43</td>\n",
       "      <td>0.05</td>\n",
       "      <td>0.49</td>\n",
       "      <td>10.53</td>\n",
       "    </tr>\n",
       "    <tr>\n",
       "      <th>V15</th>\n",
       "      <td>284,807.00</td>\n",
       "      <td>0.00</td>\n",
       "      <td>0.92</td>\n",
       "      <td>-4.50</td>\n",
       "      <td>-0.58</td>\n",
       "      <td>0.05</td>\n",
       "      <td>0.65</td>\n",
       "      <td>8.88</td>\n",
       "    </tr>\n",
       "    <tr>\n",
       "      <th>V16</th>\n",
       "      <td>284,807.00</td>\n",
       "      <td>0.00</td>\n",
       "      <td>0.88</td>\n",
       "      <td>-14.13</td>\n",
       "      <td>-0.47</td>\n",
       "      <td>0.07</td>\n",
       "      <td>0.52</td>\n",
       "      <td>17.32</td>\n",
       "    </tr>\n",
       "    <tr>\n",
       "      <th>V17</th>\n",
       "      <td>284,807.00</td>\n",
       "      <td>-0.00</td>\n",
       "      <td>0.85</td>\n",
       "      <td>-25.16</td>\n",
       "      <td>-0.48</td>\n",
       "      <td>-0.07</td>\n",
       "      <td>0.40</td>\n",
       "      <td>9.25</td>\n",
       "    </tr>\n",
       "    <tr>\n",
       "      <th>V18</th>\n",
       "      <td>284,807.00</td>\n",
       "      <td>0.00</td>\n",
       "      <td>0.84</td>\n",
       "      <td>-9.50</td>\n",
       "      <td>-0.50</td>\n",
       "      <td>-0.00</td>\n",
       "      <td>0.50</td>\n",
       "      <td>5.04</td>\n",
       "    </tr>\n",
       "    <tr>\n",
       "      <th>V19</th>\n",
       "      <td>284,807.00</td>\n",
       "      <td>0.00</td>\n",
       "      <td>0.81</td>\n",
       "      <td>-7.21</td>\n",
       "      <td>-0.46</td>\n",
       "      <td>0.00</td>\n",
       "      <td>0.46</td>\n",
       "      <td>5.59</td>\n",
       "    </tr>\n",
       "    <tr>\n",
       "      <th>V20</th>\n",
       "      <td>284,807.00</td>\n",
       "      <td>0.00</td>\n",
       "      <td>0.77</td>\n",
       "      <td>-54.50</td>\n",
       "      <td>-0.21</td>\n",
       "      <td>-0.06</td>\n",
       "      <td>0.13</td>\n",
       "      <td>39.42</td>\n",
       "    </tr>\n",
       "    <tr>\n",
       "      <th>V21</th>\n",
       "      <td>284,807.00</td>\n",
       "      <td>0.00</td>\n",
       "      <td>0.73</td>\n",
       "      <td>-34.83</td>\n",
       "      <td>-0.23</td>\n",
       "      <td>-0.03</td>\n",
       "      <td>0.19</td>\n",
       "      <td>27.20</td>\n",
       "    </tr>\n",
       "    <tr>\n",
       "      <th>V22</th>\n",
       "      <td>284,807.00</td>\n",
       "      <td>-0.00</td>\n",
       "      <td>0.73</td>\n",
       "      <td>-10.93</td>\n",
       "      <td>-0.54</td>\n",
       "      <td>0.01</td>\n",
       "      <td>0.53</td>\n",
       "      <td>10.50</td>\n",
       "    </tr>\n",
       "    <tr>\n",
       "      <th>V23</th>\n",
       "      <td>284,807.00</td>\n",
       "      <td>0.00</td>\n",
       "      <td>0.62</td>\n",
       "      <td>-44.81</td>\n",
       "      <td>-0.16</td>\n",
       "      <td>-0.01</td>\n",
       "      <td>0.15</td>\n",
       "      <td>22.53</td>\n",
       "    </tr>\n",
       "    <tr>\n",
       "      <th>V24</th>\n",
       "      <td>284,807.00</td>\n",
       "      <td>0.00</td>\n",
       "      <td>0.61</td>\n",
       "      <td>-2.84</td>\n",
       "      <td>-0.35</td>\n",
       "      <td>0.04</td>\n",
       "      <td>0.44</td>\n",
       "      <td>4.58</td>\n",
       "    </tr>\n",
       "    <tr>\n",
       "      <th>V25</th>\n",
       "      <td>284,807.00</td>\n",
       "      <td>0.00</td>\n",
       "      <td>0.52</td>\n",
       "      <td>-10.30</td>\n",
       "      <td>-0.32</td>\n",
       "      <td>0.02</td>\n",
       "      <td>0.35</td>\n",
       "      <td>7.52</td>\n",
       "    </tr>\n",
       "    <tr>\n",
       "      <th>V26</th>\n",
       "      <td>284,807.00</td>\n",
       "      <td>0.00</td>\n",
       "      <td>0.48</td>\n",
       "      <td>-2.60</td>\n",
       "      <td>-0.33</td>\n",
       "      <td>-0.05</td>\n",
       "      <td>0.24</td>\n",
       "      <td>3.52</td>\n",
       "    </tr>\n",
       "    <tr>\n",
       "      <th>V27</th>\n",
       "      <td>284,807.00</td>\n",
       "      <td>-0.00</td>\n",
       "      <td>0.40</td>\n",
       "      <td>-22.57</td>\n",
       "      <td>-0.07</td>\n",
       "      <td>0.00</td>\n",
       "      <td>0.09</td>\n",
       "      <td>31.61</td>\n",
       "    </tr>\n",
       "    <tr>\n",
       "      <th>V28</th>\n",
       "      <td>284,807.00</td>\n",
       "      <td>-0.00</td>\n",
       "      <td>0.33</td>\n",
       "      <td>-15.43</td>\n",
       "      <td>-0.05</td>\n",
       "      <td>0.01</td>\n",
       "      <td>0.08</td>\n",
       "      <td>33.85</td>\n",
       "    </tr>\n",
       "    <tr>\n",
       "      <th>Amount</th>\n",
       "      <td>284,807.00</td>\n",
       "      <td>88.35</td>\n",
       "      <td>250.12</td>\n",
       "      <td>0.00</td>\n",
       "      <td>5.60</td>\n",
       "      <td>22.00</td>\n",
       "      <td>77.16</td>\n",
       "      <td>25,691.16</td>\n",
       "    </tr>\n",
       "    <tr>\n",
       "      <th>Class</th>\n",
       "      <td>284,807.00</td>\n",
       "      <td>0.00</td>\n",
       "      <td>0.04</td>\n",
       "      <td>0.00</td>\n",
       "      <td>0.00</td>\n",
       "      <td>0.00</td>\n",
       "      <td>0.00</td>\n",
       "      <td>1.00</td>\n",
       "    </tr>\n",
       "  </tbody>\n",
       "</table>\n",
       "</div>"
      ],
      "text/plain": [
       "            count      mean       std     min       25%       50%        75%  \\\n",
       "Time   284,807.00 94,813.86 47,488.15    0.00 54,201.50 84,692.00 139,320.50   \n",
       "V1     284,807.00      0.00      1.96  -56.41     -0.92      0.02       1.32   \n",
       "V2     284,807.00      0.00      1.65  -72.72     -0.60      0.07       0.80   \n",
       "V3     284,807.00     -0.00      1.52  -48.33     -0.89      0.18       1.03   \n",
       "V4     284,807.00      0.00      1.42   -5.68     -0.85     -0.02       0.74   \n",
       "V5     284,807.00      0.00      1.38 -113.74     -0.69     -0.05       0.61   \n",
       "V6     284,807.00      0.00      1.33  -26.16     -0.77     -0.27       0.40   \n",
       "V7     284,807.00     -0.00      1.24  -43.56     -0.55      0.04       0.57   \n",
       "V8     284,807.00      0.00      1.19  -73.22     -0.21      0.02       0.33   \n",
       "V9     284,807.00     -0.00      1.10  -13.43     -0.64     -0.05       0.60   \n",
       "V10    284,807.00      0.00      1.09  -24.59     -0.54     -0.09       0.45   \n",
       "V11    284,807.00      0.00      1.02   -4.80     -0.76     -0.03       0.74   \n",
       "V12    284,807.00     -0.00      1.00  -18.68     -0.41      0.14       0.62   \n",
       "V13    284,807.00      0.00      1.00   -5.79     -0.65     -0.01       0.66   \n",
       "V14    284,807.00      0.00      0.96  -19.21     -0.43      0.05       0.49   \n",
       "V15    284,807.00      0.00      0.92   -4.50     -0.58      0.05       0.65   \n",
       "V16    284,807.00      0.00      0.88  -14.13     -0.47      0.07       0.52   \n",
       "V17    284,807.00     -0.00      0.85  -25.16     -0.48     -0.07       0.40   \n",
       "V18    284,807.00      0.00      0.84   -9.50     -0.50     -0.00       0.50   \n",
       "V19    284,807.00      0.00      0.81   -7.21     -0.46      0.00       0.46   \n",
       "V20    284,807.00      0.00      0.77  -54.50     -0.21     -0.06       0.13   \n",
       "V21    284,807.00      0.00      0.73  -34.83     -0.23     -0.03       0.19   \n",
       "V22    284,807.00     -0.00      0.73  -10.93     -0.54      0.01       0.53   \n",
       "V23    284,807.00      0.00      0.62  -44.81     -0.16     -0.01       0.15   \n",
       "V24    284,807.00      0.00      0.61   -2.84     -0.35      0.04       0.44   \n",
       "V25    284,807.00      0.00      0.52  -10.30     -0.32      0.02       0.35   \n",
       "V26    284,807.00      0.00      0.48   -2.60     -0.33     -0.05       0.24   \n",
       "V27    284,807.00     -0.00      0.40  -22.57     -0.07      0.00       0.09   \n",
       "V28    284,807.00     -0.00      0.33  -15.43     -0.05      0.01       0.08   \n",
       "Amount 284,807.00     88.35    250.12    0.00      5.60     22.00      77.16   \n",
       "Class  284,807.00      0.00      0.04    0.00      0.00      0.00       0.00   \n",
       "\n",
       "              max  \n",
       "Time   172,792.00  \n",
       "V1           2.45  \n",
       "V2          22.06  \n",
       "V3           9.38  \n",
       "V4          16.88  \n",
       "V5          34.80  \n",
       "V6          73.30  \n",
       "V7         120.59  \n",
       "V8          20.01  \n",
       "V9          15.59  \n",
       "V10         23.75  \n",
       "V11         12.02  \n",
       "V12          7.85  \n",
       "V13          7.13  \n",
       "V14         10.53  \n",
       "V15          8.88  \n",
       "V16         17.32  \n",
       "V17          9.25  \n",
       "V18          5.04  \n",
       "V19          5.59  \n",
       "V20         39.42  \n",
       "V21         27.20  \n",
       "V22         10.50  \n",
       "V23         22.53  \n",
       "V24          4.58  \n",
       "V25          7.52  \n",
       "V26          3.52  \n",
       "V27         31.61  \n",
       "V28         33.85  \n",
       "Amount  25,691.16  \n",
       "Class        1.00  "
      ]
     },
     "execution_count": 3,
     "metadata": {},
     "output_type": "execute_result"
    }
   ],
   "source": [
    "data.describe().T"
   ]
  },
  {
   "cell_type": "code",
   "execution_count": 4,
   "metadata": {},
   "outputs": [],
   "source": [
    "import seaborn as sns\n",
    "import matplotlib.pyplot as plt"
   ]
  },
  {
   "cell_type": "markdown",
   "metadata": {},
   "source": [
    "```python\n",
    "sns.pairplot(data, aspect=1)\n",
    "```\n",
    "![pairplot](pairplot.png)"
   ]
  },
  {
   "cell_type": "markdown",
   "metadata": {},
   "source": [
    "The data is imbalanced?"
   ]
  },
  {
   "cell_type": "code",
   "execution_count": 5,
   "metadata": {},
   "outputs": [],
   "source": [
    "target = \"Class\""
   ]
  },
  {
   "cell_type": "code",
   "execution_count": 6,
   "metadata": {},
   "outputs": [
    {
     "data": {
      "text/html": [
       "<div>\n",
       "<style scoped>\n",
       "    .dataframe tbody tr th:only-of-type {\n",
       "        vertical-align: middle;\n",
       "    }\n",
       "\n",
       "    .dataframe tbody tr th {\n",
       "        vertical-align: top;\n",
       "    }\n",
       "\n",
       "    .dataframe thead th {\n",
       "        text-align: right;\n",
       "    }\n",
       "</style>\n",
       "<table border=\"1\" class=\"dataframe\">\n",
       "  <thead>\n",
       "    <tr style=\"text-align: right;\">\n",
       "      <th></th>\n",
       "      <th>freq</th>\n",
       "      <th>freq_p</th>\n",
       "    </tr>\n",
       "  </thead>\n",
       "  <tbody>\n",
       "    <tr>\n",
       "      <th>0</th>\n",
       "      <td>284315</td>\n",
       "      <td>1.00</td>\n",
       "    </tr>\n",
       "    <tr>\n",
       "      <th>1</th>\n",
       "      <td>492</td>\n",
       "      <td>0.00</td>\n",
       "    </tr>\n",
       "  </tbody>\n",
       "</table>\n",
       "</div>"
      ],
      "text/plain": [
       "     freq  freq_p\n",
       "0  284315    1.00\n",
       "1     492    0.00"
      ]
     },
     "execution_count": 6,
     "metadata": {},
     "output_type": "execute_result"
    }
   ],
   "source": [
    "data_distribution = pd.concat([data[target].value_counts(),data[target].value_counts(normalize=True)],axis=1)\n",
    "data_distribution.columns = ['freq','freq_p']\n",
    "data_distribution"
   ]
  },
  {
   "cell_type": "code",
   "execution_count": 7,
   "metadata": {},
   "outputs": [
    {
     "name": "stdout",
     "output_type": "stream",
     "text": [
      "ratio(class=min,class=greater) = 1:578\n"
     ]
    }
   ],
   "source": [
    "print(f\"ratio(class=min,class=greater) = 1:{int(round(data_distribution['freq'][0] / data_distribution['freq'][1],0))}\")"
   ]
  },
  {
   "cell_type": "markdown",
   "metadata": {},
   "source": [
    "## Metrics"
   ]
  },
  {
   "cell_type": "code",
   "execution_count": 8,
   "metadata": {},
   "outputs": [],
   "source": [
    "from sklearn.metrics import accuracy_score,confusion_matrix,classification_report"
   ]
  },
  {
   "cell_type": "code",
   "execution_count": 9,
   "metadata": {},
   "outputs": [],
   "source": [
    "def check_metrics(model,X_test,y_test):\n",
    "    y_pred=model.predict(X_test)\n",
    "    metrics = dict()\n",
    "    metrics['confusion_matrix'] = confusion_matrix(y_test,y_pred)\n",
    "    metrics['accuracy_score'] = accuracy_score(y_test,y_pred)\n",
    "    metrics['classification_report'] = classification_report(y_test,y_pred, output_dict=True)\n",
    "    return metrics"
   ]
  },
  {
   "cell_type": "markdown",
   "metadata": {},
   "source": [
    "## Preparing data"
   ]
  },
  {
   "cell_type": "code",
   "execution_count": 10,
   "metadata": {},
   "outputs": [],
   "source": [
    "from sklearn.model_selection import train_test_split"
   ]
  },
  {
   "cell_type": "code",
   "execution_count": 11,
   "metadata": {},
   "outputs": [],
   "source": [
    "def split_data(data,target):\n",
    "    X = data.drop(target,axis=1)\n",
    "    y = data[target]\n",
    "    print(\"X.shape=\", X.shape)\n",
    "    print(\"y.shape=\", y.shape)\n",
    "    X_train, X_test, y_train, y_test = train_test_split(X,y,train_size=0.7)\n",
    "    print(f\"X_train={X_train.shape}, X_test={X_test.shape}, y_train={y_train.shape}, y_test={y_test.shape}\")\n",
    "    return X, y, X_train, X_test, y_train, y_test"
   ]
  },
  {
   "cell_type": "markdown",
   "metadata": {},
   "source": [
    "# Implementacion de modelos"
   ]
  },
  {
   "cell_type": "code",
   "execution_count": 12,
   "metadata": {},
   "outputs": [],
   "source": [
    "metrics = dict()"
   ]
  },
  {
   "cell_type": "code",
   "execution_count": 13,
   "metadata": {},
   "outputs": [
    {
     "name": "stdout",
     "output_type": "stream",
     "text": [
      "X.shape= (284807, 30)\n",
      "y.shape= (284807,)\n",
      "X_train=(199364, 30), X_test=(85443, 30), y_train=(199364,), y_test=(85443,)\n"
     ]
    }
   ],
   "source": [
    "X, y, X_train, X_test, y_train, y_test = split_data(data,target)"
   ]
  },
  {
   "cell_type": "markdown",
   "metadata": {},
   "source": [
    "#### Logistic Regression"
   ]
  },
  {
   "cell_type": "code",
   "execution_count": 14,
   "metadata": {},
   "outputs": [],
   "source": [
    "from sklearn.linear_model import LogisticRegression"
   ]
  },
  {
   "cell_type": "code",
   "execution_count": 15,
   "metadata": {},
   "outputs": [
    {
     "name": "stderr",
     "output_type": "stream",
     "text": [
      "c:\\Python\\py39\\lib\\site-packages\\sklearn\\linear_model\\_logistic.py:444: ConvergenceWarning: lbfgs failed to converge (status=1):\n",
      "STOP: TOTAL NO. of ITERATIONS REACHED LIMIT.\n",
      "\n",
      "Increase the number of iterations (max_iter) or scale the data as shown in:\n",
      "    https://scikit-learn.org/stable/modules/preprocessing.html\n",
      "Please also refer to the documentation for alternative solver options:\n",
      "    https://scikit-learn.org/stable/modules/linear_model.html#logistic-regression\n",
      "  n_iter_i = _check_optimize_result(\n"
     ]
    }
   ],
   "source": [
    "m_log = LogisticRegression()\n",
    "m_log.fit(X_train,y_train)\n",
    "metrics['log_baseline'] = check_metrics(model=m_log, X_test=X_test, y_test=y_test)"
   ]
  },
  {
   "cell_type": "markdown",
   "metadata": {},
   "source": [
    "#### Random Forest"
   ]
  },
  {
   "cell_type": "code",
   "execution_count": 16,
   "metadata": {},
   "outputs": [],
   "source": [
    "from sklearn.ensemble import RandomForestClassifier"
   ]
  },
  {
   "cell_type": "code",
   "execution_count": 17,
   "metadata": {},
   "outputs": [],
   "source": [
    "m_rf=RandomForestClassifier()\n",
    "m_rf.fit(X_train,y_train)\n",
    "metrics['rf_baseline'] = check_metrics(model=m_rf, X_test=X_test, y_test=y_test)"
   ]
  },
  {
   "cell_type": "markdown",
   "metadata": {},
   "source": [
    "## Undersampling"
   ]
  },
  {
   "cell_type": "markdown",
   "metadata": {},
   "source": [
    "### Manual"
   ]
  },
  {
   "cell_type": "code",
   "execution_count": null,
   "metadata": {},
   "outputs": [],
   "source": [
    "def undersampling_data(data,target):\n",
    "    dist_target = dict(data[target].value_counts())\n",
    "    dist_target = list((k,v) for k,v in dist_target.items())\n",
    "    print(dist_target)\n",
    "    k,s = dist_target[1]\n",
    "    data_u = pd.concat([data[data[target]==k], data[data[target]!=k].sample(s)], axis=0).reset_index(drop=False)\n",
    "    print(f\"Data undersampled = {dict(data_u[target].value_counts())}\")\n",
    "    return data_u"
   ]
  },
  {
   "cell_type": "code",
   "execution_count": null,
   "metadata": {},
   "outputs": [],
   "source": [
    "data_u = undersampling_data(data,target)\n",
    "data_u.shape"
   ]
  },
  {
   "cell_type": "code",
   "execution_count": null,
   "metadata": {},
   "outputs": [],
   "source": [
    "X, y, X_train, X_test, y_train, y_test = split_data(data=data_u,target=target)"
   ]
  },
  {
   "cell_type": "markdown",
   "metadata": {},
   "source": [
    "#### Test LogistictRegresion"
   ]
  },
  {
   "cell_type": "code",
   "execution_count": null,
   "metadata": {},
   "outputs": [],
   "source": [
    "m_log_u = LogisticRegression()\n",
    "m_log_u.fit(X_train,y_train)\n",
    "metrics['log_undersampling_manual'] = check_metrics(model=m_log_u, X_test=X_test, y_test=y_test)"
   ]
  },
  {
   "cell_type": "markdown",
   "metadata": {},
   "source": [
    "#### Test RandomForest"
   ]
  },
  {
   "cell_type": "code",
   "execution_count": null,
   "metadata": {},
   "outputs": [],
   "source": [
    "m_rf=RandomForestClassifier()\n",
    "m_rf.fit(X_train,y_train)\n",
    "metrics['rf_undersampling_manual'] = check_metrics(model=m_rf, X_test=X_test, y_test=y_test)"
   ]
  },
  {
   "cell_type": "markdown",
   "metadata": {},
   "source": [
    "### imblearn"
   ]
  },
  {
   "cell_type": "code",
   "execution_count": null,
   "metadata": {},
   "outputs": [],
   "source": [
    "from imblearn.under_sampling import NearMiss\n",
    "u_s=NearMiss()"
   ]
  },
  {
   "cell_type": "code",
   "execution_count": null,
   "metadata": {},
   "outputs": [],
   "source": [
    "X, y, X_train, X_test, y_train, y_test = split_data(data,target)"
   ]
  },
  {
   "cell_type": "code",
   "execution_count": null,
   "metadata": {},
   "outputs": [],
   "source": [
    "X_train_s,y_train_s=u_s.fit_resample(X_train,y_train)\n",
    "print(\"X original=\",dict(y_train.value_counts()), \", X undersampled=\",dict(y_train_s.value_counts()))\n",
    "X_test_s,y_test_s=u_s.fit_resample(X_test,y_test)\n",
    "print(\"y original=\",dict(y_test.value_counts()), \", y undersampled=\",dict(y_test_s.value_counts()))"
   ]
  },
  {
   "cell_type": "markdown",
   "metadata": {},
   "source": [
    "#### Test LogistictRegresion"
   ]
  },
  {
   "cell_type": "code",
   "execution_count": null,
   "metadata": {},
   "outputs": [],
   "source": [
    "m_log_u = LogisticRegression()\n",
    "m_log_u.fit(X_train_s,y_train_s)\n",
    "metrics['log_undersampling_nearmiss'] = check_metrics(model=m_log_u, X_test=X_test_s, y_test=y_test_s)"
   ]
  },
  {
   "cell_type": "markdown",
   "metadata": {},
   "source": [
    "#### Test RandomForest"
   ]
  },
  {
   "cell_type": "code",
   "execution_count": null,
   "metadata": {},
   "outputs": [],
   "source": [
    "m_rf=RandomForestClassifier()\n",
    "m_rf.fit(X_train_s,y_train_s)\n",
    "metrics['rf_undersampling_nearmiss'] = check_metrics(model=m_rf, X_test=X_test_s, y_test=y_test_s)"
   ]
  },
  {
   "cell_type": "markdown",
   "metadata": {},
   "source": [
    "## OverSampling"
   ]
  },
  {
   "cell_type": "code",
   "execution_count": null,
   "metadata": {},
   "outputs": [],
   "source": [
    "from imblearn.over_sampling import RandomOverSampler\n",
    "o_s=RandomOverSampler()"
   ]
  },
  {
   "cell_type": "code",
   "execution_count": null,
   "metadata": {},
   "outputs": [],
   "source": [
    "X_train_s,y_train_s=o_s.fit_resample(X_train,y_train)\n",
    "print(\"X original=\",dict(y_train.value_counts()), \", X overdampled=\",dict(y_train_s.value_counts()))\n",
    "X_test_s,y_test_s=o_s.fit_resample(X_test,y_test)\n",
    "print(\"y original=\",dict(y_test.value_counts()), \", y overdampled=\",dict(y_test_s.value_counts()))"
   ]
  },
  {
   "cell_type": "markdown",
   "metadata": {},
   "source": [
    "#### Test LogistictRegresion"
   ]
  },
  {
   "cell_type": "code",
   "execution_count": null,
   "metadata": {},
   "outputs": [],
   "source": [
    "m_log_o = LogisticRegression()\n",
    "m_log_o.fit(X_train_s,y_train_s)\n",
    "metrics['log_oversampling_randomsampler'] = check_metrics(model=m_log_o, X_test=X_test_s, y_test=y_test_s)"
   ]
  },
  {
   "cell_type": "markdown",
   "metadata": {},
   "source": [
    "#### Test RandomForest"
   ]
  },
  {
   "cell_type": "code",
   "execution_count": null,
   "metadata": {},
   "outputs": [],
   "source": [
    "m_rf_o=RandomForestClassifier()\n",
    "m_rf_o.fit(X_train_s,y_train_s)\n",
    "metrics['rf_oversampling_randomsampler'] = check_metrics(model=m_rf_o, X_test=X_test_s, y_test=y_test_s)"
   ]
  },
  {
   "cell_type": "markdown",
   "metadata": {},
   "source": [
    "## SMOTETomek"
   ]
  },
  {
   "cell_type": "code",
   "execution_count": null,
   "metadata": {},
   "outputs": [],
   "source": [
    "from imblearn.combine import SMOTETomek\n",
    "o_s=SMOTETomek()"
   ]
  },
  {
   "cell_type": "code",
   "execution_count": null,
   "metadata": {},
   "outputs": [],
   "source": [
    "X_train_s,y_train_s=o_s.fit_resample(X_train,y_train)\n",
    "print(\"X original=\",dict(y_train.value_counts()), \", X overdampled=\",dict(y_train_s.value_counts()))\n",
    "X_test_s,y_test_s=o_s.fit_resample(X_test,y_test)\n",
    "print(\"y original=\",dict(y_test.value_counts()), \", y overdampled=\",dict(y_test_s.value_counts()))"
   ]
  },
  {
   "cell_type": "markdown",
   "metadata": {},
   "source": [
    "#### Test LogistictRegresion"
   ]
  },
  {
   "cell_type": "code",
   "execution_count": null,
   "metadata": {},
   "outputs": [],
   "source": [
    "m_log_o = LogisticRegression()\n",
    "m_log_o.fit(X_train_s,y_train_s)\n",
    "metrics['log_smotetomek'] = check_metrics(model=m_log_o, X_test=X_test_s, y_test=y_test_s)"
   ]
  },
  {
   "cell_type": "markdown",
   "metadata": {},
   "source": [
    "#### Test RandomForest"
   ]
  },
  {
   "cell_type": "code",
   "execution_count": null,
   "metadata": {},
   "outputs": [],
   "source": [
    "m_rf_o=RandomForestClassifier()\n",
    "m_rf_o.fit(X_train_s,y_train_s)\n",
    "metrics['rf_smotetomek'] = check_metrics(model=m_rf_o, X_test=X_test_s, y_test=y_test_s)"
   ]
  },
  {
   "cell_type": "markdown",
   "metadata": {},
   "source": [
    "# Results"
   ]
  },
  {
   "cell_type": "code",
   "execution_count": null,
   "metadata": {},
   "outputs": [],
   "source": [
    "metrics['log_baseline']['classification_report']"
   ]
  },
  {
   "cell_type": "code",
   "execution_count": null,
   "metadata": {},
   "outputs": [],
   "source": [
    "metrics_df = dict()\n",
    "for k,v in metrics.items():\n",
    "    vals = dict()\n",
    "    vals.update({\"accuracy\":v['classification_report']['accuracy']})\n",
    "    vals.update(dict((\"Class=0,\"+k,v) for k,v in v['classification_report']['0'].items()))\n",
    "    vals.update(dict((\"Class=1,\"+k,v) for k,v in v['classification_report']['1'].items()))\n",
    "    metrics_df[k] = vals\n",
    "metrics_df = pd.DataFrame.from_dict(metrics_df).T\n",
    "metrics_df = metrics_df.sort_index()"
   ]
  },
  {
   "cell_type": "code",
   "execution_count": null,
   "metadata": {},
   "outputs": [],
   "source": [
    "metrics_df.sort_values(['Class=1,f1-score','Class=1,recall','Class=1,precision'],ascending=[False,False,False])"
   ]
  },
  {
   "cell_type": "code",
   "execution_count": null,
   "metadata": {},
   "outputs": [],
   "source": []
  }
 ],
 "metadata": {
  "kernelspec": {
   "display_name": "Python 3.9.10 64-bit",
   "language": "python",
   "name": "python3"
  },
  "language_info": {
   "codemirror_mode": {
    "name": "ipython",
    "version": 3
   },
   "file_extension": ".py",
   "mimetype": "text/x-python",
   "name": "python",
   "nbconvert_exporter": "python",
   "pygments_lexer": "ipython3",
   "version": "3.9.10"
  },
  "orig_nbformat": 4,
  "vscode": {
   "interpreter": {
    "hash": "22e5dea1628f7e1c945df06b9a2434c5192832944f53cfc6bc7b26069c0c4ffd"
   }
  }
 },
 "nbformat": 4,
 "nbformat_minor": 2
}
