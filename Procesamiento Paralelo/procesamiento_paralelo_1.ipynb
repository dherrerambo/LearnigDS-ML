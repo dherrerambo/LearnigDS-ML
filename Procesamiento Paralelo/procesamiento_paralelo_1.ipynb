{
 "cells": [
  {
   "cell_type": "markdown",
   "metadata": {},
   "source": [
    "# Multiprocesamiento (BASICO)\n",
    "Proecesamiento paralelo con `Multiprocessing`"
   ]
  },
  {
   "cell_type": "markdown",
   "metadata": {},
   "source": [
    "## Imports"
   ]
  },
  {
   "cell_type": "code",
   "execution_count": 1,
   "metadata": {},
   "outputs": [],
   "source": [
    "import time\n",
    "import multiprocessing as mp\n",
    "from random import sample"
   ]
  },
  {
   "cell_type": "markdown",
   "metadata": {},
   "source": [
    "Se debe crear un archivo `.py` con las funciones que se deseen paralelizar, para este caso se llamaran `workers_mp.py` con la funcion `dummy_func` que simula la ejecusion de una operacion compleja que demora 2 seg\n",
    "\n",
    "```python\n",
    "import time\n",
    "\n",
    "def dummy_func(i,j):\n",
    "    r = i**j\n",
    "    time.sleep(2)\n",
    "    return r\n",
    "```"
   ]
  },
  {
   "cell_type": "code",
   "execution_count": 2,
   "metadata": {},
   "outputs": [],
   "source": [
    "from workers_mp import dummy_func"
   ]
  },
  {
   "cell_type": "markdown",
   "metadata": {},
   "source": [
    "Estructurando los argumentos de la funcion"
   ]
  },
  {
   "cell_type": "code",
   "execution_count": 3,
   "metadata": {},
   "outputs": [],
   "source": [
    "def make_list_of_files(items:int=10):\n",
    "    return sample(range(0,10),items)"
   ]
  },
  {
   "cell_type": "code",
   "execution_count": 4,
   "metadata": {},
   "outputs": [
    {
     "data": {
      "text/plain": [
       "{8: 7, 4: 3, 3: 1, 7: 9, 5: 2, 1: 8, 0: 4, 6: 0, 2: 6, 9: 5}"
      ]
     },
     "execution_count": 4,
     "metadata": {},
     "output_type": "execute_result"
    }
   ],
   "source": [
    "l1 = make_list_of_files()\n",
    "l2 = make_list_of_files()\n",
    "args = dict(zip(l1,l2))\n",
    "args"
   ]
  },
  {
   "cell_type": "code",
   "execution_count": 5,
   "metadata": {},
   "outputs": [
    {
     "data": {
      "text/plain": [
       "[(8, 7),\n",
       " (4, 3),\n",
       " (3, 1),\n",
       " (7, 9),\n",
       " (5, 2),\n",
       " (1, 8),\n",
       " (0, 4),\n",
       " (6, 0),\n",
       " (2, 6),\n",
       " (9, 5)]"
      ]
     },
     "execution_count": 5,
     "metadata": {},
     "output_type": "execute_result"
    }
   ],
   "source": [
    "args = [(k,v) for k,v in args.items()]\n",
    "args"
   ]
  },
  {
   "cell_type": "markdown",
   "metadata": {},
   "source": [
    "## Procesamiento en `SERIE`"
   ]
  },
  {
   "cell_type": "code",
   "execution_count": 6,
   "metadata": {},
   "outputs": [
    {
     "name": "stdout",
     "output_type": "stream",
     "text": [
      "Excec time:  20.07354474067688\n"
     ]
    },
    {
     "data": {
      "text/plain": [
       "[2097152, 64, 3, 40353607, 25, 1, 0, 1, 64, 59049]"
      ]
     },
     "execution_count": 6,
     "metadata": {},
     "output_type": "execute_result"
    }
   ],
   "source": [
    "start = time.time()\n",
    "response = []\n",
    "for x in args:\n",
    "    response.append(dummy_func(*x))\n",
    "ts = time.time() - start\n",
    "print(\"Excec time: \", ts)\n",
    "response"
   ]
  },
  {
   "cell_type": "markdown",
   "metadata": {},
   "source": [
    "## Procesamiento con `Comprehesion List`"
   ]
  },
  {
   "cell_type": "code",
   "execution_count": 7,
   "metadata": {},
   "outputs": [
    {
     "name": "stdout",
     "output_type": "stream",
     "text": [
      "Excec time:  20.119821071624756\n"
     ]
    },
    {
     "data": {
      "text/plain": [
       "[2097152, 64, 3, 40353607, 25, 1, 0, 1, 64, 59049]"
      ]
     },
     "execution_count": 7,
     "metadata": {},
     "output_type": "execute_result"
    }
   ],
   "source": [
    "start = time.time()\n",
    "response = [dummy_func(*x) for x in args]\n",
    "ts2 = time.time() - start\n",
    "print(\"Excec time: \", ts2)\n",
    "response"
   ]
  },
  {
   "cell_type": "markdown",
   "metadata": {},
   "source": [
    "## Procesamiento en `PARALELO`\n",
    "\n",
    "se deben definir el numero de nucleos a usar, por defecto se usaran todos"
   ]
  },
  {
   "cell_type": "code",
   "execution_count": 8,
   "metadata": {},
   "outputs": [
    {
     "name": "stdout",
     "output_type": "stream",
     "text": [
      "Numero de nucleos disponibles: 4\n"
     ]
    }
   ],
   "source": [
    "n_cores = mp.cpu_count()\n",
    "print(f\"Numero de nucleos disponibles:\", n_cores)"
   ]
  },
  {
   "cell_type": "code",
   "execution_count": 9,
   "metadata": {},
   "outputs": [
    {
     "name": "stdout",
     "output_type": "stream",
     "text": [
      "Excec time:  6.717174291610718\n",
      "10\n"
     ]
    },
    {
     "data": {
      "text/plain": [
       "[2097152, 64, 3, 40353607, 25, 1, 0, 1, 64, 59049]"
      ]
     },
     "execution_count": 9,
     "metadata": {},
     "output_type": "execute_result"
    }
   ],
   "source": [
    "start = time.time()\n",
    "results = list()\n",
    "with mp.Pool(processes=n_cores) as p:\n",
    "    results = p.starmap(dummy_func, args)\n",
    "tp = time.time() - start\n",
    "print(\"Excec time: \", tp)\n",
    "print(len(results))\n",
    "results"
   ]
  },
  {
   "cell_type": "markdown",
   "metadata": {},
   "source": [
    "# Comparando procesamiento en `Serie` vs `Paralelo`"
   ]
  },
  {
   "cell_type": "code",
   "execution_count": 10,
   "metadata": {},
   "outputs": [
    {
     "name": "stdout",
     "output_type": "stream",
     "text": [
      "Reduccion del tiempo de 20.07seg a 6.72seg, 33.463%\n"
     ]
    }
   ],
   "source": [
    "print(f\"Reduccion del tiempo de {round(ts,2)}seg a {round(tp,2)}seg, {round((tp/ts)*100,3)}%\")"
   ]
  },
  {
   "cell_type": "code",
   "execution_count": null,
   "metadata": {},
   "outputs": [],
   "source": []
  }
 ],
 "metadata": {
  "interpreter": {
   "hash": "81e74b14688ff0f0af8f53da655938afd39cb33f29b63684659fe2bb2affc994"
  },
  "kernelspec": {
   "display_name": "Python 3.8.7 64-bit",
   "language": "python",
   "name": "python3"
  },
  "language_info": {
   "codemirror_mode": {
    "name": "ipython",
    "version": 3
   },
   "file_extension": ".py",
   "mimetype": "text/x-python",
   "name": "python",
   "nbconvert_exporter": "python",
   "pygments_lexer": "ipython3",
   "version": "3.8.7"
  },
  "orig_nbformat": 4
 },
 "nbformat": 4,
 "nbformat_minor": 2
}
