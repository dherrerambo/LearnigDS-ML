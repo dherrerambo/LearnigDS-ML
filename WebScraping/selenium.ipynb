{
 "cells": [
  {
   "attachments": {},
   "cell_type": "markdown",
   "metadata": {},
   "source": [
    "# Web scraping REPS con Selenium.\n",
    "\n",
    "Que son los REPS?: Registro Especial de Prestadores de Servicios de Salud -REPS. Es la base de datos de las Entidades Departamentales y Distritales de Salud, en la cual se efectúa el registro de los Prestadores de Servicios de Salud que se encuentren habilitados y es consolidada por parte del Ministerio de Salud y Protección Social [**link**](https://www.minsalud.gov.co/sites/rid/Lists/BibliotecaDigital/RIDE/DE/PES/caracterizacion-registro-especial-prestadores-reps.pdf)\n",
    "\n",
    "Que funcionalidad hace este script: Se encarga de descargar los archivos de:\n",
    "- Prestadores\n",
    "- Sedes\n",
    "- Servicios\n",
    "- Capacidad\n",
    "\n",
    "desde la pagina web."
   ]
  },
  {
   "cell_type": "code",
   "execution_count": 1,
   "metadata": {},
   "outputs": [],
   "source": [
    "import time\n",
    "start_i = time.time()"
   ]
  },
  {
   "cell_type": "code",
   "execution_count": 2,
   "metadata": {},
   "outputs": [],
   "source": [
    "from glob import glob\n",
    "from lxml import etree\n",
    "from selenium import webdriver\n",
    "import datetime, os, gc"
   ]
  },
  {
   "cell_type": "code",
   "execution_count": 12,
   "metadata": {},
   "outputs": [],
   "source": [
    "import pandas as pd\n",
    "pd.options.display.float_format = '{:,.2f}'.format\n",
    "pd.options.display.max_columns = 200"
   ]
  },
  {
   "cell_type": "code",
   "execution_count": 3,
   "metadata": {},
   "outputs": [],
   "source": [
    "def clean_not_downloaded(download_path:str, debug:bool=False):\n",
    "    if debug==True: print(f\"fx({clean_not_downloaded.__name__})\")\n",
    "    downloading_chrome  = glob(download_path+'\\\\*.crdownload')\n",
    "    downloading_firefox = glob(download_path+'\\\\*.part')\n",
    "    files = downloading_chrome+downloading_firefox\n",
    "    if len(files)>0:\n",
    "        for f in files:\n",
    "            try:\n",
    "                os.remove(f)\n",
    "                if debug==True: print(f\"\\tfile deleted {f}\")\n",
    "            except:\n",
    "                pass\n",
    "    return"
   ]
  },
  {
   "cell_type": "code",
   "execution_count": 4,
   "metadata": {},
   "outputs": [],
   "source": [
    "def wait_til_download(download_path:str, debug:str=False):\n",
    "    \"\"\"\n",
    "        wait til download files\n",
    "    \"\"\"\n",
    "    if debug==True: print(f\"fx({wait_til_download.__name__})\")\n",
    "    downloading = 1\n",
    "    while downloading>0:\n",
    "        time.sleep(5)\n",
    "        downloading_chrome  = glob(download_path+'\\\\*.crdownload')\n",
    "        downloading_firefox = glob(download_path+'\\\\*.part')\n",
    "        # print(downloading_chrome + downloading_firefox)\n",
    "        downloading = len(downloading_chrome + downloading_firefox)\n",
    "    time.sleep(30)\n",
    "    return"
   ]
  },
  {
   "cell_type": "code",
   "execution_count": 5,
   "metadata": {},
   "outputs": [],
   "source": [
    "def get_last_downloaded_file(download_path:str, prefix_file:str=None, debug:bool=False):\n",
    "    if debug==True: print(f\"fx({get_last_downloaded_file.__name__})\")\n",
    "    if prefix_file==None:\n",
    "        path = download_path+'\\\\*'\n",
    "    else:\n",
    "        path = download_path+f'\\\\{prefix_file}*'\n",
    "    files = [(f, os.path.getmtime(f)) for f in glob(path)]\n",
    "    files.sort(key=lambda a: a[1], reverse=True)\n",
    "    last_file = files[0][0]\n",
    "    k = os.path.basename(last_file).split(\".\")[0].split(\"(\")[0].strip()\n",
    "    return k, last_file"
   ]
  },
  {
   "cell_type": "code",
   "execution_count": 6,
   "metadata": {},
   "outputs": [],
   "source": [
    "def get_last_files_donloaded(download_path:str, debug:bool=False):\n",
    "    \"\"\"\n",
    "        Get all last files downloaded\n",
    "    \"\"\"\n",
    "    if debug==True: print(f\"fx({get_last_files_donloaded.__name__})\")\n",
    "    downloaded_files = dict()\n",
    "    for k in set([os.path.basename(f).split(\".\")[0].split(\"(\")[0].strip() for f in glob(download_path+'/*')]):\n",
    "        _, last_file = get_last_downloaded_file(download_path=download_path, prefix_file=k)\n",
    "        downloaded_files.update({k: last_file})\n",
    "    return downloaded_files"
   ]
  },
  {
   "cell_type": "code",
   "execution_count": 7,
   "metadata": {},
   "outputs": [],
   "source": [
    "def make_download_path(download_path:str=None, debug:bool=False):\n",
    "    if debug==True: print(f\"fx({make_download_path.__name__})\")\n",
    "    if download_path==None:\n",
    "        download_path = os.path.join(os.getcwd(), \"downloads\")\n",
    "    else:\n",
    "        try:\n",
    "            os.path.exists(download_path)\n",
    "        except:\n",
    "            try:\n",
    "                os.makedirs(download_path)\n",
    "            except Exception as e:\n",
    "                e = f\"\\tcan't make path.\\n\\t{download_path}\\nError: {e}\"\n",
    "                raise Exception(e)\n",
    "    return download_path"
   ]
  },
  {
   "cell_type": "code",
   "execution_count": 8,
   "metadata": {},
   "outputs": [],
   "source": [
    "def make_options(download_path:str, kind_of_browser:str=\"firefox\", debug:bool=False):\n",
    "    if debug==True: print(f\"fx({make_options.__name__})\")\n",
    "\n",
    "    if kind_of_browser==\"firefox\":\n",
    "        \n",
    "        options = webdriver.firefox.options.Options()\n",
    "        options.set_preference('--headless')\n",
    "        options.set_preference(\"browser.download.manager.showWhenStarting\", False)\n",
    "        options.set_preference(\"browser.download.dir\", download_path)\n",
    "        options.set_preference(\"browser.helperApps.neverAsk.saveToDisk\", \"application/x-gzip\")\n",
    "\n",
    "    elif kind_of_browser==\"chrome\":\n",
    "        \n",
    "        options = webdriver.chrome.options.Options()\n",
    "        # options.add_argument(\"--headless\")\n",
    "        options.add_argument('--incognito')\n",
    "        options.add_argument(\"--disable-xss-auditor\")\n",
    "        options.add_argument(\"--disable-web-security\")\n",
    "        options.add_argument(\"--allow-running-insecure-content\")\n",
    "        options.add_argument(\"--no-sandbox\")\n",
    "        options.add_argument(\"--disable-setuid-sandbox\")\n",
    "        options.add_argument(\"--disable-webgl\")\n",
    "        options.add_argument(\"--disable-popup-blocking\")\n",
    "        options.add_argument('--disable-gpu')\n",
    "        \n",
    "    else:\n",
    "\n",
    "        e = f\"kind_of_browser no es valido [{kind_of_browser}]\"\n",
    "        raise Exception(e)\n",
    "    \n",
    "    return options"
   ]
  },
  {
   "cell_type": "code",
   "execution_count": 9,
   "metadata": {},
   "outputs": [],
   "source": [
    "def start_browser(kind_of_browser:str, options, debug:bool=False):\n",
    "    if debug==True: print(f\"fx({start_browser.__name__})\")\n",
    "    if kind_of_browser==\"chrome\":\n",
    "        # browser = webdriver.Chrome(options=options, executable_path=\".\\drivers\\chromedriver\")\n",
    "        try:\n",
    "            s = webdriver.chrome.service.Service(\".\\drivers\\chromedriver.exe\")\n",
    "            browser = webdriver.Chrome(options=options, service=s)\n",
    "        except:\n",
    "            browser = webdriver.Chrome(options=options)\n",
    "    elif kind_of_browser==\"firefox\":\n",
    "        # driver = webdriver.Firefox(firefox_profile=options)\n",
    "        browser = webdriver.Firefox(options=options)\n",
    "    else:\n",
    "        e = f\"kind_of_browser no es valido [{kind_of_browser}]\"\n",
    "        raise Exception(e)\n",
    "    time.sleep(2)\n",
    "    return browser"
   ]
  },
  {
   "cell_type": "code",
   "execution_count": 10,
   "metadata": {},
   "outputs": [],
   "source": [
    "def sing_in(browser, url_loggin, debug:bool=False):\n",
    "    if debug==True: print(f\"fx({sing_in.__name__})\")\n",
    "    browser.get(url_loggin)\n",
    "    time.sleep(3)\n",
    "    browser.find_element(by=\"id\",value=\"exampleModal\").click()   ### cerrar la ventana emergente\n",
    "    time.sleep(0.5)\n",
    "    browser.find_element(by=\"id\",value=\"Button1\").click()        ### ingresar\n",
    "    time.sleep(0.5)\n",
    "    return "
   ]
  },
  {
   "cell_type": "code",
   "execution_count": 11,
   "metadata": {},
   "outputs": [],
   "source": [
    "def get_download_data(browser, url, debug:bool=False):\n",
    "    if debug==True: print(f\"fx({get_download_data.__name__})\")\n",
    "    browser.get(url)\n",
    "    time.sleep(0.5)\n",
    "    browser.find_element(by=\"id\",value=\"_ctl0_ibBuscarFtr\").click()                           ### cargar todos\n",
    "    time.sleep(2)\n",
    "    browser.find_element(by=\"id\",value=\"_ctl0_ContentPlaceHolder1_ibExcel\").click()           ### descargar excel\n",
    "    if debug==True: print(\"\\t\",url)\n",
    "    return"
   ]
  },
  {
   "cell_type": "code",
   "execution_count": 12,
   "metadata": {},
   "outputs": [],
   "source": [
    "def read_downloaded_file(k:str, f:str, fechaconsulta, debug:bool=False):\n",
    "    if debug==True: print(f\"fx({read_downloaded_file.__name__})\")\n",
    "    try:\n",
    "        df = pd.read_html(f)\n",
    "        if debug==True: print(\"\\tReaded by pandas\")\n",
    "        if isinstance(df,pd.DataFrame):\n",
    "            pass\n",
    "        elif isinstance(df,list):\n",
    "            if isinstance(df[0],pd.DataFrame) and df[0].columns[0]==0:\n",
    "                cols = df[0].iloc[0].values\n",
    "                df = df[0].iloc[1:]\n",
    "                df.columns = cols\n",
    "            else:\n",
    "                e = f\"\\tbad structure.\"\n",
    "                print(e)\n",
    "                raise Exception(e)\n",
    "        else:\n",
    "            e = f\"\\tbad structure. not [list] or [pd.DataFrame]\"\n",
    "            print(e)\n",
    "            raise Exception(e)\n",
    "    except:\n",
    "        try:\n",
    "            with open(f, 'rt') as fo:\n",
    "                raw = etree.HTML(fo.read()).find(\"body/table\")\n",
    "                rows = iter(raw)\n",
    "                headers = [col.text for col in next(rows)]\n",
    "                values=[]\n",
    "                for row in rows:\n",
    "                    values.append([col.text for col in row])\n",
    "                df = pd.DataFrame(values,columns=headers)\n",
    "            if debug==True: print(\"\\tReaded by etree\")\n",
    "        except Exception as e:\n",
    "            e = f\"\\tno se leyo.. {f}\\nError: {e}\"\n",
    "            raise Exception(e)\n",
    "    if debug==True: print(\"\\ttype(df) = \", type(df))\n",
    "    df[\"fechahora_consulta\"] = fechaconsulta\n",
    "    if debug==True: print(f\"\\t{k}.shape = {df.shape}\")\n",
    "    return df"
   ]
  },
  {
   "cell_type": "code",
   "execution_count": 13,
   "metadata": {},
   "outputs": [],
   "source": [
    "def save_to_parquet(k:str, df:pd.DataFrame, fechaconsulta, debug:bool=False):\n",
    "    if debug==True: print(f\"fx({save_to_parquet.__name__})\")\n",
    "    try:\n",
    "        os.makedirs(\"output\")\n",
    "    except:\n",
    "        pass\n",
    "    fName = f'output/{k.lower()}__{fechaconsulta.strftime(\"%Y%m%d_%H%M%S%f\")}.parquet'\n",
    "    df.to_parquet(fName)\n",
    "    return fName"
   ]
  },
  {
   "attachments": {},
   "cell_type": "markdown",
   "metadata": {},
   "source": [
    "## main"
   ]
  },
  {
   "cell_type": "code",
   "execution_count": 14,
   "metadata": {},
   "outputs": [],
   "source": [
    "url                 = \"https://prestadores.minsalud.gov.co/habilitacion\"\n",
    "url_loggin          = f\"{url}/work.aspx\"\n",
    "url_prestadores     = f\"{url}/consultas/habilitados_reps.aspx\"\n",
    "url_sedes           = f\"{url}/consultas/sedes_reps.aspx\"\n",
    "url_servicios       = f\"{url}/consultas/serviciossedes_reps.aspx\"\n",
    "url_capacidad       = f\"{url}/consultas/capacidadesinstaladas_reps.aspx\"\n",
    "urls                = [url_prestadores, url_sedes, url_servicios, url_capacidad]\n",
    "kind_of_browser      = \"chrome\"\n",
    "downloaded_files    = list()\n",
    "\n",
    "debug = False    # True"
   ]
  },
  {
   "cell_type": "code",
   "execution_count": null,
   "metadata": {},
   "outputs": [],
   "source": [
    "download_path = make_download_path()\n",
    "clean_not_downloaded(download_path=download_path)\n",
    "download_path\n"
   ]
  },
  {
   "cell_type": "code",
   "execution_count": 16,
   "metadata": {},
   "outputs": [
    {
     "name": "stdout",
     "output_type": "stream",
     "text": [
      "Driver started ... chrome\n",
      "CPU times: total: 15.6 ms\n",
      "Wall time: 4.08 s\n"
     ]
    }
   ],
   "source": [
    "%%time\n",
    "options = make_options(download_path=download_path, kind_of_browser=kind_of_browser, debug=debug)\n",
    "browser = start_browser(kind_of_browser=kind_of_browser, options=options, debug=debug)\n",
    "print(f\"Browser started ... {kind_of_browser}\")"
   ]
  },
  {
   "cell_type": "code",
   "execution_count": 17,
   "metadata": {},
   "outputs": [
    {
     "name": "stdout",
     "output_type": "stream",
     "text": [
      "Logging in web ... https://prestadores.minsalud.gov.co/habilitacion/work.aspx\n",
      "CPU times: total: 0 ns\n",
      "Wall time: 5.92 s\n"
     ]
    }
   ],
   "source": [
    "%%time\n",
    "sing_in(browser=browser, url_loggin=url_loggin, debug=debug)\n",
    "print(f\"Logging in web ... {url_loggin}\")"
   ]
  },
  {
   "cell_type": "code",
   "execution_count": 18,
   "metadata": {},
   "outputs": [
    {
     "name": "stdout",
     "output_type": "stream",
     "text": [
      "************************************************** https://prestadores.minsalud.gov.co/habilitacion/consultas/habilitados_reps.aspx\n",
      "\t 1.08 min.\n",
      "\n",
      "************************************************** https://prestadores.minsalud.gov.co/habilitacion/consultas/sedes_reps.aspx\n",
      "\t 1.46 min.\n",
      "\n",
      "************************************************** https://prestadores.minsalud.gov.co/habilitacion/consultas/serviciossedes_reps.aspx\n",
      "\t 5.52 min.\n",
      "\n",
      "************************************************** https://prestadores.minsalud.gov.co/habilitacion/consultas/capacidadesinstaladas_reps.aspx\n",
      "\t 1.79 min.\n",
      "\n",
      "CPU times: total: 141 ms\n",
      "Wall time: 9min 53s\n"
     ]
    }
   ],
   "source": [
    "%%time\n",
    "for u in urls:\n",
    "    # u = urls[0]\n",
    "    print(\"*\"*50, u)\n",
    "    start = time.time()\n",
    "    get_download_data(browser=browser, url=u, debug=debug)\n",
    "    fechaconsulta = datetime.datetime.now()\n",
    "    wait_til_download(download_path=download_path, debug=debug)\n",
    "    k,last_file = get_last_downloaded_file(download_path=download_path, debug=debug)\n",
    "    downloaded_files.append({k: {\"file\": last_file, \"url\":u, \"fechahora_consulta\": fechaconsulta}})\n",
    "    time.sleep(5)\n",
    "    print(\"\\t\", round((time.time()-start)/60,2),\"min.\")\n",
    "    print(\"\")\n",
    "browser.close()\n",
    "browser.quit()"
   ]
  },
  {
   "cell_type": "code",
   "execution_count": 3,
   "metadata": {},
   "outputs": [
    {
     "data": {
      "text/plain": [
       "[{'Prestadores': {'file': 'downloads/Prestadores.xls',\n",
       "   'url': 'https://prestadores.minsalud.gov.co/habilitacion/consultas/habilitados_reps.aspx',\n",
       "   'fechahora_consulta': datetime.datetime(2023, 1, 25, 14, 57, 31, 205343)}},\n",
       " {'Sedes': {'file': 'downloads/Sedes.xls',\n",
       "   'url': 'https://prestadores.minsalud.gov.co/habilitacion/consultas/sedes_reps.aspx',\n",
       "   'fechahora_consulta': datetime.datetime(2023, 1, 25, 14, 58, 43, 548117)}},\n",
       " {'Servicios': {'file': 'downloads/Servicios.xls',\n",
       "   'url': 'https://prestadores.minsalud.gov.co/habilitacion/consultas/serviciossedes_reps.aspx',\n",
       "   'fechahora_consulta': datetime.datetime(2023, 1, 25, 15, 1, 4, 392393)}},\n",
       " {'CapacidadInstalada': {'file': 'downloads/CapacidadInstalada.xls',\n",
       "   'url': 'https://prestadores.minsalud.gov.co/habilitacion/consultas/capacidadesinstaladas_reps.aspx',\n",
       "   'fechahora_consulta': datetime.datetime(2023, 1, 25, 15, 5, 57, 315210)}}]"
      ]
     },
     "execution_count": 3,
     "metadata": {},
     "output_type": "execute_result"
    }
   ],
   "source": [
    "try:\n",
    "    if len(downloaded_files)==0: raise Exception\n",
    "except:\n",
    "    downloaded_files = get_last_files_donloaded(download_path)\n",
    "downloaded_files"
   ]
  },
  {
   "cell_type": "code",
   "execution_count": 20,
   "metadata": {},
   "outputs": [
    {
     "name": "stdout",
     "output_type": "stream",
     "text": [
      "************************************************** Prestadores\n",
      "\teplased time = 34.0seg.\n",
      "************************************************** Sedes\n",
      "\teplased time = 59.0seg.\n",
      "************************************************** Servicios\n",
      "\teplased time = 2.1min.\n",
      "************************************************** CapacidadInstalada\n",
      "\teplased time = 53.0seg.\n"
     ]
    }
   ],
   "source": [
    "# read and save in parquet\n",
    "for x in downloaded_files:\n",
    "    start = time.time()\n",
    "    k = list(x.keys())[0]\n",
    "    f = list(x.values())[0][\"file\"]\n",
    "    fechaconsulta = list(x.values())[0][\"fechahora_consulta\"]\n",
    "    print(\"*\"*50, k)\n",
    "    df = read_downloaded_file(k=k, f=f, fechaconsulta=fechaconsulta, debug=debug)\n",
    "    save_to_parquet(k=k, df=df, fechaconsulta=fechaconsulta, debug=debug)\n",
    "    t = time.time()-start\n",
    "    if t>60:\n",
    "        t = f\"{round((t/60),1)}min.\"\n",
    "    else:\n",
    "        t = f\"{round(t,0)}seg.\"\n",
    "    print(f\"\\teplased time = {t}\")"
   ]
  },
  {
   "cell_type": "code",
   "execution_count": 7,
   "metadata": {},
   "outputs": [
    {
     "name": "stdout",
     "output_type": "stream",
     "text": [
      "Files in parquet for fast access.\n"
     ]
    },
    {
     "data": {
      "text/plain": [
       "['output\\\\capacidadinstalada__20230125_150557315210.parquet',\n",
       " 'output\\\\prestadores__20230125_145731205343.parquet',\n",
       " 'output\\\\sedes__20230125_145843548117.parquet',\n",
       " 'output\\\\servicios__20230125_150104392393.parquet']"
      ]
     },
     "execution_count": 7,
     "metadata": {},
     "output_type": "execute_result"
    }
   ],
   "source": [
    "print(\"Files in parquet for fast access.\")\n",
    "files = glob(\"output/*.parquet\")\n",
    "files"
   ]
  },
  {
   "cell_type": "code",
   "execution_count": 10,
   "metadata": {},
   "outputs": [
    {
     "data": {
      "text/plain": [
       "{'capacidadinstalada': (92210, 32),\n",
       " 'prestadores': (66809, 31),\n",
       " 'sedes': (83290, 45),\n",
       " 'servicios': (245244, 88)}"
      ]
     },
     "execution_count": 10,
     "metadata": {},
     "output_type": "execute_result"
    }
   ],
   "source": [
    "data = dict()\n",
    "for f in files:\n",
    "    k = os.path.basename(f).split(\"__\")[0]\n",
    "    data[k] = pd.read_parquet(f)\n",
    "dict((k,df.shape) for k,df in data.items())"
   ]
  },
  {
   "cell_type": "code",
   "execution_count": 13,
   "metadata": {},
   "outputs": [
    {
     "data": {
      "text/html": [
       "<div>\n",
       "<style scoped>\n",
       "    .dataframe tbody tr th:only-of-type {\n",
       "        vertical-align: middle;\n",
       "    }\n",
       "\n",
       "    .dataframe tbody tr th {\n",
       "        vertical-align: top;\n",
       "    }\n",
       "\n",
       "    .dataframe thead th {\n",
       "        text-align: right;\n",
       "    }\n",
       "</style>\n",
       "<table border=\"1\" class=\"dataframe\">\n",
       "  <thead>\n",
       "    <tr style=\"text-align: right;\">\n",
       "      <th></th>\n",
       "      <th>depa_nombre</th>\n",
       "      <th>muni_nombre</th>\n",
       "      <th>codigo_habilitacion</th>\n",
       "      <th>nombre_prestador</th>\n",
       "      <th>tido_codigo</th>\n",
       "      <th>nits_nit</th>\n",
       "      <th>razon_social</th>\n",
       "      <th>clpr_codigo</th>\n",
       "      <th>clpr_nombre</th>\n",
       "      <th>ese</th>\n",
       "      <th>direccion</th>\n",
       "      <th>telefono</th>\n",
       "      <th>fax</th>\n",
       "      <th>email</th>\n",
       "      <th>gerente</th>\n",
       "      <th>nivel</th>\n",
       "      <th>caracter</th>\n",
       "      <th>habilitado</th>\n",
       "      <th>fecha_radicacion</th>\n",
       "      <th>fecha_vencimiento</th>\n",
       "      <th>fecha_cierre</th>\n",
       "      <th>dv</th>\n",
       "      <th>clase_persona</th>\n",
       "      <th>naju_codigo</th>\n",
       "      <th>naju_nombre</th>\n",
       "      <th>numero_sede_principal</th>\n",
       "      <th>fecha_corte_REPS</th>\n",
       "      <th>telefono_adicional</th>\n",
       "      <th>email_adicional</th>\n",
       "      <th>rep_legal</th>\n",
       "      <th>fechahora_consulta</th>\n",
       "    </tr>\n",
       "  </thead>\n",
       "  <tbody>\n",
       "    <tr>\n",
       "      <th>1</th>\n",
       "      <td>Amazonas</td>\n",
       "      <td>LETICIA</td>\n",
       "      <td>9100100148</td>\n",
       "      <td>ALEXANDER ABEL PEREZ FABRA</td>\n",
       "      <td>None</td>\n",
       "      <td>72291077</td>\n",
       "      <td>ALEXANDER ABEL PEREZ FABRA</td>\n",
       "      <td>2</td>\n",
       "      <td>Profesional Independiente</td>\n",
       "      <td>None</td>\n",
       "      <td>CALLE 8 No. 7-35 CONSULTORIO 2</td>\n",
       "      <td>3108045798</td>\n",
       "      <td>N/T</td>\n",
       "      <td>alexander_pf84@hotmail.com</td>\n",
       "      <td>None</td>\n",
       "      <td>None</td>\n",
       "      <td>None</td>\n",
       "      <td>SI</td>\n",
       "      <td>20190822</td>\n",
       "      <td>20240430</td>\n",
       "      <td>None</td>\n",
       "      <td>0</td>\n",
       "      <td>NATURAL</td>\n",
       "      <td>1</td>\n",
       "      <td>Privada</td>\n",
       "      <td>01</td>\n",
       "      <td>Fecha corte REPS: Jan 25 2023 2:57PM</td>\n",
       "      <td>None</td>\n",
       "      <td>None</td>\n",
       "      <td>None</td>\n",
       "      <td>2023-01-25 14:57:31.205343</td>\n",
       "    </tr>\n",
       "    <tr>\n",
       "      <th>2</th>\n",
       "      <td>Amazonas</td>\n",
       "      <td>LETICIA</td>\n",
       "      <td>9100100147</td>\n",
       "      <td>ALICIA PAOLA RUBIO CRUZ</td>\n",
       "      <td>None</td>\n",
       "      <td>1018433478</td>\n",
       "      <td>ALICIA PAOLA RUBIO CRUZ</td>\n",
       "      <td>2</td>\n",
       "      <td>Profesional Independiente</td>\n",
       "      <td>None</td>\n",
       "      <td>CALLE 11 # 8-98 LOCAL 3</td>\n",
       "      <td>3143319559</td>\n",
       "      <td>None</td>\n",
       "      <td>crodepletama@gmail.com</td>\n",
       "      <td>None</td>\n",
       "      <td>None</td>\n",
       "      <td>None</td>\n",
       "      <td>SI</td>\n",
       "      <td>20151030</td>\n",
       "      <td>20240430</td>\n",
       "      <td>None</td>\n",
       "      <td>0</td>\n",
       "      <td>NATURAL</td>\n",
       "      <td>1</td>\n",
       "      <td>Privada</td>\n",
       "      <td>01</td>\n",
       "      <td>Fecha corte REPS: Jan 25 2023 2:57PM</td>\n",
       "      <td>None</td>\n",
       "      <td>None</td>\n",
       "      <td>None</td>\n",
       "      <td>2023-01-25 14:57:31.205343</td>\n",
       "    </tr>\n",
       "    <tr>\n",
       "      <th>3</th>\n",
       "      <td>Amazonas</td>\n",
       "      <td>LETICIA</td>\n",
       "      <td>9100100134</td>\n",
       "      <td>ALVARO ENRIQUE LEON LARA</td>\n",
       "      <td>None</td>\n",
       "      <td>13803322</td>\n",
       "      <td>ALVARO ENRIQUE LEON LARA</td>\n",
       "      <td>2</td>\n",
       "      <td>Profesional Independiente</td>\n",
       "      <td>None</td>\n",
       "      <td>CARRERA 10 No. 14-07</td>\n",
       "      <td>5925906</td>\n",
       "      <td>N/T</td>\n",
       "      <td>aleolar@hotmail.com</td>\n",
       "      <td>None</td>\n",
       "      <td>None</td>\n",
       "      <td>None</td>\n",
       "      <td>SI</td>\n",
       "      <td>20190708</td>\n",
       "      <td>20230831</td>\n",
       "      <td>None</td>\n",
       "      <td>0</td>\n",
       "      <td>NATURAL</td>\n",
       "      <td>1</td>\n",
       "      <td>Privada</td>\n",
       "      <td>01</td>\n",
       "      <td>Fecha corte REPS: Jan 25 2023 2:57PM</td>\n",
       "      <td>None</td>\n",
       "      <td>None</td>\n",
       "      <td>None</td>\n",
       "      <td>2023-01-25 14:57:31.205343</td>\n",
       "    </tr>\n",
       "    <tr>\n",
       "      <th>4</th>\n",
       "      <td>Amazonas</td>\n",
       "      <td>LETICIA</td>\n",
       "      <td>9100100038</td>\n",
       "      <td>ANA LUCIA DIAZ GUEVARA</td>\n",
       "      <td>None</td>\n",
       "      <td>51782620</td>\n",
       "      <td>ANA LUCIA DIAZ GUEVARA</td>\n",
       "      <td>2</td>\n",
       "      <td>Profesional Independiente</td>\n",
       "      <td>NO</td>\n",
       "      <td>CALLE 4 # 4-62</td>\n",
       "      <td>5928184</td>\n",
       "      <td>None</td>\n",
       "      <td>analudica@hotmail.com</td>\n",
       "      <td>None</td>\n",
       "      <td>None</td>\n",
       "      <td>None</td>\n",
       "      <td>SI</td>\n",
       "      <td>20030910</td>\n",
       "      <td>20230831</td>\n",
       "      <td>None</td>\n",
       "      <td>7</td>\n",
       "      <td>NATURAL</td>\n",
       "      <td>1</td>\n",
       "      <td>Privada</td>\n",
       "      <td>01</td>\n",
       "      <td>Fecha corte REPS: Jan 25 2023 2:57PM</td>\n",
       "      <td>None</td>\n",
       "      <td>None</td>\n",
       "      <td>ANA LUCIA DIAZ GUEVARA</td>\n",
       "      <td>2023-01-25 14:57:31.205343</td>\n",
       "    </tr>\n",
       "    <tr>\n",
       "      <th>5</th>\n",
       "      <td>Amazonas</td>\n",
       "      <td>LETICIA</td>\n",
       "      <td>9100100107</td>\n",
       "      <td>ANDRES FELIPE ZAPATA HERNANDEZ</td>\n",
       "      <td>None</td>\n",
       "      <td>15877110</td>\n",
       "      <td>andres felipe zapata hernandez</td>\n",
       "      <td>2</td>\n",
       "      <td>Profesional Independiente</td>\n",
       "      <td>None</td>\n",
       "      <td>KR 6 # 1 04 PS 2 CS 1 FRONTERA COLOMBIA - BRASIL</td>\n",
       "      <td>3126602824</td>\n",
       "      <td>N/T</td>\n",
       "      <td>felipeexportacion33@gmail.com</td>\n",
       "      <td>None</td>\n",
       "      <td>None</td>\n",
       "      <td>None</td>\n",
       "      <td>SI</td>\n",
       "      <td>20180502</td>\n",
       "      <td>20230831</td>\n",
       "      <td>None</td>\n",
       "      <td>0</td>\n",
       "      <td>NATURAL</td>\n",
       "      <td>1</td>\n",
       "      <td>Privada</td>\n",
       "      <td>01</td>\n",
       "      <td>Fecha corte REPS: Jan 25 2023 2:57PM</td>\n",
       "      <td>None</td>\n",
       "      <td>None</td>\n",
       "      <td>None</td>\n",
       "      <td>2023-01-25 14:57:31.205343</td>\n",
       "    </tr>\n",
       "  </tbody>\n",
       "</table>\n",
       "</div>"
      ],
      "text/plain": [
       "  depa_nombre muni_nombre codigo_habilitacion                nombre_prestador  \\\n",
       "1    Amazonas     LETICIA          9100100148      ALEXANDER ABEL PEREZ FABRA   \n",
       "2    Amazonas     LETICIA          9100100147         ALICIA PAOLA RUBIO CRUZ   \n",
       "3    Amazonas     LETICIA          9100100134        ALVARO ENRIQUE LEON LARA   \n",
       "4    Amazonas     LETICIA          9100100038          ANA LUCIA DIAZ GUEVARA   \n",
       "5    Amazonas     LETICIA          9100100107  ANDRES FELIPE ZAPATA HERNANDEZ   \n",
       "\n",
       "  tido_codigo    nits_nit                    razon_social clpr_codigo  \\\n",
       "1        None    72291077      ALEXANDER ABEL PEREZ FABRA           2   \n",
       "2        None  1018433478         ALICIA PAOLA RUBIO CRUZ           2   \n",
       "3        None    13803322        ALVARO ENRIQUE LEON LARA           2   \n",
       "4        None    51782620          ANA LUCIA DIAZ GUEVARA           2   \n",
       "5        None    15877110  andres felipe zapata hernandez           2   \n",
       "\n",
       "                 clpr_nombre   ese  \\\n",
       "1  Profesional Independiente  None   \n",
       "2  Profesional Independiente  None   \n",
       "3  Profesional Independiente  None   \n",
       "4  Profesional Independiente    NO   \n",
       "5  Profesional Independiente  None   \n",
       "\n",
       "                                          direccion    telefono   fax  \\\n",
       "1                    CALLE 8 No. 7-35 CONSULTORIO 2  3108045798   N/T   \n",
       "2                           CALLE 11 # 8-98 LOCAL 3  3143319559  None   \n",
       "3                              CARRERA 10 No. 14-07     5925906   N/T   \n",
       "4                                    CALLE 4 # 4-62     5928184  None   \n",
       "5  KR 6 # 1 04 PS 2 CS 1 FRONTERA COLOMBIA - BRASIL  3126602824   N/T   \n",
       "\n",
       "                           email gerente nivel caracter habilitado  \\\n",
       "1     alexander_pf84@hotmail.com    None  None     None         SI   \n",
       "2         crodepletama@gmail.com    None  None     None         SI   \n",
       "3            aleolar@hotmail.com    None  None     None         SI   \n",
       "4          analudica@hotmail.com    None  None     None         SI   \n",
       "5  felipeexportacion33@gmail.com    None  None     None         SI   \n",
       "\n",
       "  fecha_radicacion fecha_vencimiento fecha_cierre dv clase_persona  \\\n",
       "1         20190822          20240430         None  0       NATURAL   \n",
       "2         20151030          20240430         None  0       NATURAL   \n",
       "3         20190708          20230831         None  0       NATURAL   \n",
       "4         20030910          20230831         None  7       NATURAL   \n",
       "5         20180502          20230831         None  0       NATURAL   \n",
       "\n",
       "  naju_codigo naju_nombre numero_sede_principal  \\\n",
       "1           1     Privada                    01   \n",
       "2           1     Privada                    01   \n",
       "3           1     Privada                    01   \n",
       "4           1     Privada                    01   \n",
       "5           1     Privada                    01   \n",
       "\n",
       "                       fecha_corte_REPS telefono_adicional email_adicional  \\\n",
       "1  Fecha corte REPS: Jan 25 2023 2:57PM               None            None   \n",
       "2  Fecha corte REPS: Jan 25 2023 2:57PM               None            None   \n",
       "3  Fecha corte REPS: Jan 25 2023 2:57PM               None            None   \n",
       "4  Fecha corte REPS: Jan 25 2023 2:57PM               None            None   \n",
       "5  Fecha corte REPS: Jan 25 2023 2:57PM               None            None   \n",
       "\n",
       "                rep_legal         fechahora_consulta  \n",
       "1                    None 2023-01-25 14:57:31.205343  \n",
       "2                    None 2023-01-25 14:57:31.205343  \n",
       "3                    None 2023-01-25 14:57:31.205343  \n",
       "4  ANA LUCIA DIAZ GUEVARA 2023-01-25 14:57:31.205343  \n",
       "5                    None 2023-01-25 14:57:31.205343  "
      ]
     },
     "execution_count": 13,
     "metadata": {},
     "output_type": "execute_result"
    }
   ],
   "source": [
    "data[\"prestadores\"].head()"
   ]
  },
  {
   "cell_type": "code",
   "execution_count": 31,
   "metadata": {},
   "outputs": [
    {
     "data": {
      "image/png": "[encoded data removed]",
      "text/plain": [
       "<Figure size 1000x600 with 1 Axes>"
      ]
     },
     "metadata": {},
     "output_type": "display_data"
    }
   ],
   "source": [
    "data[\"prestadores\"].groupby([\"depa_nombre\"]).agg(prestadores=(\"nits_nit\",\"nunique\")).sort_values(\"prestadores\").plot(kind=\"barh\", figsize=(10,6), title=\"# unique NIT\");"
   ]
  },
  {
   "cell_type": "code",
   "execution_count": 21,
   "metadata": {},
   "outputs": [
    {
     "name": "stdout",
     "output_type": "stream",
     "text": [
      "END...  14.6 min.\n"
     ]
    }
   ],
   "source": [
    "print(\"END... \", round((time.time()-start_i)/60,1),\"min.\")"
   ]
  },
  {
   "cell_type": "code",
   "execution_count": null,
   "metadata": {},
   "outputs": [],
   "source": []
  }
 ],
 "metadata": {
  "kernelspec": {
   "display_name": "Python 3",
   "language": "python",
   "name": "python3"
  },
  "language_info": {
   "codemirror_mode": {
    "name": "ipython",
    "version": 3
   },
   "file_extension": ".py",
   "mimetype": "text/x-python",
   "name": "python",
   "nbconvert_exporter": "python",
   "pygments_lexer": "ipython3",
   "version": "3.9.13"
  },
  "orig_nbformat": 4,
  "vscode": {
   "interpreter": {
    "hash": "22e5dea1628f7e1c945df06b9a2434c5192832944f53cfc6bc7b26069c0c4ffd"
   }
  }
 },
 "nbformat": 4,
 "nbformat_minor": 2
}
