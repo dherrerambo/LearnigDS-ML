{
 "cells": [
  {
   "attachments": {},
   "cell_type": "markdown",
   "metadata": {},
   "source": [
    "# Python y Snowflake\n",
    "\n",
    "1. Crea conexion a Snowflake\n",
    "2. Consulta una tabla en Snowflake\n",
    "3. Convierte el resultado en un DataFrame"
   ]
  },
  {
   "cell_type": "code",
   "execution_count": 1,
   "metadata": {},
   "outputs": [],
   "source": [
    "import snowflake.connector\n",
    "import pandas as pd"
   ]
  },
  {
   "cell_type": "markdown",
   "metadata": {},
   "source": [
    "Cargar variables de entorno"
   ]
  },
  {
   "cell_type": "code",
   "execution_count": 2,
   "metadata": {},
   "outputs": [],
   "source": [
    "def load_credentials():\n",
    "\n",
    "    from dotenv import load_dotenv\n",
    "    from os import environ\n",
    "\n",
    "    def load_secrets():\n",
    "        credentials = dict()\n",
    "        credentials[\"user\"] = environ.get(\"snowflake_user\")\n",
    "        credentials[\"password\"] = environ.get(\"snowflake_password\")\n",
    "        credentials[\"role\"] = environ.get(\"snowflake_role\")\n",
    "        credentials[\"account\"] = environ.get(\"snowflake_account\")\n",
    "        credentials[\"warehouse\"] = environ.get(\"snowflake_wh\")\n",
    "        for k,v in credentials.items():\n",
    "            if v==None:\n",
    "                e = f\"value for [{k}] is None.\"\n",
    "                raise Exception(e)\n",
    "        return credentials\n",
    "\n",
    "    try:\n",
    "        credentials = load_secrets()\n",
    "        print(\"Variables cargadadas desde el entorno local.\")\n",
    "    except:\n",
    "        load_dotenv()\n",
    "        credentials = load_secrets()\n",
    "        print(\"Variables cargadadas desde [.env]\")\n",
    "    \n",
    "    credentials.update({\"host\": f'{credentials[\"account\"]}.us-east-1.snowflakecomputing.com'})\n",
    "    \n",
    "    return credentials"
   ]
  },
  {
   "cell_type": "code",
   "execution_count": 3,
   "metadata": {},
   "outputs": [
    {
     "name": "stdout",
     "output_type": "stream",
     "text": [
      "Variables cargadadas desde [.env]\n"
     ]
    },
    {
     "data": {
      "text/plain": [
       "dict_keys(['user', 'password', 'role', 'account', 'warehouse', 'host'])"
      ]
     },
     "execution_count": 3,
     "metadata": {},
     "output_type": "execute_result"
    }
   ],
   "source": [
    "credentials = load_credentials()\n",
    "credentials.keys()"
   ]
  },
  {
   "attachments": {},
   "cell_type": "markdown",
   "metadata": {},
   "source": [
    "1. Crear conexion"
   ]
  },
  {
   "cell_type": "code",
   "execution_count": 4,
   "metadata": {},
   "outputs": [
    {
     "data": {
      "text/plain": [
       "<snowflake.connector.connection.SnowflakeConnection at 0x261321ca640>"
      ]
     },
     "execution_count": 4,
     "metadata": {},
     "output_type": "execute_result"
    }
   ],
   "source": [
    "conn = snowflake.connector.connect(**credentials)\n",
    "conn"
   ]
  },
  {
   "attachments": {},
   "cell_type": "markdown",
   "metadata": {},
   "source": [
    "2. Realizar Querys"
   ]
  },
  {
   "cell_type": "code",
   "execution_count": 5,
   "metadata": {},
   "outputs": [
    {
     "name": "stdout",
     "output_type": "stream",
     "text": [
      "Consultar tabla [divipola] de snowflake.\n"
     ]
    }
   ],
   "source": [
    "database='SNOWFLAKE'\n",
    "schema='ref'\n",
    "tb = 'divipola'\n",
    "sql = f\"select * from {database}.{schema}.{tb};\"\n",
    "print(f\"Consultar tabla [{tb}] de snowflake.\")"
   ]
  },
  {
   "cell_type": "markdown",
   "metadata": {},
   "source": [
    "3. Retorna el resultado de un query en un Df."
   ]
  },
  {
   "cell_type": "code",
   "execution_count": 6,
   "metadata": {},
   "outputs": [],
   "source": [
    "def run_sql_query(sql:str, conn):\n",
    "    cur = conn.cursor()\n",
    "    cur.execute(sql)\n",
    "    df = pd.DataFrame.from_records(iter(cur), columns=[x[0] for x in cur.description])\n",
    "    print(\"df.shape = \", df.shape)\n",
    "    return df"
   ]
  },
  {
   "cell_type": "code",
   "execution_count": 7,
   "metadata": {},
   "outputs": [
    {
     "name": "stdout",
     "output_type": "stream",
     "text": [
      "df.shape =  (1122, 4)\n",
      "CPU times: total: 78.1 ms\n",
      "Wall time: 423 ms\n"
     ]
    },
    {
     "data": {
      "text/html": [
       "<div>\n",
       "<style scoped>\n",
       "    .dataframe tbody tr th:only-of-type {\n",
       "        vertical-align: middle;\n",
       "    }\n",
       "\n",
       "    .dataframe tbody tr th {\n",
       "        vertical-align: top;\n",
       "    }\n",
       "\n",
       "    .dataframe thead th {\n",
       "        text-align: right;\n",
       "    }\n",
       "</style>\n",
       "<table border=\"1\" class=\"dataframe\">\n",
       "  <thead>\n",
       "    <tr style=\"text-align: right;\">\n",
       "      <th></th>\n",
       "      <th>DEPARTAMENTO_COD</th>\n",
       "      <th>DEPARTAMENTO</th>\n",
       "      <th>DIVIPOLA</th>\n",
       "      <th>MUNICIPIO</th>\n",
       "    </tr>\n",
       "  </thead>\n",
       "  <tbody>\n",
       "    <tr>\n",
       "      <th>0</th>\n",
       "      <td>11</td>\n",
       "      <td>Bogotá, D.C.</td>\n",
       "      <td>11001</td>\n",
       "      <td>Bogotá, D.C.</td>\n",
       "    </tr>\n",
       "    <tr>\n",
       "      <th>1</th>\n",
       "      <td>15</td>\n",
       "      <td>Boyacá</td>\n",
       "      <td>15226</td>\n",
       "      <td>Cuítiva</td>\n",
       "    </tr>\n",
       "    <tr>\n",
       "      <th>2</th>\n",
       "      <td>15</td>\n",
       "      <td>Boyacá</td>\n",
       "      <td>15518</td>\n",
       "      <td>Pajarito</td>\n",
       "    </tr>\n",
       "    <tr>\n",
       "      <th>3</th>\n",
       "      <td>25</td>\n",
       "      <td>Cundinamarca</td>\n",
       "      <td>25394</td>\n",
       "      <td>La Palma</td>\n",
       "    </tr>\n",
       "    <tr>\n",
       "      <th>4</th>\n",
       "      <td>47</td>\n",
       "      <td>Magdalena</td>\n",
       "      <td>47605</td>\n",
       "      <td>Remolino</td>\n",
       "    </tr>\n",
       "  </tbody>\n",
       "</table>\n",
       "</div>"
      ],
      "text/plain": [
       "  DEPARTAMENTO_COD  DEPARTAMENTO DIVIPOLA     MUNICIPIO\n",
       "0               11  Bogotá, D.C.    11001  Bogotá, D.C.\n",
       "1               15        Boyacá    15226       Cuítiva\n",
       "2               15        Boyacá    15518      Pajarito\n",
       "3               25  Cundinamarca    25394      La Palma\n",
       "4               47     Magdalena    47605      Remolino"
      ]
     },
     "execution_count": 7,
     "metadata": {},
     "output_type": "execute_result"
    }
   ],
   "source": [
    "%%time\n",
    "df = run_sql_query(sql=sql, conn=conn)\n",
    "df.head()"
   ]
  },
  {
   "cell_type": "code",
   "execution_count": null,
   "metadata": {},
   "outputs": [],
   "source": []
  }
 ],
 "metadata": {
  "kernelspec": {
   "display_name": "Python 3",
   "language": "python",
   "name": "python3"
  },
  "language_info": {
   "codemirror_mode": {
    "name": "ipython",
    "version": 3
   },
   "file_extension": ".py",
   "mimetype": "text/x-python",
   "name": "python",
   "nbconvert_exporter": "python",
   "pygments_lexer": "ipython3",
   "version": "3.9.13"
  },
  "orig_nbformat": 4,
  "vscode": {
   "interpreter": {
    "hash": "22e5dea1628f7e1c945df06b9a2434c5192832944f53cfc6bc7b26069c0c4ffd"
   }
  }
 },
 "nbformat": 4,
 "nbformat_minor": 2
}
