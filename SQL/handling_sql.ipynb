{
 "cells": [
  {
   "cell_type": "markdown",
   "metadata": {},
   "source": []
  },
  {
   "cell_type": "markdown",
   "metadata": {},
   "source": [
    "Query to extract pattern of date\n",
    "\n",
    "```sql\n",
    "select \n",
    "\tregexp_replace(replace(fecha_consulta ,'/','-'),'\\d','x') as pattern\n",
    "\t, max(if(regexp_replace(replace(fecha_consulta ,'/','-'),'\\d','x')='xx-x-xxxx', substring(fecha_consulta,3,1))) as val_1\n",
    "\t, max(if(regexp_replace(replace(fecha_consulta ,'/','-'),'\\d','x')='xx-x-xxxx', substring(fecha_consulta,1,2))) as val_2\n",
    "\t, count() as reg\n",
    "from \"database\".\"table\"\n",
    "group by 1\n",
    "```\n",
    "\n",
    "The results is something like this:\n",
    "\n",
    "|pattern|val_1|val_2|reg|\n",
    "|-----|-----|-----|-----|\n",
    "|xx-xx-xxxx|||26573555|\n",
    "|xxxx-xx-xx|||11817951|\n",
    "|x-xx-xxxx|||660633|\n",
    "|xx-x-xxxx|/|31|2854|\n",
    "|xxxxxxxx|||113|\n",
    "||||2096|\n",
    "|x-x-xxxx|||1824|\n"
   ]
  },
  {
   "cell_type": "code",
   "execution_count": null,
   "metadata": {},
   "outputs": [],
   "source": []
  }
 ],
 "metadata": {
  "kernelspec": {
   "display_name": "Python 3.9.10 64-bit",
   "language": "python",
   "name": "python3"
  },
  "language_info": {
   "name": "python",
   "version": "3.9.10"
  },
  "orig_nbformat": 4,
  "vscode": {
   "interpreter": {
    "hash": "22e5dea1628f7e1c945df06b9a2434c5192832944f53cfc6bc7b26069c0c4ffd"
   }
  }
 },
 "nbformat": 4,
 "nbformat_minor": 2
}
