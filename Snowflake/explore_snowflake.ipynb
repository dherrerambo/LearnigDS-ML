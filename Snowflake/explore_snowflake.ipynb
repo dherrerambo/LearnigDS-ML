{
 "cells": [
  {
   "cell_type": "code",
   "execution_count": 19,
   "metadata": {},
   "outputs": [
    {
     "name": "stdout",
     "output_type": "stream",
     "text": [
      "Requirement already satisfied: snowflake-connector-python in c:\\python\\py39\\lib\\site-packages (2.7.12)\n",
      "Requirement already satisfied: typing-extensions<5,>=4.3 in c:\\python\\py39\\lib\\site-packages (from snowflake-connector-python) (4.3.0)\n",
      "Requirement already satisfied: filelock<4,>=3.5 in c:\\python\\py39\\lib\\site-packages (from snowflake-connector-python) (3.8.0)\n",
      "Requirement already satisfied: pycryptodomex!=3.5.0,<4.0.0,>=3.2 in c:\\python\\py39\\lib\\site-packages (from snowflake-connector-python) (3.15.0)\n",
      "Requirement already satisfied: pytz in c:\\python\\py39\\lib\\site-packages (from snowflake-connector-python) (2022.1)\n",
      "Requirement already satisfied: pyOpenSSL<23.0.0,>=16.2.0 in c:\\users\\dherrera\\appdata\\roaming\\python\\python39\\site-packages (from snowflake-connector-python) (22.0.0)\n",
      "Requirement already satisfied: cryptography<37.0.0,>=3.1.0 in c:\\python\\py39\\lib\\site-packages (from snowflake-connector-python) (36.0.2)\n",
      "Requirement already satisfied: charset-normalizer<3,>=2 in c:\\python\\py39\\lib\\site-packages (from snowflake-connector-python) (2.0.12)\n",
      "Requirement already satisfied: urllib3<1.27,>=1.21.1 in c:\\python\\py39\\lib\\site-packages (from snowflake-connector-python) (1.26.12)\n",
      "Requirement already satisfied: cffi<2.0.0,>=1.9 in c:\\python\\py39\\lib\\site-packages (from snowflake-connector-python) (1.15.1)\n",
      "Requirement already satisfied: requests<3.0.0 in c:\\python\\py39\\lib\\site-packages (from snowflake-connector-python) (2.28.1)\n",
      "Requirement already satisfied: setuptools>34.0.0 in c:\\python\\py39\\lib\\site-packages (from snowflake-connector-python) (58.1.0)\n",
      "Requirement already satisfied: oscrypto<2.0.0 in c:\\python\\py39\\lib\\site-packages (from snowflake-connector-python) (1.3.0)\n",
      "Requirement already satisfied: pyjwt<3.0.0 in c:\\python\\py39\\lib\\site-packages (from snowflake-connector-python) (2.4.0)\n",
      "Requirement already satisfied: certifi>=2017.4.17 in c:\\python\\py39\\lib\\site-packages (from snowflake-connector-python) (2022.6.15)\n",
      "Requirement already satisfied: idna<4,>=2.5 in c:\\python\\py39\\lib\\site-packages (from snowflake-connector-python) (3.3)\n",
      "Requirement already satisfied: asn1crypto<2.0.0,>0.24.0 in c:\\python\\py39\\lib\\site-packages (from snowflake-connector-python) (1.5.1)\n",
      "Requirement already satisfied: pycparser in c:\\python\\py39\\lib\\site-packages (from cffi<2.0.0,>=1.9->snowflake-connector-python) (2.21)\n"
     ]
    }
   ],
   "source": [
    "!pip install -r https://raw.githubusercontent.com/snowflakedb/snowflake-connector-python/v2.7.9/tested_requirements/requirements_36.reqs\n",
    "# !pip install snowflake-connector-python\n",
    "# !pip install snowflake-connector-python==2.7.9"
   ]
  },
  {
   "cell_type": "code",
   "execution_count": 20,
   "metadata": {},
   "outputs": [],
   "source": [
    "import base64\n",
    "# import snowflake.connector\n",
    "# from snowflake import connector\n"
   ]
  },
  {
   "cell_type": "code",
   "execution_count": 23,
   "metadata": {},
   "outputs": [
    {
     "ename": "ImportError",
     "evalue": "cannot import name 'connector' from 'snowflake' (c:\\Python\\py39\\lib\\site-packages\\snowflake.py)",
     "output_type": "error",
     "traceback": [
      "\u001b[1;31m---------------------------------------------------------------------------\u001b[0m",
      "\u001b[1;31mImportError\u001b[0m                               Traceback (most recent call last)",
      "\u001b[1;32md:\\dherrera\\OneDrive - COOSALUD EPS-S\\PERSONAL\\LearnigDS-ML\\Snowflake\\explore_snowflake.ipynb Celda 3\u001b[0m in \u001b[0;36m<cell line: 1>\u001b[1;34m()\u001b[0m\n\u001b[1;32m----> <a href='vscode-notebook-cell:/d%3A/dherrera/OneDrive%20-%20COOSALUD%20EPS-S/PERSONAL/LearnigDS-ML/Snowflake/explore_snowflake.ipynb#X11sZmlsZQ%3D%3D?line=0'>1</a>\u001b[0m \u001b[39mfrom\u001b[39;00m \u001b[39msnowflake\u001b[39;00m \u001b[39mimport\u001b[39;00m connector\n",
      "\u001b[1;31mImportError\u001b[0m: cannot import name 'connector' from 'snowflake' (c:\\Python\\py39\\lib\\site-packages\\snowflake.py)"
     ]
    }
   ],
   "source": [
    "from snowflake import connector"
   ]
  },
  {
   "cell_type": "code",
   "execution_count": 24,
   "metadata": {},
   "outputs": [
    {
     "ename": "ModuleNotFoundError",
     "evalue": "No module named 'snowflake.connector'; 'snowflake' is not a package",
     "output_type": "error",
     "traceback": [
      "\u001b[1;31m---------------------------------------------------------------------------\u001b[0m",
      "\u001b[1;31mModuleNotFoundError\u001b[0m                       Traceback (most recent call last)",
      "\u001b[1;32md:\\dherrera\\OneDrive - COOSALUD EPS-S\\PERSONAL\\LearnigDS-ML\\Snowflake\\explore_snowflake.ipynb Celda 4\u001b[0m in \u001b[0;36m<cell line: 1>\u001b[1;34m()\u001b[0m\n\u001b[1;32m----> <a href='vscode-notebook-cell:/d%3A/dherrera/OneDrive%20-%20COOSALUD%20EPS-S/PERSONAL/LearnigDS-ML/Snowflake/explore_snowflake.ipynb#W6sZmlsZQ%3D%3D?line=0'>1</a>\u001b[0m \u001b[39mimport\u001b[39;00m \u001b[39msnowflake\u001b[39;00m\u001b[39m.\u001b[39;00m\u001b[39mconnector\u001b[39;00m\n",
      "\u001b[1;31mModuleNotFoundError\u001b[0m: No module named 'snowflake.connector'; 'snowflake' is not a package"
     ]
    }
   ],
   "source": [
    "import snowflake.connector"
   ]
  },
  {
   "cell_type": "code",
   "execution_count": null,
   "metadata": {},
   "outputs": [],
   "source": [
    "# Datos para conexión con db Snowflake\n",
    "credentials = eval(open(\"__credentials.json\",mode=\"r\").read())\n",
    "user_snowflake = base64.b64decode(credentials[\"user\"]).decode('utf-8')\n",
    "pass_snowflake = base64.b64decode(credentials[\"pass\"]).decode('utf-8')"
   ]
  },
  {
   "cell_type": "code",
   "execution_count": null,
   "metadata": {},
   "outputs": [],
   "source": [
    "con = snowflake.connector.connect(\n",
    "            user=user_snowflake,\n",
    "            password=pass_snowflake,\n",
    "            account=credentials[\"account\"],\n",
    "            host=f'{credentials[\"account\"]}.us-east-1.snowflakecomputing.com',\n",
    "            warehouse=\"COMPUTE_WH\"\n",
    "        )"
   ]
  },
  {
   "cell_type": "code",
   "execution_count": 1,
   "metadata": {},
   "outputs": [],
   "source": []
  },
  {
   "cell_type": "code",
   "execution_count": 4,
   "metadata": {},
   "outputs": [
    {
     "data": {
      "text/plain": [
       "{'account': 'gra06523', 'user': 'ZHdoYWRtaW4=', 'pass': 'QVdTYWRtZHdoMSo='}"
      ]
     },
     "execution_count": 4,
     "metadata": {},
     "output_type": "execute_result"
    }
   ],
   "source": []
  },
  {
   "cell_type": "code",
   "execution_count": 9,
   "metadata": {},
   "outputs": [
    {
     "data": {
      "text/plain": [
       "dict"
      ]
     },
     "execution_count": 9,
     "metadata": {},
     "output_type": "execute_result"
    }
   ],
   "source": []
  }
 ],
 "metadata": {
  "kernelspec": {
   "display_name": "Python 3.9.13 64-bit",
   "language": "python",
   "name": "python3"
  },
  "language_info": {
   "codemirror_mode": {
    "name": "ipython",
    "version": 3
   },
   "file_extension": ".py",
   "mimetype": "text/x-python",
   "name": "python",
   "nbconvert_exporter": "python",
   "pygments_lexer": "ipython3",
   "version": "3.9.13"
  },
  "orig_nbformat": 4,
  "vscode": {
   "interpreter": {
    "hash": "22e5dea1628f7e1c945df06b9a2434c5192832944f53cfc6bc7b26069c0c4ffd"
   }
  }
 },
 "nbformat": 4,
 "nbformat_minor": 2
}
